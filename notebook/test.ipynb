{
 "metadata": {
  "language_info": {
   "codemirror_mode": {
    "name": "ipython",
    "version": 3
   },
   "file_extension": ".py",
   "mimetype": "text/x-python",
   "name": "python",
   "nbconvert_exporter": "python",
   "pygments_lexer": "ipython3",
   "version": "3.7.10"
  },
  "orig_nbformat": 2,
  "kernelspec": {
   "name": "python3710jvsc74a57bd0aa7a65bb504d4680d310f3d4d9d722f40741db1be38003e80b36e0609a7bca1b",
   "display_name": "Python 3.7.10 64-bit ('homl2': conda)"
  }
 },
 "nbformat": 4,
 "nbformat_minor": 2,
 "cells": [
  {
   "cell_type": "code",
   "execution_count": 114,
   "metadata": {},
   "outputs": [],
   "source": [
    "import pandas as pd"
   ]
  },
  {
   "cell_type": "code",
   "execution_count": 115,
   "metadata": {},
   "outputs": [],
   "source": [
    "df = pd.read_csv('/opt/ml/code/input/train.csv')"
   ]
  },
  {
   "cell_type": "code",
   "execution_count": 116,
   "metadata": {},
   "outputs": [
    {
     "output_type": "execute_result",
     "data": {
      "text/plain": [
       "5914"
      ]
     },
     "metadata": {},
     "execution_count": 116
    }
   ],
   "source": [
    "len(df.customer_id.unique())"
   ]
  },
  {
   "cell_type": "code",
   "execution_count": 109,
   "metadata": {},
   "outputs": [],
   "source": [
    "array = 'DOT TEST002 BANK CHARGES PADS ADJUST2 CRUK TEST001 ADJUST D M'.split(' ')\n",
    "\n",
    "array = 'PADS D'.split(' ') # 전처리 대상"
   ]
  },
  {
   "cell_type": "code",
   "execution_count": 110,
   "metadata": {},
   "outputs": [],
   "source": [
    "df.drop(df[df.product_id.isin(array)].index.values, inplace=True)"
   ]
  },
  {
   "cell_type": "code",
   "execution_count": 111,
   "metadata": {},
   "outputs": [
    {
     "output_type": "execute_result",
     "data": {
      "text/plain": [
       "Empty DataFrame\n",
       "Columns: [order_id, product_id, description, quantity, order_date, price, customer_id, country, total]\n",
       "Index: []"
      ],
      "text/html": "<div>\n<style scoped>\n    .dataframe tbody tr th:only-of-type {\n        vertical-align: middle;\n    }\n\n    .dataframe tbody tr th {\n        vertical-align: top;\n    }\n\n    .dataframe thead th {\n        text-align: right;\n    }\n</style>\n<table border=\"1\" class=\"dataframe\">\n  <thead>\n    <tr style=\"text-align: right;\">\n      <th></th>\n      <th>order_id</th>\n      <th>product_id</th>\n      <th>description</th>\n      <th>quantity</th>\n      <th>order_date</th>\n      <th>price</th>\n      <th>customer_id</th>\n      <th>country</th>\n      <th>total</th>\n    </tr>\n  </thead>\n  <tbody>\n  </tbody>\n</table>\n</div>"
     },
     "metadata": {},
     "execution_count": 111
    }
   ],
   "source": [
    "df[df.product_id.isin(array)] "
   ]
  },
  {
   "cell_type": "code",
   "execution_count": 112,
   "metadata": {},
   "outputs": [
    {
     "output_type": "execute_result",
     "data": {
      "text/plain": [
       "5914"
      ]
     },
     "metadata": {},
     "execution_count": 112
    }
   ],
   "source": [
    "len(df.customer_id.unique())"
   ]
  },
  {
   "cell_type": "code",
   "execution_count": 113,
   "metadata": {},
   "outputs": [],
   "source": [
    "df.to_csv('/opt/ml/code/input/train_update.csv', index=False)"
   ]
  },
  {
   "cell_type": "code",
   "execution_count": 93,
   "metadata": {},
   "outputs": [
    {
     "output_type": "execute_result",
     "data": {
      "text/plain": [
       "array([14911, 12745, 16154, 12606, 13054, 12454, 15383, 12706, 12404,\n",
       "       16840, 12382, 12466, 16291, 12555, 14156, 12858, 14912, 14413,\n",
       "       14653, 12846, 16575, 12647, 13664, 14285, 16047, 12792, 12709,\n",
       "       12696, 17130, 15357, 13776, 12600, 17940, 15266, 17867, 16168,\n",
       "       14380, 13468, 13136, 14079, 17672, 12497, 12471, 15702, 14358,\n",
       "       12826, 13327, 12346, 12570, 12748, 17050, 16422, 17364])"
      ]
     },
     "metadata": {},
     "execution_count": 93
    }
   ],
   "source": [
    "pd.set_option('display.max_row', 70) # 후처리 대상?\r\n",
    "df[df.product_id.isin(['ADJUST', 'ADJUST2', 'TEST001', 'TEST002'])].customer_id.unique()"
   ]
  },
  {
   "cell_type": "code",
   "execution_count": 94,
   "metadata": {},
   "outputs": [
    {
     "output_type": "execute_result",
     "data": {
      "text/plain": [
       "       order_id product_id              description  quantity  \\\n",
       "21447    491725    TEST001  This is a test product.        10   \n",
       "21702    491742    TEST001  This is a test product.         5   \n",
       "21705    491744    TEST001  This is a test product.         5   \n",
       "28492    492718    TEST001  This is a test product.         5   \n",
       "31276    493410    TEST001  This is a test product.         5   \n",
       "31278    493412    TEST001  This is a test product.         5   \n",
       "37892    494450    TEST001  This is a test product.         5   \n",
       "44909    495295    TEST001  This is a test product.         5   \n",
       "62932    497819    TEST001  This is a test product.         5   \n",
       "63021    497843    TEST001  This is a test product.         5   \n",
       "116368   504188    TEST001  This is a test product.         5   \n",
       "291614  C525272    TEST001  This is a test product.        -1   \n",
       "291615  C525273    TEST001  This is a test product.        -1   \n",
       "291616  C525274    TEST001  This is a test product.        -1   \n",
       "291617  C525275    TEST001  This is a test product.        -2   \n",
       "\n",
       "                 order_date  price  customer_id         country   total  \n",
       "21447   2009-12-14 08:34:00  7.425        12346  United Kingdom  74.250  \n",
       "21702   2009-12-14 11:00:00  7.425        12346  United Kingdom  37.125  \n",
       "21705   2009-12-14 11:02:00  7.425        12346  United Kingdom  37.125  \n",
       "28492   2009-12-18 10:47:00  7.425        12346  United Kingdom  37.125  \n",
       "31276   2010-01-04 09:24:00  7.425        12346  United Kingdom  37.125  \n",
       "31278   2010-01-04 09:53:00  7.425        12346  United Kingdom  37.125  \n",
       "37892   2010-01-14 13:50:00  7.425        12346  United Kingdom  37.125  \n",
       "44909   2010-01-22 13:30:00  7.425        12346  United Kingdom  37.125  \n",
       "62932   2010-02-12 14:58:00  0.000        14103  United Kingdom   0.000  \n",
       "63021   2010-02-12 15:47:00  0.000        14827  United Kingdom   0.000  \n",
       "116368  2010-04-12 09:52:00  7.425        16454  United Kingdom  37.125  \n",
       "291614  2010-10-04 16:29:00  7.425        16454  United Kingdom  -7.425  \n",
       "291615  2010-10-04 16:30:00  7.425        16454  United Kingdom  -7.425  \n",
       "291616  2010-10-04 16:33:00  7.425        12346  United Kingdom  -7.425  \n",
       "291617  2010-10-04 16:38:00  7.425        16446  United Kingdom -14.850  "
      ],
      "text/html": "<div>\n<style scoped>\n    .dataframe tbody tr th:only-of-type {\n        vertical-align: middle;\n    }\n\n    .dataframe tbody tr th {\n        vertical-align: top;\n    }\n\n    .dataframe thead th {\n        text-align: right;\n    }\n</style>\n<table border=\"1\" class=\"dataframe\">\n  <thead>\n    <tr style=\"text-align: right;\">\n      <th></th>\n      <th>order_id</th>\n      <th>product_id</th>\n      <th>description</th>\n      <th>quantity</th>\n      <th>order_date</th>\n      <th>price</th>\n      <th>customer_id</th>\n      <th>country</th>\n      <th>total</th>\n    </tr>\n  </thead>\n  <tbody>\n    <tr>\n      <th>21447</th>\n      <td>491725</td>\n      <td>TEST001</td>\n      <td>This is a test product.</td>\n      <td>10</td>\n      <td>2009-12-14 08:34:00</td>\n      <td>7.425</td>\n      <td>12346</td>\n      <td>United Kingdom</td>\n      <td>74.250</td>\n    </tr>\n    <tr>\n      <th>21702</th>\n      <td>491742</td>\n      <td>TEST001</td>\n      <td>This is a test product.</td>\n      <td>5</td>\n      <td>2009-12-14 11:00:00</td>\n      <td>7.425</td>\n      <td>12346</td>\n      <td>United Kingdom</td>\n      <td>37.125</td>\n    </tr>\n    <tr>\n      <th>21705</th>\n      <td>491744</td>\n      <td>TEST001</td>\n      <td>This is a test product.</td>\n      <td>5</td>\n      <td>2009-12-14 11:02:00</td>\n      <td>7.425</td>\n      <td>12346</td>\n      <td>United Kingdom</td>\n      <td>37.125</td>\n    </tr>\n    <tr>\n      <th>28492</th>\n      <td>492718</td>\n      <td>TEST001</td>\n      <td>This is a test product.</td>\n      <td>5</td>\n      <td>2009-12-18 10:47:00</td>\n      <td>7.425</td>\n      <td>12346</td>\n      <td>United Kingdom</td>\n      <td>37.125</td>\n    </tr>\n    <tr>\n      <th>31276</th>\n      <td>493410</td>\n      <td>TEST001</td>\n      <td>This is a test product.</td>\n      <td>5</td>\n      <td>2010-01-04 09:24:00</td>\n      <td>7.425</td>\n      <td>12346</td>\n      <td>United Kingdom</td>\n      <td>37.125</td>\n    </tr>\n    <tr>\n      <th>31278</th>\n      <td>493412</td>\n      <td>TEST001</td>\n      <td>This is a test product.</td>\n      <td>5</td>\n      <td>2010-01-04 09:53:00</td>\n      <td>7.425</td>\n      <td>12346</td>\n      <td>United Kingdom</td>\n      <td>37.125</td>\n    </tr>\n    <tr>\n      <th>37892</th>\n      <td>494450</td>\n      <td>TEST001</td>\n      <td>This is a test product.</td>\n      <td>5</td>\n      <td>2010-01-14 13:50:00</td>\n      <td>7.425</td>\n      <td>12346</td>\n      <td>United Kingdom</td>\n      <td>37.125</td>\n    </tr>\n    <tr>\n      <th>44909</th>\n      <td>495295</td>\n      <td>TEST001</td>\n      <td>This is a test product.</td>\n      <td>5</td>\n      <td>2010-01-22 13:30:00</td>\n      <td>7.425</td>\n      <td>12346</td>\n      <td>United Kingdom</td>\n      <td>37.125</td>\n    </tr>\n    <tr>\n      <th>62932</th>\n      <td>497819</td>\n      <td>TEST001</td>\n      <td>This is a test product.</td>\n      <td>5</td>\n      <td>2010-02-12 14:58:00</td>\n      <td>0.000</td>\n      <td>14103</td>\n      <td>United Kingdom</td>\n      <td>0.000</td>\n    </tr>\n    <tr>\n      <th>63021</th>\n      <td>497843</td>\n      <td>TEST001</td>\n      <td>This is a test product.</td>\n      <td>5</td>\n      <td>2010-02-12 15:47:00</td>\n      <td>0.000</td>\n      <td>14827</td>\n      <td>United Kingdom</td>\n      <td>0.000</td>\n    </tr>\n    <tr>\n      <th>116368</th>\n      <td>504188</td>\n      <td>TEST001</td>\n      <td>This is a test product.</td>\n      <td>5</td>\n      <td>2010-04-12 09:52:00</td>\n      <td>7.425</td>\n      <td>16454</td>\n      <td>United Kingdom</td>\n      <td>37.125</td>\n    </tr>\n    <tr>\n      <th>291614</th>\n      <td>C525272</td>\n      <td>TEST001</td>\n      <td>This is a test product.</td>\n      <td>-1</td>\n      <td>2010-10-04 16:29:00</td>\n      <td>7.425</td>\n      <td>16454</td>\n      <td>United Kingdom</td>\n      <td>-7.425</td>\n    </tr>\n    <tr>\n      <th>291615</th>\n      <td>C525273</td>\n      <td>TEST001</td>\n      <td>This is a test product.</td>\n      <td>-1</td>\n      <td>2010-10-04 16:30:00</td>\n      <td>7.425</td>\n      <td>16454</td>\n      <td>United Kingdom</td>\n      <td>-7.425</td>\n    </tr>\n    <tr>\n      <th>291616</th>\n      <td>C525274</td>\n      <td>TEST001</td>\n      <td>This is a test product.</td>\n      <td>-1</td>\n      <td>2010-10-04 16:33:00</td>\n      <td>7.425</td>\n      <td>12346</td>\n      <td>United Kingdom</td>\n      <td>-7.425</td>\n    </tr>\n    <tr>\n      <th>291617</th>\n      <td>C525275</td>\n      <td>TEST001</td>\n      <td>This is a test product.</td>\n      <td>-2</td>\n      <td>2010-10-04 16:38:00</td>\n      <td>7.425</td>\n      <td>16446</td>\n      <td>United Kingdom</td>\n      <td>-14.850</td>\n    </tr>\n  </tbody>\n</table>\n</div>"
     },
     "metadata": {},
     "execution_count": 94
    }
   ],
   "source": [
    "df[df.product_id.isin(['TEST001'])]"
   ]
  },
  {
   "cell_type": "code",
   "execution_count": 99,
   "metadata": {},
   "outputs": [
    {
     "output_type": "execute_result",
     "data": {
      "text/plain": [
       "      order_id product_id              description  quantity  \\\n",
       "28504   492722    TEST002  This is a test product.         1   \n",
       "\n",
       "                order_date  price  customer_id         country  total  \n",
       "28504  2009-12-18 10:55:00   1.65        12346  United Kingdom   1.65  "
      ],
      "text/html": "<div>\n<style scoped>\n    .dataframe tbody tr th:only-of-type {\n        vertical-align: middle;\n    }\n\n    .dataframe tbody tr th {\n        vertical-align: top;\n    }\n\n    .dataframe thead th {\n        text-align: right;\n    }\n</style>\n<table border=\"1\" class=\"dataframe\">\n  <thead>\n    <tr style=\"text-align: right;\">\n      <th></th>\n      <th>order_id</th>\n      <th>product_id</th>\n      <th>description</th>\n      <th>quantity</th>\n      <th>order_date</th>\n      <th>price</th>\n      <th>customer_id</th>\n      <th>country</th>\n      <th>total</th>\n    </tr>\n  </thead>\n  <tbody>\n    <tr>\n      <th>28504</th>\n      <td>492722</td>\n      <td>TEST002</td>\n      <td>This is a test product.</td>\n      <td>1</td>\n      <td>2009-12-18 10:55:00</td>\n      <td>1.65</td>\n      <td>12346</td>\n      <td>United Kingdom</td>\n      <td>1.65</td>\n    </tr>\n  </tbody>\n</table>\n</div>"
     },
     "metadata": {},
     "execution_count": 99
    }
   ],
   "source": [
    "df[df.product_id.isin(['TEST002'])]"
   ]
  },
  {
   "cell_type": "code",
   "execution_count": 118,
   "metadata": {},
   "outputs": [],
   "source": [
    "df2 = pd.read_csv('/opt/ml/code/input/train_update.csv')"
   ]
  },
  {
   "cell_type": "code",
   "execution_count": 122,
   "metadata": {},
   "outputs": [
    {
     "output_type": "execute_result",
     "data": {
      "text/plain": [
       "Empty DataFrame\n",
       "Columns: [order_id, product_id, description, quantity, order_date, price, customer_id, country, total]\n",
       "Index: []"
      ],
      "text/html": "<div>\n<style scoped>\n    .dataframe tbody tr th:only-of-type {\n        vertical-align: middle;\n    }\n\n    .dataframe tbody tr th {\n        vertical-align: top;\n    }\n\n    .dataframe thead th {\n        text-align: right;\n    }\n</style>\n<table border=\"1\" class=\"dataframe\">\n  <thead>\n    <tr style=\"text-align: right;\">\n      <th></th>\n      <th>order_id</th>\n      <th>product_id</th>\n      <th>description</th>\n      <th>quantity</th>\n      <th>order_date</th>\n      <th>price</th>\n      <th>customer_id</th>\n      <th>country</th>\n      <th>total</th>\n    </tr>\n  </thead>\n  <tbody>\n  </tbody>\n</table>\n</div>"
     },
     "metadata": {},
     "execution_count": 122
    }
   ],
   "source": [
    "df2[df2.product_id.isin(['D'])]"
   ]
  },
  {
   "cell_type": "code",
   "execution_count": null,
   "metadata": {},
   "outputs": [],
   "source": []
  }
 ]
}