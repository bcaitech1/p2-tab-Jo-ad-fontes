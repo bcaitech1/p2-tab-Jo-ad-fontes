{
 "metadata": {
  "language_info": {
   "codemirror_mode": {
    "name": "ipython",
    "version": 3
   },
   "file_extension": ".py",
   "mimetype": "text/x-python",
   "name": "python",
   "nbconvert_exporter": "python",
   "pygments_lexer": "ipython3",
   "version": "3.7.7"
  },
  "orig_nbformat": 2,
  "kernelspec": {
   "name": "python377jvsc74a57bd098b0a9b7b4eaaa670588a142fd0a9b87eaafe866f1db4228be72b4211d12040f",
   "display_name": "Python 3.7.7 64-bit ('base': conda)"
  }
 },
 "nbformat": 4,
 "nbformat_minor": 2,
 "cells": [
  {
   "cell_type": "code",
   "execution_count": 1,
   "metadata": {},
   "outputs": [],
   "source": [
    "import pandas as pd"
   ]
  },
  {
   "cell_type": "code",
   "execution_count": 2,
   "metadata": {},
   "outputs": [],
   "source": [
    "data = pd.read_csv(\"../input/train.csv\", parse_dates=[\"order_date\"])"
   ]
  },
  {
   "source": [
    "# 년도별 DataFrame"
   ],
   "cell_type": "markdown",
   "metadata": {}
  },
  {
   "cell_type": "code",
   "execution_count": 3,
   "metadata": {},
   "outputs": [
    {
     "output_type": "execute_result",
     "data": {
      "text/plain": [
       "       order_id product_id                          description  quantity  \\\n",
       "422634   539993      22386              JUMBO BAG PINK POLKADOT        10   \n",
       "422635   539993      21499                   BLUE POLKADOT WRAP        25   \n",
       "422636   539993      21498                  RED RETROSPOT WRAP         25   \n",
       "422637   539993      22379             RECYCLING BAG RETROSPOT          5   \n",
       "422638   539993      20718            RED RETROSPOT SHOPPER BAG        10   \n",
       "...         ...        ...                                  ...       ...   \n",
       "780497  C579886      22197                       POPCORN HOLDER        -1   \n",
       "780498  C579886      23146       TRIPLE HOOK ANTIQUE IVORY ROSE        -1   \n",
       "780499  C579887      84946         ANTIQUE SILVER T-LIGHT GLASS        -1   \n",
       "780500  C579887      85048  15CM CHRISTMAS GLASS BALL 20 LIGHTS        -1   \n",
       "780501  C579887      23490     T-LIGHT HOLDER HANGING LOVE BIRD        -3   \n",
       "\n",
       "                order_date    price  customer_id         country    total  \n",
       "422634 2011-01-04 10:00:00   3.2175        13313  United Kingdom  32.1750  \n",
       "422635 2011-01-04 10:00:00   0.6930        13313  United Kingdom  17.3250  \n",
       "422636 2011-01-04 10:00:00   0.6930        13313  United Kingdom  17.3250  \n",
       "422637 2011-01-04 10:00:00   3.4650        13313  United Kingdom  17.3250  \n",
       "422638 2011-01-04 10:00:00   2.0625        13313  United Kingdom  20.6250  \n",
       "...                    ...      ...          ...             ...      ...  \n",
       "780497 2011-11-30 17:39:00   1.4025        15676  United Kingdom  -1.4025  \n",
       "780498 2011-11-30 17:39:00   5.4285        15676  United Kingdom  -5.4285  \n",
       "780499 2011-11-30 17:42:00   2.0625        16717  United Kingdom  -2.0625  \n",
       "780500 2011-11-30 17:42:00  13.1175        16717  United Kingdom -13.1175  \n",
       "780501 2011-11-30 17:42:00   6.1875        16717  United Kingdom -18.5625  \n",
       "\n",
       "[357868 rows x 9 columns]"
      ],
      "text/html": "<div>\n<style scoped>\n    .dataframe tbody tr th:only-of-type {\n        vertical-align: middle;\n    }\n\n    .dataframe tbody tr th {\n        vertical-align: top;\n    }\n\n    .dataframe thead th {\n        text-align: right;\n    }\n</style>\n<table border=\"1\" class=\"dataframe\">\n  <thead>\n    <tr style=\"text-align: right;\">\n      <th></th>\n      <th>order_id</th>\n      <th>product_id</th>\n      <th>description</th>\n      <th>quantity</th>\n      <th>order_date</th>\n      <th>price</th>\n      <th>customer_id</th>\n      <th>country</th>\n      <th>total</th>\n    </tr>\n  </thead>\n  <tbody>\n    <tr>\n      <th>422634</th>\n      <td>539993</td>\n      <td>22386</td>\n      <td>JUMBO BAG PINK POLKADOT</td>\n      <td>10</td>\n      <td>2011-01-04 10:00:00</td>\n      <td>3.2175</td>\n      <td>13313</td>\n      <td>United Kingdom</td>\n      <td>32.1750</td>\n    </tr>\n    <tr>\n      <th>422635</th>\n      <td>539993</td>\n      <td>21499</td>\n      <td>BLUE POLKADOT WRAP</td>\n      <td>25</td>\n      <td>2011-01-04 10:00:00</td>\n      <td>0.6930</td>\n      <td>13313</td>\n      <td>United Kingdom</td>\n      <td>17.3250</td>\n    </tr>\n    <tr>\n      <th>422636</th>\n      <td>539993</td>\n      <td>21498</td>\n      <td>RED RETROSPOT WRAP</td>\n      <td>25</td>\n      <td>2011-01-04 10:00:00</td>\n      <td>0.6930</td>\n      <td>13313</td>\n      <td>United Kingdom</td>\n      <td>17.3250</td>\n    </tr>\n    <tr>\n      <th>422637</th>\n      <td>539993</td>\n      <td>22379</td>\n      <td>RECYCLING BAG RETROSPOT</td>\n      <td>5</td>\n      <td>2011-01-04 10:00:00</td>\n      <td>3.4650</td>\n      <td>13313</td>\n      <td>United Kingdom</td>\n      <td>17.3250</td>\n    </tr>\n    <tr>\n      <th>422638</th>\n      <td>539993</td>\n      <td>20718</td>\n      <td>RED RETROSPOT SHOPPER BAG</td>\n      <td>10</td>\n      <td>2011-01-04 10:00:00</td>\n      <td>2.0625</td>\n      <td>13313</td>\n      <td>United Kingdom</td>\n      <td>20.6250</td>\n    </tr>\n    <tr>\n      <th>...</th>\n      <td>...</td>\n      <td>...</td>\n      <td>...</td>\n      <td>...</td>\n      <td>...</td>\n      <td>...</td>\n      <td>...</td>\n      <td>...</td>\n      <td>...</td>\n    </tr>\n    <tr>\n      <th>780497</th>\n      <td>C579886</td>\n      <td>22197</td>\n      <td>POPCORN HOLDER</td>\n      <td>-1</td>\n      <td>2011-11-30 17:39:00</td>\n      <td>1.4025</td>\n      <td>15676</td>\n      <td>United Kingdom</td>\n      <td>-1.4025</td>\n    </tr>\n    <tr>\n      <th>780498</th>\n      <td>C579886</td>\n      <td>23146</td>\n      <td>TRIPLE HOOK ANTIQUE IVORY ROSE</td>\n      <td>-1</td>\n      <td>2011-11-30 17:39:00</td>\n      <td>5.4285</td>\n      <td>15676</td>\n      <td>United Kingdom</td>\n      <td>-5.4285</td>\n    </tr>\n    <tr>\n      <th>780499</th>\n      <td>C579887</td>\n      <td>84946</td>\n      <td>ANTIQUE SILVER T-LIGHT GLASS</td>\n      <td>-1</td>\n      <td>2011-11-30 17:42:00</td>\n      <td>2.0625</td>\n      <td>16717</td>\n      <td>United Kingdom</td>\n      <td>-2.0625</td>\n    </tr>\n    <tr>\n      <th>780500</th>\n      <td>C579887</td>\n      <td>85048</td>\n      <td>15CM CHRISTMAS GLASS BALL 20 LIGHTS</td>\n      <td>-1</td>\n      <td>2011-11-30 17:42:00</td>\n      <td>13.1175</td>\n      <td>16717</td>\n      <td>United Kingdom</td>\n      <td>-13.1175</td>\n    </tr>\n    <tr>\n      <th>780501</th>\n      <td>C579887</td>\n      <td>23490</td>\n      <td>T-LIGHT HOLDER HANGING LOVE BIRD</td>\n      <td>-3</td>\n      <td>2011-11-30 17:42:00</td>\n      <td>6.1875</td>\n      <td>16717</td>\n      <td>United Kingdom</td>\n      <td>-18.5625</td>\n    </tr>\n  </tbody>\n</table>\n<p>357868 rows × 9 columns</p>\n</div>"
     },
     "metadata": {},
     "execution_count": 3
    }
   ],
   "source": [
    "year_2009 = data[data['order_date'] < '2010']\n",
    "temp = data[data['order_date'] < '2011']\n",
    "year_2010 = temp[temp['order_date'] > '2009-12-31']\n",
    "year_2011 = data[data['order_date'] > '2010-12-31']\n",
    "year_2011"
   ]
  },
  {
   "source": [
    "# 최근 거래가 없는 id의 확률을 0으로 만들어야 하지 않을까?\n",
    "## 2009년 이후 거래가 없는 id 100명 -> 0 probability 0.004점 증가\n",
    "### 모델의 예측값을 확인할 필요가 있어 보인다.\n",
    "\n",
    "\n",
    "### 2009.12월 기준 1045명 (이전에 더 있었을 것)\n",
    "### 2010년도 1045 - 921 = 124명 거래 없음\n",
    "### 2011년도 4413 - 2696 = 1717명 거래 없음\n",
    "### 2011년도 4197 - 2696 = 1501명 신규"
   ],
   "cell_type": "markdown",
   "metadata": {}
  },
  {
   "cell_type": "code",
   "execution_count": 4,
   "metadata": {},
   "outputs": [
    {
     "output_type": "stream",
     "name": "stdout",
     "text": [
      "1045\n4289\n4197\n"
     ]
    }
   ],
   "source": [
    "print(len(year_2009.customer_id.unique()))\n",
    "print(len(year_2010.customer_id.unique()))\n",
    "print(len(year_2011.customer_id.unique()))"
   ]
  },
  {
   "cell_type": "code",
   "execution_count": 5,
   "metadata": {
    "tags": []
   },
   "outputs": [
    {
     "output_type": "stream",
     "name": "stdout",
     "text": [
      "921\n4413\n2696\n2672\n763\n"
     ]
    }
   ],
   "source": [
    "customer_id_2009 = set(year_2009.customer_id.unique())\n",
    "customer_id_2010 = set(year_2010.customer_id.unique())\n",
    "customer_id_2011 = set(year_2011.customer_id.unique())\n",
    "\n",
    "print(len(customer_id_2009 & customer_id_2010))\n",
    "print(len(customer_id_2009 | customer_id_2010))\n",
    "print(len((customer_id_2009 | customer_id_2010) & customer_id_2011))\n",
    "print(len(customer_id_2010 & customer_id_2011))\n",
    "print(len(customer_id_2009 & customer_id_2011))"
   ]
  },
  {
   "cell_type": "code",
   "execution_count": 6,
   "metadata": {},
   "outputs": [],
   "source": [
    "from matplotlib import pyplot as plt\n",
    "import numpy as np\n",
    "from matplotlib_venn import venn2, venn3, venn3_circles"
   ]
  },
  {
   "cell_type": "code",
   "execution_count": 7,
   "metadata": {},
   "outputs": [
    {
     "output_type": "display_data",
     "data": {
      "text/plain": "<Figure size 432x288 with 1 Axes>",
      "image/svg+xml": "<?xml version=\"1.0\" encoding=\"utf-8\" standalone=\"no\"?>\n<!DOCTYPE svg PUBLIC \"-//W3C//DTD SVG 1.1//EN\"\n  \"http://www.w3.org/Graphics/SVG/1.1/DTD/svg11.dtd\">\n<!-- Created with matplotlib (https://matplotlib.org/) -->\n<svg height=\"250.591749pt\" version=\"1.1\" viewBox=\"0 0 201.675358 250.591749\" width=\"201.675358pt\" xmlns=\"http://www.w3.org/2000/svg\" xmlns:xlink=\"http://www.w3.org/1999/xlink\">\n <defs>\n  <style type=\"text/css\">\n*{stroke-linecap:butt;stroke-linejoin:round;}\n  </style>\n </defs>\n <g id=\"figure_1\">\n  <g id=\"patch_1\">\n   <path d=\"M 0 250.591749 \nL 201.675358 250.591749 \nL 201.675358 0 \nL 0 0 \nz\n\" style=\"fill:none;\"/>\n  </g>\n  <g id=\"axes_1\">\n   <g id=\"patch_2\">\n    <path clip-path=\"url(#p0a87d07c2a)\" d=\"M 40.019907 79.609898 \nC 35.944358 82.037361 32.387445 85.245166 29.553341 89.049181 \nC 26.719237 92.853196 24.663225 97.179216 23.503323 101.778923 \nC 22.343422 106.37863 22.102257 111.162298 22.793671 115.855338 \nC 23.485086 120.548378 25.095592 125.059243 27.532746 129.129005 \nC 28.287923 126.89384 29.152078 124.696987 30.122109 122.546338 \nC 31.09214 120.395688 32.166883 118.293819 33.342478 116.248281 \nC 32.856515 109.982223 33.18099 103.67957 34.307861 97.496544 \nC 35.434731 91.313519 37.354609 85.301632 40.019907 79.609898 \n\" style=\"fill:#ff0000;opacity:0.4;\"/>\n   </g>\n   <g id=\"patch_3\">\n    <path clip-path=\"url(#p0a87d07c2a)\" d=\"M 40.019907 79.609898 \nC 46.16333 75.950777 53.258306 74.199902 60.398731 74.580878 \nC 67.539156 74.961854 74.407547 77.457743 80.126736 81.749792 \nC 90.45174 79.42366 101.162742 79.393349 111.500745 81.661008 \nC 121.838748 83.928667 131.553656 88.439436 139.957057 94.873676 \nC 148.360458 101.307915 155.249057 109.509969 160.134717 118.898628 \nC 165.020378 128.287286 167.784907 138.635419 168.232406 149.209743 \nC 173.495818 140.753028 176.974878 131.3087 178.455313 121.458428 \nC 179.935748 111.608156 179.386528 101.558403 176.84148 91.928124 \nC 174.296432 82.297845 169.808899 73.288892 163.655265 65.456119 \nC 157.501632 57.623345 149.810878 51.130927 141.056671 46.378727 \nC 132.302464 41.626527 122.668293 38.714152 112.747518 37.820971 \nC 102.826744 36.927791 92.827305 38.072527 83.365061 41.184676 \nC 73.902816 44.296825 65.176095 49.311156 57.722368 55.918841 \nC 50.268641 62.526526 44.244139 70.589067 40.019907 79.609898 \n\" style=\"fill:#008000;opacity:0.4;\"/>\n   </g>\n   <g id=\"patch_4\">\n    <path clip-path=\"url(#p0a87d07c2a)\" d=\"M 40.019907 79.609898 \nC 37.354609 85.301632 35.434731 91.313519 34.307861 97.496544 \nC 33.18099 103.67957 32.856515 109.982223 33.342478 116.248281 \nC 38.3281 107.573286 45.061048 100.027216 53.113984 94.089019 \nC 61.16692 88.150823 70.365788 83.948847 80.126736 81.749792 \nC 74.407547 77.457743 67.539156 74.961854 60.398731 74.580878 \nC 53.258306 74.199902 46.16333 75.950777 40.019907 79.609898 \n\" style=\"fill:#b25900;opacity:0.4;\"/>\n   </g>\n   <g id=\"patch_5\">\n    <path clip-path=\"url(#p0a87d07c2a)\" d=\"M 27.532746 129.129005 \nC 24.135733 139.18345 22.994352 149.863741 24.189918 160.408986 \nC 25.385484 170.954232 28.888914 181.107917 34.450616 190.14667 \nC 40.012318 199.185423 47.497002 206.889373 56.371442 212.709674 \nC 65.245882 218.529975 75.294205 222.325045 85.800544 223.824516 \nC 96.306883 225.323987 107.015671 224.491384 117.163986 221.386022 \nC 127.312302 218.28066 136.653286 212.978079 144.521465 205.856047 \nC 152.389643 198.734015 158.593622 189.965776 162.691414 180.176002 \nC 166.789206 170.386228 168.681132 159.813055 168.232406 149.209743 \nC 161.283219 160.374992 151.446999 169.459831 139.765857 175.501757 \nC 128.084714 181.543684 114.986273 184.321515 101.858261 183.54095 \nC 88.730249 182.760385 76.053259 178.449999 65.170367 171.06646 \nC 54.287475 163.682921 45.597085 153.496528 40.019907 141.586487 \nC 37.465106 140.064807 35.108263 138.233007 33.003083 136.132831 \nC 30.897904 134.032655 29.060502 131.680177 27.532746 129.129005 \n\" style=\"fill:#0000ff;opacity:0.4;\"/>\n   </g>\n   <g id=\"patch_6\">\n    <path clip-path=\"url(#p0a87d07c2a)\" d=\"M 27.532746 129.129005 \nC 29.060502 131.680177 30.897904 134.032655 33.003083 136.132831 \nC 35.108263 138.233007 37.465106 140.064807 40.019907 141.586487 \nC 38.156523 137.607237 36.65585 133.468011 35.536137 129.219143 \nC 34.416424 124.970275 33.682229 120.629057 33.342478 116.248281 \nC 32.166883 118.293819 31.09214 120.395688 30.122109 122.546338 \nC 29.152078 124.696987 28.287923 126.89384 27.532746 129.129005 \n\" style=\"fill:#b200b2;opacity:0.4;\"/>\n   </g>\n   <g id=\"patch_7\">\n    <path clip-path=\"url(#p0a87d07c2a)\" d=\"M 80.126736 81.749792 \nC 87.509264 87.290117 92.490568 95.458304 94.036253 104.558182 \nC 95.581939 113.65806 93.577057 123.012905 88.437935 130.68013 \nC 83.298813 138.347355 75.407627 143.756778 66.403027 145.785101 \nC 57.398426 147.813424 47.95005 146.309807 40.019907 141.586487 \nC 45.597085 153.496528 54.287475 163.682921 65.170367 171.06646 \nC 76.053259 178.449999 88.730249 182.760385 101.858261 183.54095 \nC 114.986273 184.321515 128.084714 181.543684 139.765857 175.501757 \nC 151.446999 169.459831 161.283219 160.374992 168.232406 149.209743 \nC 167.784907 138.635419 165.020378 128.287286 160.134717 118.898628 \nC 155.249057 109.509969 148.360458 101.307915 139.957057 94.873676 \nC 131.553656 88.439436 121.838748 83.928667 111.500745 81.661008 \nC 101.162742 79.393349 90.45174 79.42366 80.126736 81.749792 \n\" style=\"fill:#0059b2;opacity:0.4;\"/>\n   </g>\n   <g id=\"patch_8\">\n    <path clip-path=\"url(#p0a87d07c2a)\" d=\"M 33.342478 116.248281 \nC 33.682229 120.629057 34.416424 124.970275 35.536137 129.219143 \nC 36.65585 133.468011 38.156523 137.607237 40.019907 141.586487 \nC 47.95005 146.309807 57.398426 147.813424 66.403027 145.785101 \nC 75.407627 143.756778 83.298813 138.347355 88.437935 130.68013 \nC 93.577057 123.012905 95.581939 113.65806 94.036253 104.558182 \nC 92.490568 95.458304 87.509264 87.290117 80.126736 81.749792 \nC 70.365788 83.948847 61.16692 88.150823 53.113984 94.089019 \nC 45.061048 100.027216 38.3281 107.573286 33.342478 116.248281 \n\" style=\"fill:#663366;opacity:0.4;\"/>\n   </g>\n   <g id=\"text_1\">\n    <!-- 100 -->\n    <defs>\n     <path d=\"M 12.40625 8.296875 \nL 28.515625 8.296875 \nL 28.515625 63.921875 \nL 10.984375 60.40625 \nL 10.984375 69.390625 \nL 28.421875 72.90625 \nL 38.28125 72.90625 \nL 38.28125 8.296875 \nL 54.390625 8.296875 \nL 54.390625 0 \nL 12.40625 0 \nz\n\" id=\"DejaVuSans-49\"/>\n     <path d=\"M 31.78125 66.40625 \nQ 24.171875 66.40625 20.328125 58.90625 \nQ 16.5 51.421875 16.5 36.375 \nQ 16.5 21.390625 20.328125 13.890625 \nQ 24.171875 6.390625 31.78125 6.390625 \nQ 39.453125 6.390625 43.28125 13.890625 \nQ 47.125 21.390625 47.125 36.375 \nQ 47.125 51.421875 43.28125 58.90625 \nQ 39.453125 66.40625 31.78125 66.40625 \nz\nM 31.78125 74.21875 \nQ 44.046875 74.21875 50.515625 64.515625 \nQ 56.984375 54.828125 56.984375 36.375 \nQ 56.984375 17.96875 50.515625 8.265625 \nQ 44.046875 -1.421875 31.78125 -1.421875 \nQ 19.53125 -1.421875 13.0625 8.265625 \nQ 6.59375 17.96875 6.59375 36.375 \nQ 6.59375 54.828125 13.0625 64.515625 \nQ 19.53125 74.21875 31.78125 74.21875 \nz\n\" id=\"DejaVuSans-48\"/>\n    </defs>\n    <g transform=\"translate(16.964418 105.352232)scale(0.1 -0.1)\">\n     <use xlink:href=\"#DejaVuSans-49\"/>\n     <use x=\"63.623047\" xlink:href=\"#DejaVuSans-48\"/>\n     <use x=\"127.246094\" xlink:href=\"#DejaVuSans-48\"/>\n    </g>\n   </g>\n   <g id=\"text_2\">\n    <!-- 1435 -->\n    <defs>\n     <path d=\"M 37.796875 64.3125 \nL 12.890625 25.390625 \nL 37.796875 25.390625 \nz\nM 35.203125 72.90625 \nL 47.609375 72.90625 \nL 47.609375 25.390625 \nL 58.015625 25.390625 \nL 58.015625 17.1875 \nL 47.609375 17.1875 \nL 47.609375 0 \nL 37.796875 0 \nL 37.796875 17.1875 \nL 4.890625 17.1875 \nL 4.890625 26.703125 \nz\n\" id=\"DejaVuSans-52\"/>\n     <path d=\"M 40.578125 39.3125 \nQ 47.65625 37.796875 51.625 33 \nQ 55.609375 28.21875 55.609375 21.1875 \nQ 55.609375 10.40625 48.1875 4.484375 \nQ 40.765625 -1.421875 27.09375 -1.421875 \nQ 22.515625 -1.421875 17.65625 -0.515625 \nQ 12.796875 0.390625 7.625 2.203125 \nL 7.625 11.71875 \nQ 11.71875 9.328125 16.59375 8.109375 \nQ 21.484375 6.890625 26.8125 6.890625 \nQ 36.078125 6.890625 40.9375 10.546875 \nQ 45.796875 14.203125 45.796875 21.1875 \nQ 45.796875 27.640625 41.28125 31.265625 \nQ 36.765625 34.90625 28.71875 34.90625 \nL 20.21875 34.90625 \nL 20.21875 43.015625 \nL 29.109375 43.015625 \nQ 36.375 43.015625 40.234375 45.921875 \nQ 44.09375 48.828125 44.09375 54.296875 \nQ 44.09375 59.90625 40.109375 62.90625 \nQ 36.140625 65.921875 28.71875 65.921875 \nQ 24.65625 65.921875 20.015625 65.03125 \nQ 15.375 64.15625 9.8125 62.3125 \nL 9.8125 71.09375 \nQ 15.4375 72.65625 20.34375 73.4375 \nQ 25.25 74.21875 29.59375 74.21875 \nQ 40.828125 74.21875 47.359375 69.109375 \nQ 53.90625 64.015625 53.90625 55.328125 \nQ 53.90625 49.265625 50.4375 45.09375 \nQ 46.96875 40.921875 40.578125 39.3125 \nz\n\" id=\"DejaVuSans-51\"/>\n     <path d=\"M 10.796875 72.90625 \nL 49.515625 72.90625 \nL 49.515625 64.59375 \nL 19.828125 64.59375 \nL 19.828125 46.734375 \nQ 21.96875 47.46875 24.109375 47.828125 \nQ 26.265625 48.1875 28.421875 48.1875 \nQ 40.625 48.1875 47.75 41.5 \nQ 54.890625 34.8125 54.890625 23.390625 \nQ 54.890625 11.625 47.5625 5.09375 \nQ 40.234375 -1.421875 26.90625 -1.421875 \nQ 22.3125 -1.421875 17.546875 -0.640625 \nQ 12.796875 0.140625 7.71875 1.703125 \nL 7.71875 11.625 \nQ 12.109375 9.234375 16.796875 8.0625 \nQ 21.484375 6.890625 26.703125 6.890625 \nQ 35.15625 6.890625 40.078125 11.328125 \nQ 45.015625 15.765625 45.015625 23.390625 \nQ 45.015625 31 40.078125 35.4375 \nQ 35.15625 39.890625 26.703125 39.890625 \nQ 22.75 39.890625 18.8125 39.015625 \nQ 14.890625 38.140625 10.796875 36.28125 \nz\n\" id=\"DejaVuSans-53\"/>\n    </defs>\n    <g transform=\"translate(112.635754 68.225247)scale(0.1 -0.1)\">\n     <use xlink:href=\"#DejaVuSans-49\"/>\n     <use x=\"63.623047\" xlink:href=\"#DejaVuSans-52\"/>\n     <use x=\"127.246094\" xlink:href=\"#DejaVuSans-51\"/>\n     <use x=\"190.869141\" xlink:href=\"#DejaVuSans-53\"/>\n    </g>\n   </g>\n   <g id=\"text_3\">\n    <!-- 182 -->\n    <defs>\n     <path d=\"M 31.78125 34.625 \nQ 24.75 34.625 20.71875 30.859375 \nQ 16.703125 27.09375 16.703125 20.515625 \nQ 16.703125 13.921875 20.71875 10.15625 \nQ 24.75 6.390625 31.78125 6.390625 \nQ 38.8125 6.390625 42.859375 10.171875 \nQ 46.921875 13.96875 46.921875 20.515625 \nQ 46.921875 27.09375 42.890625 30.859375 \nQ 38.875 34.625 31.78125 34.625 \nz\nM 21.921875 38.8125 \nQ 15.578125 40.375 12.03125 44.71875 \nQ 8.5 49.078125 8.5 55.328125 \nQ 8.5 64.0625 14.71875 69.140625 \nQ 20.953125 74.21875 31.78125 74.21875 \nQ 42.671875 74.21875 48.875 69.140625 \nQ 55.078125 64.0625 55.078125 55.328125 \nQ 55.078125 49.078125 51.53125 44.71875 \nQ 48 40.375 41.703125 38.8125 \nQ 48.828125 37.15625 52.796875 32.3125 \nQ 56.78125 27.484375 56.78125 20.515625 \nQ 56.78125 9.90625 50.3125 4.234375 \nQ 43.84375 -1.421875 31.78125 -1.421875 \nQ 19.734375 -1.421875 13.25 4.234375 \nQ 6.78125 9.90625 6.78125 20.515625 \nQ 6.78125 27.484375 10.78125 32.3125 \nQ 14.796875 37.15625 21.921875 38.8125 \nz\nM 18.3125 54.390625 \nQ 18.3125 48.734375 21.84375 45.5625 \nQ 25.390625 42.390625 31.78125 42.390625 \nQ 38.140625 42.390625 41.71875 45.5625 \nQ 45.3125 48.734375 45.3125 54.390625 \nQ 45.3125 60.0625 41.71875 63.234375 \nQ 38.140625 66.40625 31.78125 66.40625 \nQ 25.390625 66.40625 21.84375 63.234375 \nQ 18.3125 60.0625 18.3125 54.390625 \nz\n\" id=\"DejaVuSans-56\"/>\n     <path d=\"M 19.1875 8.296875 \nL 53.609375 8.296875 \nL 53.609375 0 \nL 7.328125 0 \nL 7.328125 8.296875 \nQ 12.9375 14.109375 22.625 23.890625 \nQ 32.328125 33.6875 34.8125 36.53125 \nQ 39.546875 41.84375 41.421875 45.53125 \nQ 43.3125 49.21875 43.3125 52.78125 \nQ 43.3125 58.59375 39.234375 62.25 \nQ 35.15625 65.921875 28.609375 65.921875 \nQ 23.96875 65.921875 18.8125 64.3125 \nQ 13.671875 62.703125 7.8125 59.421875 \nL 7.8125 69.390625 \nQ 13.765625 71.78125 18.9375 73 \nQ 24.125 74.21875 28.421875 74.21875 \nQ 39.75 74.21875 46.484375 68.546875 \nQ 53.21875 62.890625 53.21875 53.421875 \nQ 53.21875 48.921875 51.53125 44.890625 \nQ 49.859375 40.875 45.40625 35.40625 \nQ 44.1875 33.984375 37.640625 27.21875 \nQ 31.109375 20.453125 19.1875 8.296875 \nz\n\" id=\"DejaVuSans-50\"/>\n    </defs>\n    <g transform=\"translate(43.138968 88.415954)scale(0.1 -0.1)\">\n     <use xlink:href=\"#DejaVuSans-49\"/>\n     <use x=\"63.623047\" xlink:href=\"#DejaVuSans-56\"/>\n     <use x=\"127.246094\" xlink:href=\"#DejaVuSans-50\"/>\n    </g>\n   </g>\n   <g id=\"text_4\">\n    <!-- 1501 -->\n    <g transform=\"translate(74.439747 205.479085)scale(0.1 -0.1)\">\n     <use xlink:href=\"#DejaVuSans-49\"/>\n     <use x=\"63.623047\" xlink:href=\"#DejaVuSans-53\"/>\n     <use x=\"127.246094\" xlink:href=\"#DejaVuSans-48\"/>\n     <use x=\"190.869141\" xlink:href=\"#DejaVuSans-49\"/>\n    </g>\n   </g>\n   <g id=\"text_5\">\n    <!-- 24 -->\n    <g transform=\"translate(26.973034 133.986459)scale(0.1 -0.1)\">\n     <use xlink:href=\"#DejaVuSans-50\"/>\n     <use x=\"63.623047\" xlink:href=\"#DejaVuSans-52\"/>\n    </g>\n   </g>\n   <g id=\"text_6\">\n    <!-- 1933 -->\n    <defs>\n     <path d=\"M 10.984375 1.515625 \nL 10.984375 10.5 \nQ 14.703125 8.734375 18.5 7.8125 \nQ 22.3125 6.890625 25.984375 6.890625 \nQ 35.75 6.890625 40.890625 13.453125 \nQ 46.046875 20.015625 46.78125 33.40625 \nQ 43.953125 29.203125 39.59375 26.953125 \nQ 35.25 24.703125 29.984375 24.703125 \nQ 19.046875 24.703125 12.671875 31.3125 \nQ 6.296875 37.9375 6.296875 49.421875 \nQ 6.296875 60.640625 12.9375 67.421875 \nQ 19.578125 74.21875 30.609375 74.21875 \nQ 43.265625 74.21875 49.921875 64.515625 \nQ 56.59375 54.828125 56.59375 36.375 \nQ 56.59375 19.140625 48.40625 8.859375 \nQ 40.234375 -1.421875 26.421875 -1.421875 \nQ 22.703125 -1.421875 18.890625 -0.6875 \nQ 15.09375 0.046875 10.984375 1.515625 \nz\nM 30.609375 32.421875 \nQ 37.25 32.421875 41.125 36.953125 \nQ 45.015625 41.5 45.015625 49.421875 \nQ 45.015625 57.28125 41.125 61.84375 \nQ 37.25 66.40625 30.609375 66.40625 \nQ 23.96875 66.40625 20.09375 61.84375 \nQ 16.21875 57.28125 16.21875 49.421875 \nQ 16.21875 41.5 20.09375 36.953125 \nQ 23.96875 32.421875 30.609375 32.421875 \nz\n\" id=\"DejaVuSans-57\"/>\n    </defs>\n    <g transform=\"translate(92.876191 140.771214)scale(0.1 -0.1)\">\n     <use xlink:href=\"#DejaVuSans-49\"/>\n     <use x=\"63.623047\" xlink:href=\"#DejaVuSans-57\"/>\n     <use x=\"127.246094\" xlink:href=\"#DejaVuSans-51\"/>\n     <use x=\"190.869141\" xlink:href=\"#DejaVuSans-51\"/>\n    </g>\n   </g>\n   <g id=\"text_7\">\n    <!-- 739 -->\n    <defs>\n     <path d=\"M 8.203125 72.90625 \nL 55.078125 72.90625 \nL 55.078125 68.703125 \nL 28.609375 0 \nL 18.3125 0 \nL 43.21875 64.59375 \nL 8.203125 64.59375 \nz\n\" id=\"DejaVuSans-55\"/>\n    </defs>\n    <g transform=\"translate(67.455423 126.144165)scale(0.1 -0.1)\">\n     <use xlink:href=\"#DejaVuSans-55\"/>\n     <use x=\"63.623047\" xlink:href=\"#DejaVuSans-51\"/>\n     <use x=\"127.246094\" xlink:href=\"#DejaVuSans-57\"/>\n    </g>\n   </g>\n   <g id=\"text_8\">\n    <!-- 2009 -->\n    <g transform=\"translate(9.902761 74.529649)scale(0.12 -0.12)\">\n     <use xlink:href=\"#DejaVuSans-50\"/>\n     <use x=\"63.623047\" xlink:href=\"#DejaVuSans-48\"/>\n     <use x=\"127.246094\" xlink:href=\"#DejaVuSans-48\"/>\n     <use x=\"190.869141\" xlink:href=\"#DejaVuSans-57\"/>\n    </g>\n   </g>\n   <g id=\"text_9\">\n    <!-- 2010 -->\n    <g transform=\"translate(142.731079 37.526614)scale(0.12 -0.12)\">\n     <use xlink:href=\"#DejaVuSans-50\"/>\n     <use x=\"63.623047\" xlink:href=\"#DejaVuSans-48\"/>\n     <use x=\"127.246094\" xlink:href=\"#DejaVuSans-49\"/>\n     <use x=\"190.869141\" xlink:href=\"#DejaVuSans-48\"/>\n    </g>\n   </g>\n   <g id=\"text_10\">\n    <!-- 2011 -->\n    <g transform=\"translate(80.743417 240.896124)scale(0.12 -0.12)\">\n     <use xlink:href=\"#DejaVuSans-50\"/>\n     <use x=\"63.623047\" xlink:href=\"#DejaVuSans-48\"/>\n     <use x=\"127.246094\" xlink:href=\"#DejaVuSans-49\"/>\n     <use x=\"190.869141\" xlink:href=\"#DejaVuSans-49\"/>\n    </g>\n   </g>\n   <g id=\"text_11\">\n    <!-- customer_id -->\n    <defs>\n     <path d=\"M 48.78125 52.59375 \nL 48.78125 44.1875 \nQ 44.96875 46.296875 41.140625 47.34375 \nQ 37.3125 48.390625 33.40625 48.390625 \nQ 24.65625 48.390625 19.8125 42.84375 \nQ 14.984375 37.3125 14.984375 27.296875 \nQ 14.984375 17.28125 19.8125 11.734375 \nQ 24.65625 6.203125 33.40625 6.203125 \nQ 37.3125 6.203125 41.140625 7.25 \nQ 44.96875 8.296875 48.78125 10.40625 \nL 48.78125 2.09375 \nQ 45.015625 0.34375 40.984375 -0.53125 \nQ 36.96875 -1.421875 32.421875 -1.421875 \nQ 20.0625 -1.421875 12.78125 6.34375 \nQ 5.515625 14.109375 5.515625 27.296875 \nQ 5.515625 40.671875 12.859375 48.328125 \nQ 20.21875 56 33.015625 56 \nQ 37.15625 56 41.109375 55.140625 \nQ 45.0625 54.296875 48.78125 52.59375 \nz\n\" id=\"DejaVuSans-99\"/>\n     <path d=\"M 8.5 21.578125 \nL 8.5 54.6875 \nL 17.484375 54.6875 \nL 17.484375 21.921875 \nQ 17.484375 14.15625 20.5 10.265625 \nQ 23.53125 6.390625 29.59375 6.390625 \nQ 36.859375 6.390625 41.078125 11.03125 \nQ 45.3125 15.671875 45.3125 23.6875 \nL 45.3125 54.6875 \nL 54.296875 54.6875 \nL 54.296875 0 \nL 45.3125 0 \nL 45.3125 8.40625 \nQ 42.046875 3.421875 37.71875 1 \nQ 33.40625 -1.421875 27.6875 -1.421875 \nQ 18.265625 -1.421875 13.375 4.4375 \nQ 8.5 10.296875 8.5 21.578125 \nz\nM 31.109375 56 \nz\n\" id=\"DejaVuSans-117\"/>\n     <path d=\"M 44.28125 53.078125 \nL 44.28125 44.578125 \nQ 40.484375 46.53125 36.375 47.5 \nQ 32.28125 48.484375 27.875 48.484375 \nQ 21.1875 48.484375 17.84375 46.4375 \nQ 14.5 44.390625 14.5 40.28125 \nQ 14.5 37.15625 16.890625 35.375 \nQ 19.28125 33.59375 26.515625 31.984375 \nL 29.59375 31.296875 \nQ 39.15625 29.25 43.1875 25.515625 \nQ 47.21875 21.78125 47.21875 15.09375 \nQ 47.21875 7.46875 41.1875 3.015625 \nQ 35.15625 -1.421875 24.609375 -1.421875 \nQ 20.21875 -1.421875 15.453125 -0.5625 \nQ 10.6875 0.296875 5.421875 2 \nL 5.421875 11.28125 \nQ 10.40625 8.6875 15.234375 7.390625 \nQ 20.0625 6.109375 24.8125 6.109375 \nQ 31.15625 6.109375 34.5625 8.28125 \nQ 37.984375 10.453125 37.984375 14.40625 \nQ 37.984375 18.0625 35.515625 20.015625 \nQ 33.0625 21.96875 24.703125 23.78125 \nL 21.578125 24.515625 \nQ 13.234375 26.265625 9.515625 29.90625 \nQ 5.8125 33.546875 5.8125 39.890625 \nQ 5.8125 47.609375 11.28125 51.796875 \nQ 16.75 56 26.8125 56 \nQ 31.78125 56 36.171875 55.265625 \nQ 40.578125 54.546875 44.28125 53.078125 \nz\n\" id=\"DejaVuSans-115\"/>\n     <path d=\"M 18.3125 70.21875 \nL 18.3125 54.6875 \nL 36.8125 54.6875 \nL 36.8125 47.703125 \nL 18.3125 47.703125 \nL 18.3125 18.015625 \nQ 18.3125 11.328125 20.140625 9.421875 \nQ 21.96875 7.515625 27.59375 7.515625 \nL 36.8125 7.515625 \nL 36.8125 0 \nL 27.59375 0 \nQ 17.1875 0 13.234375 3.875 \nQ 9.28125 7.765625 9.28125 18.015625 \nL 9.28125 47.703125 \nL 2.6875 47.703125 \nL 2.6875 54.6875 \nL 9.28125 54.6875 \nL 9.28125 70.21875 \nz\n\" id=\"DejaVuSans-116\"/>\n     <path d=\"M 30.609375 48.390625 \nQ 23.390625 48.390625 19.1875 42.75 \nQ 14.984375 37.109375 14.984375 27.296875 \nQ 14.984375 17.484375 19.15625 11.84375 \nQ 23.34375 6.203125 30.609375 6.203125 \nQ 37.796875 6.203125 41.984375 11.859375 \nQ 46.1875 17.53125 46.1875 27.296875 \nQ 46.1875 37.015625 41.984375 42.703125 \nQ 37.796875 48.390625 30.609375 48.390625 \nz\nM 30.609375 56 \nQ 42.328125 56 49.015625 48.375 \nQ 55.71875 40.765625 55.71875 27.296875 \nQ 55.71875 13.875 49.015625 6.21875 \nQ 42.328125 -1.421875 30.609375 -1.421875 \nQ 18.84375 -1.421875 12.171875 6.21875 \nQ 5.515625 13.875 5.515625 27.296875 \nQ 5.515625 40.765625 12.171875 48.375 \nQ 18.84375 56 30.609375 56 \nz\n\" id=\"DejaVuSans-111\"/>\n     <path d=\"M 52 44.1875 \nQ 55.375 50.25 60.0625 53.125 \nQ 64.75 56 71.09375 56 \nQ 79.640625 56 84.28125 50.015625 \nQ 88.921875 44.046875 88.921875 33.015625 \nL 88.921875 0 \nL 79.890625 0 \nL 79.890625 32.71875 \nQ 79.890625 40.578125 77.09375 44.375 \nQ 74.3125 48.1875 68.609375 48.1875 \nQ 61.625 48.1875 57.5625 43.546875 \nQ 53.515625 38.921875 53.515625 30.90625 \nL 53.515625 0 \nL 44.484375 0 \nL 44.484375 32.71875 \nQ 44.484375 40.625 41.703125 44.40625 \nQ 38.921875 48.1875 33.109375 48.1875 \nQ 26.21875 48.1875 22.15625 43.53125 \nQ 18.109375 38.875 18.109375 30.90625 \nL 18.109375 0 \nL 9.078125 0 \nL 9.078125 54.6875 \nL 18.109375 54.6875 \nL 18.109375 46.1875 \nQ 21.1875 51.21875 25.484375 53.609375 \nQ 29.78125 56 35.6875 56 \nQ 41.65625 56 45.828125 52.96875 \nQ 50 49.953125 52 44.1875 \nz\n\" id=\"DejaVuSans-109\"/>\n     <path d=\"M 56.203125 29.59375 \nL 56.203125 25.203125 \nL 14.890625 25.203125 \nQ 15.484375 15.921875 20.484375 11.0625 \nQ 25.484375 6.203125 34.421875 6.203125 \nQ 39.59375 6.203125 44.453125 7.46875 \nQ 49.3125 8.734375 54.109375 11.28125 \nL 54.109375 2.78125 \nQ 49.265625 0.734375 44.1875 -0.34375 \nQ 39.109375 -1.421875 33.890625 -1.421875 \nQ 20.796875 -1.421875 13.15625 6.1875 \nQ 5.515625 13.8125 5.515625 26.8125 \nQ 5.515625 40.234375 12.765625 48.109375 \nQ 20.015625 56 32.328125 56 \nQ 43.359375 56 49.78125 48.890625 \nQ 56.203125 41.796875 56.203125 29.59375 \nz\nM 47.21875 32.234375 \nQ 47.125 39.59375 43.09375 43.984375 \nQ 39.0625 48.390625 32.421875 48.390625 \nQ 24.90625 48.390625 20.390625 44.140625 \nQ 15.875 39.890625 15.1875 32.171875 \nz\n\" id=\"DejaVuSans-101\"/>\n     <path d=\"M 41.109375 46.296875 \nQ 39.59375 47.171875 37.8125 47.578125 \nQ 36.03125 48 33.890625 48 \nQ 26.265625 48 22.1875 43.046875 \nQ 18.109375 38.09375 18.109375 28.8125 \nL 18.109375 0 \nL 9.078125 0 \nL 9.078125 54.6875 \nL 18.109375 54.6875 \nL 18.109375 46.1875 \nQ 20.953125 51.171875 25.484375 53.578125 \nQ 30.03125 56 36.53125 56 \nQ 37.453125 56 38.578125 55.875 \nQ 39.703125 55.765625 41.0625 55.515625 \nz\n\" id=\"DejaVuSans-114\"/>\n     <path d=\"M 50.984375 -16.609375 \nL 50.984375 -23.578125 \nL -0.984375 -23.578125 \nL -0.984375 -16.609375 \nz\n\" id=\"DejaVuSans-95\"/>\n     <path d=\"M 9.421875 54.6875 \nL 18.40625 54.6875 \nL 18.40625 0 \nL 9.421875 0 \nz\nM 9.421875 75.984375 \nL 18.40625 75.984375 \nL 18.40625 64.59375 \nL 9.421875 64.59375 \nz\n\" id=\"DejaVuSans-105\"/>\n     <path d=\"M 45.40625 46.390625 \nL 45.40625 75.984375 \nL 54.390625 75.984375 \nL 54.390625 0 \nL 45.40625 0 \nL 45.40625 8.203125 \nQ 42.578125 3.328125 38.25 0.953125 \nQ 33.9375 -1.421875 27.875 -1.421875 \nQ 17.96875 -1.421875 11.734375 6.484375 \nQ 5.515625 14.40625 5.515625 27.296875 \nQ 5.515625 40.1875 11.734375 48.09375 \nQ 17.96875 56 27.875 56 \nQ 33.9375 56 38.25 53.625 \nQ 42.578125 51.265625 45.40625 46.390625 \nz\nM 14.796875 27.296875 \nQ 14.796875 17.390625 18.875 11.75 \nQ 22.953125 6.109375 30.078125 6.109375 \nQ 37.203125 6.109375 41.296875 11.75 \nQ 45.40625 17.390625 45.40625 27.296875 \nQ 45.40625 37.203125 41.296875 42.84375 \nQ 37.203125 48.484375 30.078125 48.484375 \nQ 22.953125 48.484375 18.875 42.84375 \nQ 14.796875 37.203125 14.796875 27.296875 \nz\n\" id=\"DejaVuSans-100\"/>\n    </defs>\n    <g transform=\"translate(64.108304 16.318125)scale(0.12 -0.12)\">\n     <use xlink:href=\"#DejaVuSans-99\"/>\n     <use x=\"54.980469\" xlink:href=\"#DejaVuSans-117\"/>\n     <use x=\"118.359375\" xlink:href=\"#DejaVuSans-115\"/>\n     <use x=\"170.458984\" xlink:href=\"#DejaVuSans-116\"/>\n     <use x=\"209.667969\" xlink:href=\"#DejaVuSans-111\"/>\n     <use x=\"270.849609\" xlink:href=\"#DejaVuSans-109\"/>\n     <use x=\"368.261719\" xlink:href=\"#DejaVuSans-101\"/>\n     <use x=\"429.785156\" xlink:href=\"#DejaVuSans-114\"/>\n     <use x=\"470.898438\" xlink:href=\"#DejaVuSans-95\"/>\n     <use x=\"520.898438\" xlink:href=\"#DejaVuSans-105\"/>\n     <use x=\"548.681641\" xlink:href=\"#DejaVuSans-100\"/>\n    </g>\n   </g>\n  </g>\n </g>\n <defs>\n  <clipPath id=\"p0a87d07c2a\">\n   <rect height=\"217.44\" width=\"187.275358\" x=\"7.2\" y=\"22.318125\"/>\n  </clipPath>\n </defs>\n</svg>\n",
      "image/png": "[encoded data removed]"
     },
     "metadata": {}
    }
   ],
   "source": [
    "venn3([customer_id_2009, customer_id_2010, customer_id_2011], ('2009', '2010', '2011'))\n",
    "plt.title('customer_id')\n",
    "plt.show()"
   ]
  },
  {
   "cell_type": "code",
   "execution_count": 8,
   "metadata": {},
   "outputs": [
    {
     "output_type": "execute_result",
     "data": {
      "text/plain": [
       "1717"
      ]
     },
     "metadata": {},
     "execution_count": 8
    }
   ],
   "source": [
    "len((customer_id_2009 | customer_id_2010 | customer_id_2011) - customer_id_2011)"
   ]
  },
  {
   "cell_type": "code",
   "execution_count": 10,
   "metadata": {},
   "outputs": [
    {
     "output_type": "execute_result",
     "data": {
      "text/plain": [
       "[16388, 16390, 16391, 16396, 16397, 16408, 16410, 16417, 16420, 16421]"
      ]
     },
     "metadata": {},
     "execution_count": 10
    }
   ],
   "source": [
    "away = list((customer_id_2009 | customer_id_2010 | customer_id_2011) - customer_id_2011)\n",
    "away[:10]"
   ]
  },
  {
   "cell_type": "code",
   "execution_count": 11,
   "metadata": {},
   "outputs": [],
   "source": [
    "model_predict = pd.read_csv(\"/opt/ml/code/output/baseline3_time_diff.csv\")"
   ]
  },
  {
   "cell_type": "code",
   "execution_count": 12,
   "metadata": {},
   "outputs": [
    {
     "output_type": "execute_result",
     "data": {
      "text/plain": [
       "        customer_id  probability\n",
       "count   1717.000000  1717.000000\n",
       "mean   15383.933023     0.083398\n",
       "std     1699.455924     0.031531\n",
       "min    12351.000000     0.055383\n",
       "25%    13912.000000     0.063406\n",
       "50%    15383.000000     0.072211\n",
       "75%    16868.000000     0.092980\n",
       "max    18286.000000     0.284632"
      ],
      "text/html": "<div>\n<style scoped>\n    .dataframe tbody tr th:only-of-type {\n        vertical-align: middle;\n    }\n\n    .dataframe tbody tr th {\n        vertical-align: top;\n    }\n\n    .dataframe thead th {\n        text-align: right;\n    }\n</style>\n<table border=\"1\" class=\"dataframe\">\n  <thead>\n    <tr style=\"text-align: right;\">\n      <th></th>\n      <th>customer_id</th>\n      <th>probability</th>\n    </tr>\n  </thead>\n  <tbody>\n    <tr>\n      <th>count</th>\n      <td>1717.000000</td>\n      <td>1717.000000</td>\n    </tr>\n    <tr>\n      <th>mean</th>\n      <td>15383.933023</td>\n      <td>0.083398</td>\n    </tr>\n    <tr>\n      <th>std</th>\n      <td>1699.455924</td>\n      <td>0.031531</td>\n    </tr>\n    <tr>\n      <th>min</th>\n      <td>12351.000000</td>\n      <td>0.055383</td>\n    </tr>\n    <tr>\n      <th>25%</th>\n      <td>13912.000000</td>\n      <td>0.063406</td>\n    </tr>\n    <tr>\n      <th>50%</th>\n      <td>15383.000000</td>\n      <td>0.072211</td>\n    </tr>\n    <tr>\n      <th>75%</th>\n      <td>16868.000000</td>\n      <td>0.092980</td>\n    </tr>\n    <tr>\n      <th>max</th>\n      <td>18286.000000</td>\n      <td>0.284632</td>\n    </tr>\n  </tbody>\n</table>\n</div>"
     },
     "metadata": {},
     "execution_count": 12
    }
   ],
   "source": [
    "model_predict[model_predict.customer_id.isin(away)].describe()"
   ]
  },
  {
   "cell_type": "code",
   "execution_count": 13,
   "metadata": {},
   "outputs": [
    {
     "output_type": "execute_result",
     "data": {
      "text/plain": [
       "100"
      ]
     },
     "metadata": {},
     "execution_count": 13
    }
   ],
   "source": [
    "away_2009 = list((customer_id_2009 | customer_id_2010 | customer_id_2011) - (customer_id_2011 | customer_id_2010))\n",
    "len(away_2009)"
   ]
  },
  {
   "cell_type": "code",
   "execution_count": 56,
   "metadata": {
    "tags": [
     "outputPrepend"
    ]
   },
   "outputs": [
    {
     "output_type": "stream",
     "name": "stderr",
     "text": [
      "py\n  iloc._setitem_with_indexer(indexer, value)\n/opt/conda/lib/python3.7/site-packages/pandas/core/indexing.py:670: SettingWithCopyWarning: \nA value is trying to be set on a copy of a slice from a DataFrame\n\nSee the caveats in the documentation: https://pandas.pydata.org/pandas-docs/stable/user_guide/indexing.html#returning-a-view-versus-a-copy\n  iloc._setitem_with_indexer(indexer, value)\n/opt/conda/lib/python3.7/site-packages/pandas/core/indexing.py:670: SettingWithCopyWarning: \nA value is trying to be set on a copy of a slice from a DataFrame\n\nSee the caveats in the documentation: https://pandas.pydata.org/pandas-docs/stable/user_guide/indexing.html#returning-a-view-versus-a-copy\n  iloc._setitem_with_indexer(indexer, value)\n/opt/conda/lib/python3.7/site-packages/pandas/core/indexing.py:670: SettingWithCopyWarning: \nA value is trying to be set on a copy of a slice from a DataFrame\n\nSee the caveats in the documentation: https://pandas.pydata.org/pandas-docs/stable/user_guide/indexing.html#returning-a-view-versus-a-copy\n  iloc._setitem_with_indexer(indexer, value)\n/opt/conda/lib/python3.7/site-packages/pandas/core/indexing.py:670: SettingWithCopyWarning: \nA value is trying to be set on a copy of a slice from a DataFrame\n\nSee the caveats in the documentation: https://pandas.pydata.org/pandas-docs/stable/user_guide/indexing.html#returning-a-view-versus-a-copy\n  iloc._setitem_with_indexer(indexer, value)\n/opt/conda/lib/python3.7/site-packages/pandas/core/indexing.py:670: SettingWithCopyWarning: \nA value is trying to be set on a copy of a slice from a DataFrame\n\nSee the caveats in the documentation: https://pandas.pydata.org/pandas-docs/stable/user_guide/indexing.html#returning-a-view-versus-a-copy\n  iloc._setitem_with_indexer(indexer, value)\n/opt/conda/lib/python3.7/site-packages/pandas/core/indexing.py:670: SettingWithCopyWarning: \nA value is trying to be set on a copy of a slice from a DataFrame\n\nSee the caveats in the documentation: https://pandas.pydata.org/pandas-docs/stable/user_guide/indexing.html#returning-a-view-versus-a-copy\n  iloc._setitem_with_indexer(indexer, value)\n/opt/conda/lib/python3.7/site-packages/pandas/core/indexing.py:670: SettingWithCopyWarning: \nA value is trying to be set on a copy of a slice from a DataFrame\n\nSee the caveats in the documentation: https://pandas.pydata.org/pandas-docs/stable/user_guide/indexing.html#returning-a-view-versus-a-copy\n  iloc._setitem_with_indexer(indexer, value)\n/opt/conda/lib/python3.7/site-packages/pandas/core/indexing.py:670: SettingWithCopyWarning: \nA value is trying to be set on a copy of a slice from a DataFrame\n\nSee the caveats in the documentation: https://pandas.pydata.org/pandas-docs/stable/user_guide/indexing.html#returning-a-view-versus-a-copy\n  iloc._setitem_with_indexer(indexer, value)\n/opt/conda/lib/python3.7/site-packages/pandas/core/indexing.py:670: SettingWithCopyWarning: \nA value is trying to be set on a copy of a slice from a DataFrame\n\nSee the caveats in the documentation: https://pandas.pydata.org/pandas-docs/stable/user_guide/indexing.html#returning-a-view-versus-a-copy\n  iloc._setitem_with_indexer(indexer, value)\n/opt/conda/lib/python3.7/site-packages/pandas/core/indexing.py:670: SettingWithCopyWarning: \nA value is trying to be set on a copy of a slice from a DataFrame\n\nSee the caveats in the documentation: https://pandas.pydata.org/pandas-docs/stable/user_guide/indexing.html#returning-a-view-versus-a-copy\n  iloc._setitem_with_indexer(indexer, value)\n/opt/conda/lib/python3.7/site-packages/pandas/core/indexing.py:670: SettingWithCopyWarning: \nA value is trying to be set on a copy of a slice from a DataFrame\n\nSee the caveats in the documentation: https://pandas.pydata.org/pandas-docs/stable/user_guide/indexing.html#returning-a-view-versus-a-copy\n  iloc._setitem_with_indexer(indexer, value)\n/opt/conda/lib/python3.7/site-packages/pandas/core/indexing.py:670: SettingWithCopyWarning: \nA value is trying to be set on a copy of a slice from a DataFrame\n\nSee the caveats in the documentation: https://pandas.pydata.org/pandas-docs/stable/user_guide/indexing.html#returning-a-view-versus-a-copy\n  iloc._setitem_with_indexer(indexer, value)\n/opt/conda/lib/python3.7/site-packages/pandas/core/indexing.py:670: SettingWithCopyWarning: \nA value is trying to be set on a copy of a slice from a DataFrame\n\nSee the caveats in the documentation: https://pandas.pydata.org/pandas-docs/stable/user_guide/indexing.html#returning-a-view-versus-a-copy\n  iloc._setitem_with_indexer(indexer, value)\n/opt/conda/lib/python3.7/site-packages/pandas/core/indexing.py:670: SettingWithCopyWarning: \nA value is trying to be set on a copy of a slice from a DataFrame\n\nSee the caveats in the documentation: https://pandas.pydata.org/pandas-docs/stable/user_guide/indexing.html#returning-a-view-versus-a-copy\n  iloc._setitem_with_indexer(indexer, value)\n/opt/conda/lib/python3.7/site-packages/pandas/core/indexing.py:670: SettingWithCopyWarning: \nA value is trying to be set on a copy of a slice from a DataFrame\n\nSee the caveats in the documentation: https://pandas.pydata.org/pandas-docs/stable/user_guide/indexing.html#returning-a-view-versus-a-copy\n  iloc._setitem_with_indexer(indexer, value)\n/opt/conda/lib/python3.7/site-packages/pandas/core/indexing.py:670: SettingWithCopyWarning: \nA value is trying to be set on a copy of a slice from a DataFrame\n\nSee the caveats in the documentation: https://pandas.pydata.org/pandas-docs/stable/user_guide/indexing.html#returning-a-view-versus-a-copy\n  iloc._setitem_with_indexer(indexer, value)\n/opt/conda/lib/python3.7/site-packages/pandas/core/indexing.py:670: SettingWithCopyWarning: \nA value is trying to be set on a copy of a slice from a DataFrame\n\nSee the caveats in the documentation: https://pandas.pydata.org/pandas-docs/stable/user_guide/indexing.html#returning-a-view-versus-a-copy\n  iloc._setitem_with_indexer(indexer, value)\n/opt/conda/lib/python3.7/site-packages/pandas/core/indexing.py:670: SettingWithCopyWarning: \nA value is trying to be set on a copy of a slice from a DataFrame\n\nSee the caveats in the documentation: https://pandas.pydata.org/pandas-docs/stable/user_guide/indexing.html#returning-a-view-versus-a-copy\n  iloc._setitem_with_indexer(indexer, value)\n/opt/conda/lib/python3.7/site-packages/pandas/core/indexing.py:670: SettingWithCopyWarning: \nA value is trying to be set on a copy of a slice from a DataFrame\n\nSee the caveats in the documentation: https://pandas.pydata.org/pandas-docs/stable/user_guide/indexing.html#returning-a-view-versus-a-copy\n  iloc._setitem_with_indexer(indexer, value)\n/opt/conda/lib/python3.7/site-packages/pandas/core/indexing.py:670: SettingWithCopyWarning: \nA value is trying to be set on a copy of a slice from a DataFrame\n\nSee the caveats in the documentation: https://pandas.pydata.org/pandas-docs/stable/user_guide/indexing.html#returning-a-view-versus-a-copy\n  iloc._setitem_with_indexer(indexer, value)\n/opt/conda/lib/python3.7/site-packages/pandas/core/indexing.py:670: SettingWithCopyWarning: \nA value is trying to be set on a copy of a slice from a DataFrame\n\nSee the caveats in the documentation: https://pandas.pydata.org/pandas-docs/stable/user_guide/indexing.html#returning-a-view-versus-a-copy\n  iloc._setitem_with_indexer(indexer, value)\n/opt/conda/lib/python3.7/site-packages/pandas/core/indexing.py:670: SettingWithCopyWarning: \nA value is trying to be set on a copy of a slice from a DataFrame\n\nSee the caveats in the documentation: https://pandas.pydata.org/pandas-docs/stable/user_guide/indexing.html#returning-a-view-versus-a-copy\n  iloc._setitem_with_indexer(indexer, value)\n/opt/conda/lib/python3.7/site-packages/pandas/core/indexing.py:670: SettingWithCopyWarning: \nA value is trying to be set on a copy of a slice from a DataFrame\n\nSee the caveats in the documentation: https://pandas.pydata.org/pandas-docs/stable/user_guide/indexing.html#returning-a-view-versus-a-copy\n  iloc._setitem_with_indexer(indexer, value)\n/opt/conda/lib/python3.7/site-packages/pandas/core/indexing.py:670: SettingWithCopyWarning: \nA value is trying to be set on a copy of a slice from a DataFrame\n\nSee the caveats in the documentation: https://pandas.pydata.org/pandas-docs/stable/user_guide/indexing.html#returning-a-view-versus-a-copy\n  iloc._setitem_with_indexer(indexer, value)\n/opt/conda/lib/python3.7/site-packages/pandas/core/indexing.py:670: SettingWithCopyWarning: \nA value is trying to be set on a copy of a slice from a DataFrame\n\nSee the caveats in the documentation: https://pandas.pydata.org/pandas-docs/stable/user_guide/indexing.html#returning-a-view-versus-a-copy\n  iloc._setitem_with_indexer(indexer, value)\n/opt/conda/lib/python3.7/site-packages/pandas/core/indexing.py:670: SettingWithCopyWarning: \nA value is trying to be set on a copy of a slice from a DataFrame\n\nSee the caveats in the documentation: https://pandas.pydata.org/pandas-docs/stable/user_guide/indexing.html#returning-a-view-versus-a-copy\n  iloc._setitem_with_indexer(indexer, value)\n/opt/conda/lib/python3.7/site-packages/pandas/core/indexing.py:670: SettingWithCopyWarning: \nA value is trying to be set on a copy of a slice from a DataFrame\n\nSee the caveats in the documentation: https://pandas.pydata.org/pandas-docs/stable/user_guide/indexing.html#returning-a-view-versus-a-copy\n  iloc._setitem_with_indexer(indexer, value)\n/opt/conda/lib/python3.7/site-packages/pandas/core/indexing.py:670: SettingWithCopyWarning: \nA value is trying to be set on a copy of a slice from a DataFrame\n\nSee the caveats in the documentation: https://pandas.pydata.org/pandas-docs/stable/user_guide/indexing.html#returning-a-view-versus-a-copy\n  iloc._setitem_with_indexer(indexer, value)\n/opt/conda/lib/python3.7/site-packages/pandas/core/indexing.py:670: SettingWithCopyWarning: \nA value is trying to be set on a copy of a slice from a DataFrame\n\nSee the caveats in the documentation: https://pandas.pydata.org/pandas-docs/stable/user_guide/indexing.html#returning-a-view-versus-a-copy\n  iloc._setitem_with_indexer(indexer, value)\n/opt/conda/lib/python3.7/site-packages/pandas/core/indexing.py:670: SettingWithCopyWarning: \nA value is trying to be set on a copy of a slice from a DataFrame\n\nSee the caveats in the documentation: https://pandas.pydata.org/pandas-docs/stable/user_guide/indexing.html#returning-a-view-versus-a-copy\n  iloc._setitem_with_indexer(indexer, value)\n/opt/conda/lib/python3.7/site-packages/pandas/core/indexing.py:670: SettingWithCopyWarning: \nA value is trying to be set on a copy of a slice from a DataFrame\n\nSee the caveats in the documentation: https://pandas.pydata.org/pandas-docs/stable/user_guide/indexing.html#returning-a-view-versus-a-copy\n  iloc._setitem_with_indexer(indexer, value)\n/opt/conda/lib/python3.7/site-packages/pandas/core/indexing.py:670: SettingWithCopyWarning: \nA value is trying to be set on a copy of a slice from a DataFrame\n\nSee the caveats in the documentation: https://pandas.pydata.org/pandas-docs/stable/user_guide/indexing.html#returning-a-view-versus-a-copy\n  iloc._setitem_with_indexer(indexer, value)\n/opt/conda/lib/python3.7/site-packages/pandas/core/indexing.py:670: SettingWithCopyWarning: \nA value is trying to be set on a copy of a slice from a DataFrame\n\nSee the caveats in the documentation: https://pandas.pydata.org/pandas-docs/stable/user_guide/indexing.html#returning-a-view-versus-a-copy\n  iloc._setitem_with_indexer(indexer, value)\n/opt/conda/lib/python3.7/site-packages/pandas/core/indexing.py:670: SettingWithCopyWarning: \nA value is trying to be set on a copy of a slice from a DataFrame\n\nSee the caveats in the documentation: https://pandas.pydata.org/pandas-docs/stable/user_guide/indexing.html#returning-a-view-versus-a-copy\n  iloc._setitem_with_indexer(indexer, value)\n/opt/conda/lib/python3.7/site-packages/pandas/core/indexing.py:670: SettingWithCopyWarning: \nA value is trying to be set on a copy of a slice from a DataFrame\n\nSee the caveats in the documentation: https://pandas.pydata.org/pandas-docs/stable/user_guide/indexing.html#returning-a-view-versus-a-copy\n  iloc._setitem_with_indexer(indexer, value)\n/opt/conda/lib/python3.7/site-packages/pandas/core/indexing.py:670: SettingWithCopyWarning: \nA value is trying to be set on a copy of a slice from a DataFrame\n\nSee the caveats in the documentation: https://pandas.pydata.org/pandas-docs/stable/user_guide/indexing.html#returning-a-view-versus-a-copy\n  iloc._setitem_with_indexer(indexer, value)\n/opt/conda/lib/python3.7/site-packages/pandas/core/indexing.py:670: SettingWithCopyWarning: \nA value is trying to be set on a copy of a slice from a DataFrame\n\nSee the caveats in the documentation: https://pandas.pydata.org/pandas-docs/stable/user_guide/indexing.html#returning-a-view-versus-a-copy\n  iloc._setitem_with_indexer(indexer, value)\n/opt/conda/lib/python3.7/site-packages/pandas/core/indexing.py:670: SettingWithCopyWarning: \nA value is trying to be set on a copy of a slice from a DataFrame\n\nSee the caveats in the documentation: https://pandas.pydata.org/pandas-docs/stable/user_guide/indexing.html#returning-a-view-versus-a-copy\n  iloc._setitem_with_indexer(indexer, value)\n/opt/conda/lib/python3.7/site-packages/pandas/core/indexing.py:670: SettingWithCopyWarning: \nA value is trying to be set on a copy of a slice from a DataFrame\n\nSee the caveats in the documentation: https://pandas.pydata.org/pandas-docs/stable/user_guide/indexing.html#returning-a-view-versus-a-copy\n  iloc._setitem_with_indexer(indexer, value)\n/opt/conda/lib/python3.7/site-packages/pandas/core/indexing.py:670: SettingWithCopyWarning: \nA value is trying to be set on a copy of a slice from a DataFrame\n\nSee the caveats in the documentation: https://pandas.pydata.org/pandas-docs/stable/user_guide/indexing.html#returning-a-view-versus-a-copy\n  iloc._setitem_with_indexer(indexer, value)\n/opt/conda/lib/python3.7/site-packages/pandas/core/indexing.py:670: SettingWithCopyWarning: \nA value is trying to be set on a copy of a slice from a DataFrame\n\nSee the caveats in the documentation: https://pandas.pydata.org/pandas-docs/stable/user_guide/indexing.html#returning-a-view-versus-a-copy\n  iloc._setitem_with_indexer(indexer, value)\n/opt/conda/lib/python3.7/site-packages/pandas/core/indexing.py:670: SettingWithCopyWarning: \nA value is trying to be set on a copy of a slice from a DataFrame\n\nSee the caveats in the documentation: https://pandas.pydata.org/pandas-docs/stable/user_guide/indexing.html#returning-a-view-versus-a-copy\n  iloc._setitem_with_indexer(indexer, value)\n/opt/conda/lib/python3.7/site-packages/pandas/core/indexing.py:670: SettingWithCopyWarning: \nA value is trying to be set on a copy of a slice from a DataFrame\n\nSee the caveats in the documentation: https://pandas.pydata.org/pandas-docs/stable/user_guide/indexing.html#returning-a-view-versus-a-copy\n  iloc._setitem_with_indexer(indexer, value)\n/opt/conda/lib/python3.7/site-packages/pandas/core/indexing.py:670: SettingWithCopyWarning: \nA value is trying to be set on a copy of a slice from a DataFrame\n\nSee the caveats in the documentation: https://pandas.pydata.org/pandas-docs/stable/user_guide/indexing.html#returning-a-view-versus-a-copy\n  iloc._setitem_with_indexer(indexer, value)\n/opt/conda/lib/python3.7/site-packages/pandas/core/indexing.py:670: SettingWithCopyWarning: \nA value is trying to be set on a copy of a slice from a DataFrame\n\nSee the caveats in the documentation: https://pandas.pydata.org/pandas-docs/stable/user_guide/indexing.html#returning-a-view-versus-a-copy\n  iloc._setitem_with_indexer(indexer, value)\n/opt/conda/lib/python3.7/site-packages/pandas/core/indexing.py:670: SettingWithCopyWarning: \nA value is trying to be set on a copy of a slice from a DataFrame\n\nSee the caveats in the documentation: https://pandas.pydata.org/pandas-docs/stable/user_guide/indexing.html#returning-a-view-versus-a-copy\n  iloc._setitem_with_indexer(indexer, value)\n/opt/conda/lib/python3.7/site-packages/pandas/core/indexing.py:670: SettingWithCopyWarning: \nA value is trying to be set on a copy of a slice from a DataFrame\n\nSee the caveats in the documentation: https://pandas.pydata.org/pandas-docs/stable/user_guide/indexing.html#returning-a-view-versus-a-copy\n  iloc._setitem_with_indexer(indexer, value)\n/opt/conda/lib/python3.7/site-packages/pandas/core/indexing.py:670: SettingWithCopyWarning: \nA value is trying to be set on a copy of a slice from a DataFrame\n\nSee the caveats in the documentation: https://pandas.pydata.org/pandas-docs/stable/user_guide/indexing.html#returning-a-view-versus-a-copy\n  iloc._setitem_with_indexer(indexer, value)\n/opt/conda/lib/python3.7/site-packages/pandas/core/indexing.py:670: SettingWithCopyWarning: \nA value is trying to be set on a copy of a slice from a DataFrame\n\nSee the caveats in the documentation: https://pandas.pydata.org/pandas-docs/stable/user_guide/indexing.html#returning-a-view-versus-a-copy\n  iloc._setitem_with_indexer(indexer, value)\n/opt/conda/lib/python3.7/site-packages/pandas/core/indexing.py:670: SettingWithCopyWarning: \nA value is trying to be set on a copy of a slice from a DataFrame\n\nSee the caveats in the documentation: https://pandas.pydata.org/pandas-docs/stable/user_guide/indexing.html#returning-a-view-versus-a-copy\n  iloc._setitem_with_indexer(indexer, value)\n/opt/conda/lib/python3.7/site-packages/pandas/core/indexing.py:670: SettingWithCopyWarning: \nA value is trying to be set on a copy of a slice from a DataFrame\n\nSee the caveats in the documentation: https://pandas.pydata.org/pandas-docs/stable/user_guide/indexing.html#returning-a-view-versus-a-copy\n  iloc._setitem_with_indexer(indexer, value)\n/opt/conda/lib/python3.7/site-packages/pandas/core/indexing.py:670: SettingWithCopyWarning: \nA value is trying to be set on a copy of a slice from a DataFrame\n\nSee the caveats in the documentation: https://pandas.pydata.org/pandas-docs/stable/user_guide/indexing.html#returning-a-view-versus-a-copy\n  iloc._setitem_with_indexer(indexer, value)\n/opt/conda/lib/python3.7/site-packages/pandas/core/indexing.py:670: SettingWithCopyWarning: \nA value is trying to be set on a copy of a slice from a DataFrame\n\nSee the caveats in the documentation: https://pandas.pydata.org/pandas-docs/stable/user_guide/indexing.html#returning-a-view-versus-a-copy\n  iloc._setitem_with_indexer(indexer, value)\n/opt/conda/lib/python3.7/site-packages/pandas/core/indexing.py:670: SettingWithCopyWarning: \nA value is trying to be set on a copy of a slice from a DataFrame\n\nSee the caveats in the documentation: https://pandas.pydata.org/pandas-docs/stable/user_guide/indexing.html#returning-a-view-versus-a-copy\n  iloc._setitem_with_indexer(indexer, value)\n/opt/conda/lib/python3.7/site-packages/pandas/core/indexing.py:670: SettingWithCopyWarning: \nA value is trying to be set on a copy of a slice from a DataFrame\n\nSee the caveats in the documentation: https://pandas.pydata.org/pandas-docs/stable/user_guide/indexing.html#returning-a-view-versus-a-copy\n  iloc._setitem_with_indexer(indexer, value)\n/opt/conda/lib/python3.7/site-packages/pandas/core/indexing.py:670: SettingWithCopyWarning: \nA value is trying to be set on a copy of a slice from a DataFrame\n\nSee the caveats in the documentation: https://pandas.pydata.org/pandas-docs/stable/user_guide/indexing.html#returning-a-view-versus-a-copy\n  iloc._setitem_with_indexer(indexer, value)\n/opt/conda/lib/python3.7/site-packages/pandas/core/indexing.py:670: SettingWithCopyWarning: \nA value is trying to be set on a copy of a slice from a DataFrame\n\nSee the caveats in the documentation: https://pandas.pydata.org/pandas-docs/stable/user_guide/indexing.html#returning-a-view-versus-a-copy\n  iloc._setitem_with_indexer(indexer, value)\n/opt/conda/lib/python3.7/site-packages/pandas/core/indexing.py:670: SettingWithCopyWarning: \nA value is trying to be set on a copy of a slice from a DataFrame\n\nSee the caveats in the documentation: https://pandas.pydata.org/pandas-docs/stable/user_guide/indexing.html#returning-a-view-versus-a-copy\n  iloc._setitem_with_indexer(indexer, value)\n"
     ]
    }
   ],
   "source": [
    "for a in away_2009:\n",
    "    model_predict.probability.loc[(model_predict.customer_id == a)] = 0"
   ]
  },
  {
   "cell_type": "code",
   "execution_count": 14,
   "metadata": {},
   "outputs": [
    {
     "output_type": "execute_result",
     "data": {
      "text/plain": [
       "        customer_id  probability\n",
       "count    100.000000   100.000000\n",
       "mean   15704.880000     0.063367\n",
       "std     1632.843039     0.006869\n",
       "min    12443.000000     0.055383\n",
       "25%    14547.500000     0.058496\n",
       "50%    16031.500000     0.062130\n",
       "75%    17066.250000     0.066204\n",
       "max    18201.000000     0.086684"
      ],
      "text/html": "<div>\n<style scoped>\n    .dataframe tbody tr th:only-of-type {\n        vertical-align: middle;\n    }\n\n    .dataframe tbody tr th {\n        vertical-align: top;\n    }\n\n    .dataframe thead th {\n        text-align: right;\n    }\n</style>\n<table border=\"1\" class=\"dataframe\">\n  <thead>\n    <tr style=\"text-align: right;\">\n      <th></th>\n      <th>customer_id</th>\n      <th>probability</th>\n    </tr>\n  </thead>\n  <tbody>\n    <tr>\n      <th>count</th>\n      <td>100.000000</td>\n      <td>100.000000</td>\n    </tr>\n    <tr>\n      <th>mean</th>\n      <td>15704.880000</td>\n      <td>0.063367</td>\n    </tr>\n    <tr>\n      <th>std</th>\n      <td>1632.843039</td>\n      <td>0.006869</td>\n    </tr>\n    <tr>\n      <th>min</th>\n      <td>12443.000000</td>\n      <td>0.055383</td>\n    </tr>\n    <tr>\n      <th>25%</th>\n      <td>14547.500000</td>\n      <td>0.058496</td>\n    </tr>\n    <tr>\n      <th>50%</th>\n      <td>16031.500000</td>\n      <td>0.062130</td>\n    </tr>\n    <tr>\n      <th>75%</th>\n      <td>17066.250000</td>\n      <td>0.066204</td>\n    </tr>\n    <tr>\n      <th>max</th>\n      <td>18201.000000</td>\n      <td>0.086684</td>\n    </tr>\n  </tbody>\n</table>\n</div>"
     },
     "metadata": {},
     "execution_count": 14
    }
   ],
   "source": [
    "model_predict[model_predict.customer_id.isin(away_2009)].describe()"
   ]
  },
  {
   "cell_type": "code",
   "execution_count": 15,
   "metadata": {},
   "outputs": [],
   "source": [
    "output_dir = '/opt/ml/code/output'\n",
    "model_predict.to_csv(os.path.join(output_dir , f'b3_tdiff_zero_test.csv'), index=False)"
   ]
  },
  {
   "cell_type": "code",
   "execution_count": 5,
   "metadata": {},
   "outputs": [
    {
     "output_type": "execute_result",
     "data": {
      "text/plain": [
       "5914"
      ]
     },
     "metadata": {},
     "execution_count": 5
    }
   ],
   "source": [
    "len(data.customer_id.unique())"
   ]
  },
  {
   "cell_type": "code",
   "execution_count": 9,
   "metadata": {},
   "outputs": [],
   "source": [
    "year_2011_10 = data[data['order_date'] < '2011-11']"
   ]
  },
  {
   "cell_type": "code",
   "execution_count": 10,
   "metadata": {},
   "outputs": [
    {
     "output_type": "execute_result",
     "data": {
      "text/plain": [
       "       order_id product_id                         description  quantity  \\\n",
       "716265   573695      23557        LANDMARK FRAME BAKER STREET          2   \n",
       "716266   573695     85123A  WHITE HANGING HEART T-LIGHT HOLDER        32   \n",
       "716267   573695      23407      SET OF 2 TRAYS HOME SWEET HOME         2   \n",
       "716268   573695      23543                 WALL ART KEEP CALM          1   \n",
       "716269   573695      23397         FOOT STOOL HOME SWEET HOME          4   \n",
       "\n",
       "                order_date    price  customer_id         country     total  \n",
       "716265 2011-10-31 17:13:00  20.6250        15023  United Kingdom   41.2500  \n",
       "716266 2011-10-31 17:13:00   4.2075        15023  United Kingdom  134.6400  \n",
       "716267 2011-10-31 17:13:00  16.4175        15023  United Kingdom   32.8350  \n",
       "716268 2011-10-31 17:13:00  13.6125        15023  United Kingdom   13.6125  \n",
       "716269 2011-10-31 17:13:00  16.4175        15023  United Kingdom   65.6700  "
      ],
      "text/html": "<div>\n<style scoped>\n    .dataframe tbody tr th:only-of-type {\n        vertical-align: middle;\n    }\n\n    .dataframe tbody tr th {\n        vertical-align: top;\n    }\n\n    .dataframe thead th {\n        text-align: right;\n    }\n</style>\n<table border=\"1\" class=\"dataframe\">\n  <thead>\n    <tr style=\"text-align: right;\">\n      <th></th>\n      <th>order_id</th>\n      <th>product_id</th>\n      <th>description</th>\n      <th>quantity</th>\n      <th>order_date</th>\n      <th>price</th>\n      <th>customer_id</th>\n      <th>country</th>\n      <th>total</th>\n    </tr>\n  </thead>\n  <tbody>\n    <tr>\n      <th>716265</th>\n      <td>573695</td>\n      <td>23557</td>\n      <td>LANDMARK FRAME BAKER STREET</td>\n      <td>2</td>\n      <td>2011-10-31 17:13:00</td>\n      <td>20.6250</td>\n      <td>15023</td>\n      <td>United Kingdom</td>\n      <td>41.2500</td>\n    </tr>\n    <tr>\n      <th>716266</th>\n      <td>573695</td>\n      <td>85123A</td>\n      <td>WHITE HANGING HEART T-LIGHT HOLDER</td>\n      <td>32</td>\n      <td>2011-10-31 17:13:00</td>\n      <td>4.2075</td>\n      <td>15023</td>\n      <td>United Kingdom</td>\n      <td>134.6400</td>\n    </tr>\n    <tr>\n      <th>716267</th>\n      <td>573695</td>\n      <td>23407</td>\n      <td>SET OF 2 TRAYS HOME SWEET HOME</td>\n      <td>2</td>\n      <td>2011-10-31 17:13:00</td>\n      <td>16.4175</td>\n      <td>15023</td>\n      <td>United Kingdom</td>\n      <td>32.8350</td>\n    </tr>\n    <tr>\n      <th>716268</th>\n      <td>573695</td>\n      <td>23543</td>\n      <td>WALL ART KEEP CALM</td>\n      <td>1</td>\n      <td>2011-10-31 17:13:00</td>\n      <td>13.6125</td>\n      <td>15023</td>\n      <td>United Kingdom</td>\n      <td>13.6125</td>\n    </tr>\n    <tr>\n      <th>716269</th>\n      <td>573695</td>\n      <td>23397</td>\n      <td>FOOT STOOL HOME SWEET HOME</td>\n      <td>4</td>\n      <td>2011-10-31 17:13:00</td>\n      <td>16.4175</td>\n      <td>15023</td>\n      <td>United Kingdom</td>\n      <td>65.6700</td>\n    </tr>\n  </tbody>\n</table>\n</div>"
     },
     "metadata": {},
     "execution_count": 10
    }
   ],
   "source": [
    "year_2011_10.tail()"
   ]
  },
  {
   "cell_type": "code",
   "execution_count": 11,
   "metadata": {},
   "outputs": [
    {
     "output_type": "execute_result",
     "data": {
      "text/plain": [
       "5722"
      ]
     },
     "metadata": {},
     "execution_count": 11
    }
   ],
   "source": [
    "len(year_2011_10.customer_id.unique())"
   ]
  },
  {
   "cell_type": "code",
   "execution_count": 21,
   "metadata": {},
   "outputs": [
    {
     "output_type": "display_data",
     "data": {
      "text/plain": "<Figure size 432x288 with 1 Axes>",
      "image/svg+xml": "<?xml version=\"1.0\" encoding=\"utf-8\" standalone=\"no\"?>\n<!DOCTYPE svg PUBLIC \"-//W3C//DTD SVG 1.1//EN\"\n  \"http://www.w3.org/Graphics/SVG/1.1/DTD/svg11.dtd\">\n<!-- Created with matplotlib (https://matplotlib.org/) -->\n<svg height=\"251.362599pt\" version=\"1.1\" viewBox=\"0 0 231.856369 251.362599\" width=\"231.856369pt\" xmlns=\"http://www.w3.org/2000/svg\" xmlns:xlink=\"http://www.w3.org/1999/xlink\">\n <defs>\n  <style type=\"text/css\">\n*{stroke-linecap:butt;stroke-linejoin:round;}\n  </style>\n </defs>\n <g id=\"figure_1\">\n  <g id=\"patch_1\">\n   <path d=\"M 0 251.362599 \nL 231.856369 251.362599 \nL 231.856369 0 \nL 0 0 \nz\n\" style=\"fill:none;\"/>\n  </g>\n  <g id=\"axes_1\">\n   <g id=\"patch_2\">\n    <path clip-path=\"url(#p0186ae3371)\" d=\"M 207.29804 144.409517 \nC 205.625187 155.650399 201.857625 166.478167 196.191357 176.329526 \nC 190.52509 186.180885 183.060109 194.881985 174.184768 201.980167 \nC 165.309428 209.078349 155.180352 214.44835 144.324489 217.810804 \nC 133.468626 221.173259 122.077551 222.468829 110.743866 221.630115 \nC 99.410181 220.791401 88.333893 217.833204 78.091228 212.909419 \nC 67.848562 207.985633 58.620273 201.183151 50.886446 192.85586 \nC 43.15262 184.528568 37.049736 174.82342 32.895287 164.24531 \nC 28.740838 153.6672 26.608139 142.402801 26.608139 131.038125 \nC 26.608139 119.673449 28.740838 108.40905 32.895287 97.83094 \nC 37.049736 87.25283 43.15262 77.547682 50.886446 69.22039 \nC 58.620273 60.893099 67.848562 54.090617 78.091228 49.166831 \nC 88.333893 44.243046 99.410181 41.284849 110.743866 40.446135 \nC 122.077551 39.607421 133.468626 40.902991 144.324489 44.265446 \nC 155.180352 47.6279 165.309428 52.997901 174.184768 60.096083 \nC 183.060109 67.194265 190.52509 75.895365 196.191357 85.746724 \nC 201.857625 95.598083 205.625187 106.425851 207.29804 117.666733 \nC 205.623818 106.225355 201.815543 95.199538 196.071653 85.163808 \nC 190.327763 75.128078 182.749788 66.259826 173.732595 59.021153 \nC 164.715402 51.78248 154.41838 46.301337 143.378078 42.863331 \nC 132.337777 39.425325 120.749344 38.091226 109.216622 38.930552 \nC 97.683899 39.769877 86.41074 42.76779 75.984558 47.768077 \nC 65.558376 52.768365 56.163464 59.682642 48.289366 68.150624 \nC 40.415268 76.618607 34.201166 86.490614 29.97086 97.252244 \nC 25.740555 108.013873 23.56882 119.474901 23.56882 131.038125 \nC 23.56882 142.601349 25.740555 154.062377 29.97086 164.824006 \nC 34.201166 175.585636 40.415268 185.457643 48.289366 193.925626 \nC 56.163464 202.393608 65.558376 209.307885 75.984558 214.308173 \nC 86.41074 219.30846 97.683899 222.306373 109.216622 223.145698 \nC 120.749344 223.985024 132.337777 222.650925 143.378078 219.212919 \nC 154.41838 215.774913 164.715402 210.29377 173.732595 203.055097 \nC 182.749788 195.816424 190.327763 186.948172 196.071653 176.912442 \nC 201.815543 166.876712 205.623818 155.850895 207.29804 144.409517 \n\" style=\"fill:#ff0000;opacity:0.4;\"/>\n   </g>\n   <g id=\"patch_3\">\n    <path clip-path=\"url(#p0186ae3371)\" d=\"M 207.29804 117.666733 \nC 207.945943 122.094399 208.27118 126.563306 208.27118 131.038125 \nC 208.27118 135.512944 207.945943 139.981851 207.29804 144.409517 \nC 207.956811 139.982849 208.287548 135.513543 208.287548 131.038125 \nC 208.287548 126.562707 207.956811 122.093401 207.29804 117.666733 \n\" style=\"fill:#008000;opacity:0.4;\"/>\n   </g>\n   <g id=\"patch_4\">\n    <path clip-path=\"url(#p0186ae3371)\" d=\"M 207.29804 144.409517 \nC 207.945943 139.981851 208.27118 135.512944 208.27118 131.038125 \nC 208.27118 126.563306 207.945943 122.094399 207.29804 117.666733 \nC 205.625187 106.425851 201.857625 95.598083 196.191357 85.746724 \nC 190.52509 75.895365 183.060109 67.194265 174.184768 60.096083 \nC 165.309428 52.997901 155.180352 47.6279 144.324489 44.265446 \nC 133.468626 40.902991 122.077551 39.607421 110.743866 40.446135 \nC 99.410181 41.284849 88.333893 44.243046 78.091228 49.166831 \nC 67.848562 54.090617 58.620273 60.893099 50.886446 69.22039 \nC 43.15262 77.547682 37.049736 87.25283 32.895287 97.83094 \nC 28.740838 108.40905 26.608139 119.673449 26.608139 131.038125 \nC 26.608139 142.402801 28.740838 153.6672 32.895287 164.24531 \nC 37.049736 174.82342 43.15262 184.528568 50.886446 192.85586 \nC 58.620273 201.183151 67.848562 207.985633 78.091228 212.909419 \nC 88.333893 217.833204 99.410181 220.791401 110.743866 221.630115 \nC 122.077551 222.468829 133.468626 221.173259 144.324489 217.810804 \nC 155.180352 214.44835 165.309428 209.078349 174.184768 201.980167 \nC 183.060109 194.881985 190.52509 186.180885 196.191357 176.329526 \nC 201.857625 166.478167 205.625187 155.650399 207.29804 144.409517 \n\" style=\"fill:#b25900;opacity:0.4;\"/>\n   </g>\n   <g id=\"text_1\">\n    <!-- 192 -->\n    <defs>\n     <path d=\"M 12.40625 8.296875 \nL 28.515625 8.296875 \nL 28.515625 63.921875 \nL 10.984375 60.40625 \nL 10.984375 69.390625 \nL 28.421875 72.90625 \nL 38.28125 72.90625 \nL 38.28125 8.296875 \nL 54.390625 8.296875 \nL 54.390625 0 \nL 12.40625 0 \nz\n\" id=\"DejaVuSans-49\"/>\n     <path d=\"M 10.984375 1.515625 \nL 10.984375 10.5 \nQ 14.703125 8.734375 18.5 7.8125 \nQ 22.3125 6.890625 25.984375 6.890625 \nQ 35.75 6.890625 40.890625 13.453125 \nQ 46.046875 20.015625 46.78125 33.40625 \nQ 43.953125 29.203125 39.59375 26.953125 \nQ 35.25 24.703125 29.984375 24.703125 \nQ 19.046875 24.703125 12.671875 31.3125 \nQ 6.296875 37.9375 6.296875 49.421875 \nQ 6.296875 60.640625 12.9375 67.421875 \nQ 19.578125 74.21875 30.609375 74.21875 \nQ 43.265625 74.21875 49.921875 64.515625 \nQ 56.59375 54.828125 56.59375 36.375 \nQ 56.59375 19.140625 48.40625 8.859375 \nQ 40.234375 -1.421875 26.421875 -1.421875 \nQ 22.703125 -1.421875 18.890625 -0.6875 \nQ 15.09375 0.046875 10.984375 1.515625 \nz\nM 30.609375 32.421875 \nQ 37.25 32.421875 41.125 36.953125 \nQ 45.015625 41.5 45.015625 49.421875 \nQ 45.015625 57.28125 41.125 61.84375 \nQ 37.25 66.40625 30.609375 66.40625 \nQ 23.96875 66.40625 20.09375 61.84375 \nQ 16.21875 57.28125 16.21875 49.421875 \nQ 16.21875 41.5 20.09375 36.953125 \nQ 23.96875 32.421875 30.609375 32.421875 \nz\n\" id=\"DejaVuSans-57\"/>\n     <path d=\"M 19.1875 8.296875 \nL 53.609375 8.296875 \nL 53.609375 0 \nL 7.328125 0 \nL 7.328125 8.296875 \nQ 12.9375 14.109375 22.625 23.890625 \nQ 32.328125 33.6875 34.8125 36.53125 \nQ 39.546875 41.84375 41.421875 45.53125 \nQ 43.3125 49.21875 43.3125 52.78125 \nQ 43.3125 58.59375 39.234375 62.25 \nQ 35.15625 65.921875 28.609375 65.921875 \nQ 23.96875 65.921875 18.8125 64.3125 \nQ 13.671875 62.703125 7.8125 59.421875 \nL 7.8125 69.390625 \nQ 13.765625 71.78125 18.9375 73 \nQ 24.125 74.21875 28.421875 74.21875 \nQ 39.75 74.21875 46.484375 68.546875 \nQ 53.21875 62.890625 53.21875 53.421875 \nQ 53.21875 48.921875 51.53125 44.890625 \nQ 49.859375 40.875 45.40625 35.40625 \nQ 44.1875 33.984375 37.640625 27.21875 \nQ 31.109375 20.453125 19.1875 8.296875 \nz\n\" id=\"DejaVuSans-50\"/>\n    </defs>\n    <g transform=\"translate(15.54473 133.7975)scale(0.1 -0.1)\">\n     <use xlink:href=\"#DejaVuSans-49\"/>\n     <use x=\"63.623047\" xlink:href=\"#DejaVuSans-57\"/>\n     <use x=\"127.246094\" xlink:href=\"#DejaVuSans-50\"/>\n    </g>\n   </g>\n   <g id=\"text_2\">\n    <!-- 0 -->\n    <defs>\n     <path d=\"M 31.78125 66.40625 \nQ 24.171875 66.40625 20.328125 58.90625 \nQ 16.5 51.421875 16.5 36.375 \nQ 16.5 21.390625 20.328125 13.890625 \nQ 24.171875 6.390625 31.78125 6.390625 \nQ 39.453125 6.390625 43.28125 13.890625 \nQ 47.125 21.390625 47.125 36.375 \nQ 47.125 51.421875 43.28125 58.90625 \nQ 39.453125 66.40625 31.78125 66.40625 \nz\nM 31.78125 74.21875 \nQ 44.046875 74.21875 50.515625 64.515625 \nQ 56.984375 54.828125 56.984375 36.375 \nQ 56.984375 17.96875 50.515625 8.265625 \nQ 44.046875 -1.421875 31.78125 -1.421875 \nQ 19.53125 -1.421875 13.0625 8.265625 \nQ 6.59375 17.96875 6.59375 36.375 \nQ 6.59375 54.828125 13.0625 64.515625 \nQ 19.53125 74.21875 31.78125 74.21875 \nz\n\" id=\"DejaVuSans-48\"/>\n    </defs>\n    <g transform=\"translate(205.098114 133.7975)scale(0.1 -0.1)\">\n     <use xlink:href=\"#DejaVuSans-48\"/>\n    </g>\n   </g>\n   <g id=\"text_3\">\n    <!-- 5722 -->\n    <defs>\n     <path d=\"M 10.796875 72.90625 \nL 49.515625 72.90625 \nL 49.515625 64.59375 \nL 19.828125 64.59375 \nL 19.828125 46.734375 \nQ 21.96875 47.46875 24.109375 47.828125 \nQ 26.265625 48.1875 28.421875 48.1875 \nQ 40.625 48.1875 47.75 41.5 \nQ 54.890625 34.8125 54.890625 23.390625 \nQ 54.890625 11.625 47.5625 5.09375 \nQ 40.234375 -1.421875 26.90625 -1.421875 \nQ 22.3125 -1.421875 17.546875 -0.640625 \nQ 12.796875 0.140625 7.71875 1.703125 \nL 7.71875 11.625 \nQ 12.109375 9.234375 16.796875 8.0625 \nQ 21.484375 6.890625 26.703125 6.890625 \nQ 35.15625 6.890625 40.078125 11.328125 \nQ 45.015625 15.765625 45.015625 23.390625 \nQ 45.015625 31 40.078125 35.4375 \nQ 35.15625 39.890625 26.703125 39.890625 \nQ 22.75 39.890625 18.8125 39.015625 \nQ 14.890625 38.140625 10.796875 36.28125 \nz\n\" id=\"DejaVuSans-53\"/>\n     <path d=\"M 8.203125 72.90625 \nL 55.078125 72.90625 \nL 55.078125 68.703125 \nL 28.609375 0 \nL 18.3125 0 \nL 43.21875 64.59375 \nL 8.203125 64.59375 \nz\n\" id=\"DejaVuSans-55\"/>\n    </defs>\n    <g transform=\"translate(104.714659 133.7975)scale(0.1 -0.1)\">\n     <use xlink:href=\"#DejaVuSans-53\"/>\n     <use x=\"63.623047\" xlink:href=\"#DejaVuSans-55\"/>\n     <use x=\"127.246094\" xlink:href=\"#DejaVuSans-50\"/>\n     <use x=\"190.869141\" xlink:href=\"#DejaVuSans-50\"/>\n    </g>\n   </g>\n   <g id=\"text_4\">\n    <!-- 10 -->\n    <g transform=\"translate(100.65 241.666974)scale(0.12 -0.12)\">\n     <use xlink:href=\"#DejaVuSans-49\"/>\n     <use x=\"63.623047\" xlink:href=\"#DejaVuSans-48\"/>\n    </g>\n   </g>\n   <g id=\"text_5\">\n    <!-- 11 -->\n    <g transform=\"translate(117.447844 240.155499)scale(0.12 -0.12)\">\n     <use xlink:href=\"#DejaVuSans-49\"/>\n     <use x=\"63.623047\" xlink:href=\"#DejaVuSans-49\"/>\n    </g>\n   </g>\n   <g id=\"text_6\">\n    <!-- customer_id -->\n    <defs>\n     <path d=\"M 48.78125 52.59375 \nL 48.78125 44.1875 \nQ 44.96875 46.296875 41.140625 47.34375 \nQ 37.3125 48.390625 33.40625 48.390625 \nQ 24.65625 48.390625 19.8125 42.84375 \nQ 14.984375 37.3125 14.984375 27.296875 \nQ 14.984375 17.28125 19.8125 11.734375 \nQ 24.65625 6.203125 33.40625 6.203125 \nQ 37.3125 6.203125 41.140625 7.25 \nQ 44.96875 8.296875 48.78125 10.40625 \nL 48.78125 2.09375 \nQ 45.015625 0.34375 40.984375 -0.53125 \nQ 36.96875 -1.421875 32.421875 -1.421875 \nQ 20.0625 -1.421875 12.78125 6.34375 \nQ 5.515625 14.109375 5.515625 27.296875 \nQ 5.515625 40.671875 12.859375 48.328125 \nQ 20.21875 56 33.015625 56 \nQ 37.15625 56 41.109375 55.140625 \nQ 45.0625 54.296875 48.78125 52.59375 \nz\n\" id=\"DejaVuSans-99\"/>\n     <path d=\"M 8.5 21.578125 \nL 8.5 54.6875 \nL 17.484375 54.6875 \nL 17.484375 21.921875 \nQ 17.484375 14.15625 20.5 10.265625 \nQ 23.53125 6.390625 29.59375 6.390625 \nQ 36.859375 6.390625 41.078125 11.03125 \nQ 45.3125 15.671875 45.3125 23.6875 \nL 45.3125 54.6875 \nL 54.296875 54.6875 \nL 54.296875 0 \nL 45.3125 0 \nL 45.3125 8.40625 \nQ 42.046875 3.421875 37.71875 1 \nQ 33.40625 -1.421875 27.6875 -1.421875 \nQ 18.265625 -1.421875 13.375 4.4375 \nQ 8.5 10.296875 8.5 21.578125 \nz\nM 31.109375 56 \nz\n\" id=\"DejaVuSans-117\"/>\n     <path d=\"M 44.28125 53.078125 \nL 44.28125 44.578125 \nQ 40.484375 46.53125 36.375 47.5 \nQ 32.28125 48.484375 27.875 48.484375 \nQ 21.1875 48.484375 17.84375 46.4375 \nQ 14.5 44.390625 14.5 40.28125 \nQ 14.5 37.15625 16.890625 35.375 \nQ 19.28125 33.59375 26.515625 31.984375 \nL 29.59375 31.296875 \nQ 39.15625 29.25 43.1875 25.515625 \nQ 47.21875 21.78125 47.21875 15.09375 \nQ 47.21875 7.46875 41.1875 3.015625 \nQ 35.15625 -1.421875 24.609375 -1.421875 \nQ 20.21875 -1.421875 15.453125 -0.5625 \nQ 10.6875 0.296875 5.421875 2 \nL 5.421875 11.28125 \nQ 10.40625 8.6875 15.234375 7.390625 \nQ 20.0625 6.109375 24.8125 6.109375 \nQ 31.15625 6.109375 34.5625 8.28125 \nQ 37.984375 10.453125 37.984375 14.40625 \nQ 37.984375 18.0625 35.515625 20.015625 \nQ 33.0625 21.96875 24.703125 23.78125 \nL 21.578125 24.515625 \nQ 13.234375 26.265625 9.515625 29.90625 \nQ 5.8125 33.546875 5.8125 39.890625 \nQ 5.8125 47.609375 11.28125 51.796875 \nQ 16.75 56 26.8125 56 \nQ 31.78125 56 36.171875 55.265625 \nQ 40.578125 54.546875 44.28125 53.078125 \nz\n\" id=\"DejaVuSans-115\"/>\n     <path d=\"M 18.3125 70.21875 \nL 18.3125 54.6875 \nL 36.8125 54.6875 \nL 36.8125 47.703125 \nL 18.3125 47.703125 \nL 18.3125 18.015625 \nQ 18.3125 11.328125 20.140625 9.421875 \nQ 21.96875 7.515625 27.59375 7.515625 \nL 36.8125 7.515625 \nL 36.8125 0 \nL 27.59375 0 \nQ 17.1875 0 13.234375 3.875 \nQ 9.28125 7.765625 9.28125 18.015625 \nL 9.28125 47.703125 \nL 2.6875 47.703125 \nL 2.6875 54.6875 \nL 9.28125 54.6875 \nL 9.28125 70.21875 \nz\n\" id=\"DejaVuSans-116\"/>\n     <path d=\"M 30.609375 48.390625 \nQ 23.390625 48.390625 19.1875 42.75 \nQ 14.984375 37.109375 14.984375 27.296875 \nQ 14.984375 17.484375 19.15625 11.84375 \nQ 23.34375 6.203125 30.609375 6.203125 \nQ 37.796875 6.203125 41.984375 11.859375 \nQ 46.1875 17.53125 46.1875 27.296875 \nQ 46.1875 37.015625 41.984375 42.703125 \nQ 37.796875 48.390625 30.609375 48.390625 \nz\nM 30.609375 56 \nQ 42.328125 56 49.015625 48.375 \nQ 55.71875 40.765625 55.71875 27.296875 \nQ 55.71875 13.875 49.015625 6.21875 \nQ 42.328125 -1.421875 30.609375 -1.421875 \nQ 18.84375 -1.421875 12.171875 6.21875 \nQ 5.515625 13.875 5.515625 27.296875 \nQ 5.515625 40.765625 12.171875 48.375 \nQ 18.84375 56 30.609375 56 \nz\n\" id=\"DejaVuSans-111\"/>\n     <path d=\"M 52 44.1875 \nQ 55.375 50.25 60.0625 53.125 \nQ 64.75 56 71.09375 56 \nQ 79.640625 56 84.28125 50.015625 \nQ 88.921875 44.046875 88.921875 33.015625 \nL 88.921875 0 \nL 79.890625 0 \nL 79.890625 32.71875 \nQ 79.890625 40.578125 77.09375 44.375 \nQ 74.3125 48.1875 68.609375 48.1875 \nQ 61.625 48.1875 57.5625 43.546875 \nQ 53.515625 38.921875 53.515625 30.90625 \nL 53.515625 0 \nL 44.484375 0 \nL 44.484375 32.71875 \nQ 44.484375 40.625 41.703125 44.40625 \nQ 38.921875 48.1875 33.109375 48.1875 \nQ 26.21875 48.1875 22.15625 43.53125 \nQ 18.109375 38.875 18.109375 30.90625 \nL 18.109375 0 \nL 9.078125 0 \nL 9.078125 54.6875 \nL 18.109375 54.6875 \nL 18.109375 46.1875 \nQ 21.1875 51.21875 25.484375 53.609375 \nQ 29.78125 56 35.6875 56 \nQ 41.65625 56 45.828125 52.96875 \nQ 50 49.953125 52 44.1875 \nz\n\" id=\"DejaVuSans-109\"/>\n     <path d=\"M 56.203125 29.59375 \nL 56.203125 25.203125 \nL 14.890625 25.203125 \nQ 15.484375 15.921875 20.484375 11.0625 \nQ 25.484375 6.203125 34.421875 6.203125 \nQ 39.59375 6.203125 44.453125 7.46875 \nQ 49.3125 8.734375 54.109375 11.28125 \nL 54.109375 2.78125 \nQ 49.265625 0.734375 44.1875 -0.34375 \nQ 39.109375 -1.421875 33.890625 -1.421875 \nQ 20.796875 -1.421875 13.15625 6.1875 \nQ 5.515625 13.8125 5.515625 26.8125 \nQ 5.515625 40.234375 12.765625 48.109375 \nQ 20.015625 56 32.328125 56 \nQ 43.359375 56 49.78125 48.890625 \nQ 56.203125 41.796875 56.203125 29.59375 \nz\nM 47.21875 32.234375 \nQ 47.125 39.59375 43.09375 43.984375 \nQ 39.0625 48.390625 32.421875 48.390625 \nQ 24.90625 48.390625 20.390625 44.140625 \nQ 15.875 39.890625 15.1875 32.171875 \nz\n\" id=\"DejaVuSans-101\"/>\n     <path d=\"M 41.109375 46.296875 \nQ 39.59375 47.171875 37.8125 47.578125 \nQ 36.03125 48 33.890625 48 \nQ 26.265625 48 22.1875 43.046875 \nQ 18.109375 38.09375 18.109375 28.8125 \nL 18.109375 0 \nL 9.078125 0 \nL 9.078125 54.6875 \nL 18.109375 54.6875 \nL 18.109375 46.1875 \nQ 20.953125 51.171875 25.484375 53.578125 \nQ 30.03125 56 36.53125 56 \nQ 37.453125 56 38.578125 55.875 \nQ 39.703125 55.765625 41.0625 55.515625 \nz\n\" id=\"DejaVuSans-114\"/>\n     <path d=\"M 50.984375 -16.609375 \nL 50.984375 -23.578125 \nL -0.984375 -23.578125 \nL -0.984375 -16.609375 \nz\n\" id=\"DejaVuSans-95\"/>\n     <path d=\"M 9.421875 54.6875 \nL 18.40625 54.6875 \nL 18.40625 0 \nL 9.421875 0 \nz\nM 9.421875 75.984375 \nL 18.40625 75.984375 \nL 18.40625 64.59375 \nL 9.421875 64.59375 \nz\n\" id=\"DejaVuSans-105\"/>\n     <path d=\"M 45.40625 46.390625 \nL 45.40625 75.984375 \nL 54.390625 75.984375 \nL 54.390625 0 \nL 45.40625 0 \nL 45.40625 8.203125 \nQ 42.578125 3.328125 38.25 0.953125 \nQ 33.9375 -1.421875 27.875 -1.421875 \nQ 17.96875 -1.421875 11.734375 6.484375 \nQ 5.515625 14.40625 5.515625 27.296875 \nQ 5.515625 40.1875 11.734375 48.09375 \nQ 17.96875 56 27.875 56 \nQ 33.9375 56 38.25 53.625 \nQ 42.578125 51.265625 45.40625 46.390625 \nz\nM 14.796875 27.296875 \nQ 14.796875 17.390625 18.875 11.75 \nQ 22.953125 6.109375 30.078125 6.109375 \nQ 37.203125 6.109375 41.296875 11.75 \nQ 45.40625 17.390625 45.40625 27.296875 \nQ 45.40625 37.203125 41.296875 42.84375 \nQ 37.203125 48.484375 30.078125 48.484375 \nQ 22.953125 48.484375 18.875 42.84375 \nQ 14.796875 37.203125 14.796875 27.296875 \nz\n\" id=\"DejaVuSans-100\"/>\n    </defs>\n    <g transform=\"translate(79.198809 16.318125)scale(0.12 -0.12)\">\n     <use xlink:href=\"#DejaVuSans-99\"/>\n     <use x=\"54.980469\" xlink:href=\"#DejaVuSans-117\"/>\n     <use x=\"118.359375\" xlink:href=\"#DejaVuSans-115\"/>\n     <use x=\"170.458984\" xlink:href=\"#DejaVuSans-116\"/>\n     <use x=\"209.667969\" xlink:href=\"#DejaVuSans-111\"/>\n     <use x=\"270.849609\" xlink:href=\"#DejaVuSans-109\"/>\n     <use x=\"368.261719\" xlink:href=\"#DejaVuSans-101\"/>\n     <use x=\"429.785156\" xlink:href=\"#DejaVuSans-114\"/>\n     <use x=\"470.898438\" xlink:href=\"#DejaVuSans-95\"/>\n     <use x=\"520.898438\" xlink:href=\"#DejaVuSans-105\"/>\n     <use x=\"548.681641\" xlink:href=\"#DejaVuSans-100\"/>\n    </g>\n   </g>\n  </g>\n </g>\n <defs>\n  <clipPath id=\"p0186ae3371\">\n   <rect height=\"217.44\" width=\"217.456369\" x=\"7.2\" y=\"22.318125\"/>\n  </clipPath>\n </defs>\n</svg>\n",
      "image/png": "[encoded data removed]"
     },
     "metadata": {}
    }
   ],
   "source": [
    "newbie = set(data.customer_id.unique()) - set(year_2011_10.customer_id.unique())\n",
    "venn2([set(data.customer_id.unique()), set(year_2011_10.customer_id.unique())], ('10', '11'))\n",
    "plt.title('customer_id')\n",
    "plt.show()"
   ]
  },
  {
   "cell_type": "code",
   "execution_count": 22,
   "metadata": {},
   "outputs": [
    {
     "output_type": "execute_result",
     "data": {
      "text/plain": [
       "192"
      ]
     },
     "metadata": {},
     "execution_count": 22
    }
   ],
   "source": [
    "len(newbie)"
   ]
  },
  {
   "cell_type": "code",
   "execution_count": 24,
   "metadata": {},
   "outputs": [],
   "source": [
    "check = pd.read_csv(\"/opt/ml/code/output/baseline3_test.csv\")"
   ]
  },
  {
   "cell_type": "code",
   "execution_count": 28,
   "metadata": {},
   "outputs": [
    {
     "output_type": "execute_result",
     "data": {
      "text/plain": [
       "        customer_id  probability\n",
       "count    192.000000   192.000000\n",
       "mean   15416.354167     0.114782\n",
       "std     1789.674763     0.061903\n",
       "min    12452.000000     0.059627\n",
       "25%    13840.000000     0.070451\n",
       "50%    15456.500000     0.096962\n",
       "75%    17113.250000     0.134801\n",
       "max    18274.000000     0.543037"
      ],
      "text/html": "<div>\n<style scoped>\n    .dataframe tbody tr th:only-of-type {\n        vertical-align: middle;\n    }\n\n    .dataframe tbody tr th {\n        vertical-align: top;\n    }\n\n    .dataframe thead th {\n        text-align: right;\n    }\n</style>\n<table border=\"1\" class=\"dataframe\">\n  <thead>\n    <tr style=\"text-align: right;\">\n      <th></th>\n      <th>customer_id</th>\n      <th>probability</th>\n    </tr>\n  </thead>\n  <tbody>\n    <tr>\n      <th>count</th>\n      <td>192.000000</td>\n      <td>192.000000</td>\n    </tr>\n    <tr>\n      <th>mean</th>\n      <td>15416.354167</td>\n      <td>0.114782</td>\n    </tr>\n    <tr>\n      <th>std</th>\n      <td>1789.674763</td>\n      <td>0.061903</td>\n    </tr>\n    <tr>\n      <th>min</th>\n      <td>12452.000000</td>\n      <td>0.059627</td>\n    </tr>\n    <tr>\n      <th>25%</th>\n      <td>13840.000000</td>\n      <td>0.070451</td>\n    </tr>\n    <tr>\n      <th>50%</th>\n      <td>15456.500000</td>\n      <td>0.096962</td>\n    </tr>\n    <tr>\n      <th>75%</th>\n      <td>17113.250000</td>\n      <td>0.134801</td>\n    </tr>\n    <tr>\n      <th>max</th>\n      <td>18274.000000</td>\n      <td>0.543037</td>\n    </tr>\n  </tbody>\n</table>\n</div>"
     },
     "metadata": {},
     "execution_count": 28
    }
   ],
   "source": [
    "pd.set_option('display.max_row', 100)\n",
    "check[check.customer_id.isin(newbie)].describe()"
   ]
  },
  {
   "cell_type": "code",
   "execution_count": 48,
   "metadata": {},
   "outputs": [
    {
     "output_type": "execute_result",
     "data": {
      "text/plain": [
       "       order_id product_id                          description  quantity  \\\n",
       "716320   573747      20956   PORCELAIN T-LIGHT HOLDERS ASSORTED        12   \n",
       "716321   573747      21479        WHITE SKULL HOT WATER BOTTLE          4   \n",
       "716322   573747      21824  PAINTED METAL STAR WITH HOLLY BELLS        24   \n",
       "716323   573747      22051       BLUE SCANDINAVIAN PAISLEY WRAP        25   \n",
       "716324   573747      22114    HOT WATER BOTTLE TEA AND SYMPATHY         4   \n",
       "...         ...        ...                                  ...       ...   \n",
       "780108   579837      23284        DOORMAT KEEP CALM AND COME IN        40   \n",
       "780109   579837      22692          DOORMAT WELCOME TO OUR HOME        20   \n",
       "780110   579837      21524       DOORMAT SPOTTY HOME SWEET HOME        10   \n",
       "780111   579837      48184                DOORMAT ENGLISH ROSE         10   \n",
       "780112   579837      48185                   DOORMAT FAIRY CAKE        20   \n",
       "\n",
       "                order_date    price  customer_id         country    total  \n",
       "716320 2011-11-01 09:14:00   2.0625        13697  United Kingdom   24.750  \n",
       "716321 2011-11-01 09:14:00   7.0125        13697  United Kingdom   28.050  \n",
       "716322 2011-11-01 09:14:00   0.6435        13697  United Kingdom   15.444  \n",
       "716323 2011-11-01 09:14:00   0.6930        13697  United Kingdom   17.325  \n",
       "716324 2011-11-01 09:14:00   7.0125        13697  United Kingdom   28.050  \n",
       "...                    ...      ...          ...             ...      ...  \n",
       "780108 2011-11-30 16:18:00  11.6820        12882  United Kingdom  467.280  \n",
       "780109 2011-11-30 16:18:00  11.6820        12882  United Kingdom  233.640  \n",
       "780110 2011-11-30 16:18:00  11.6820        12882  United Kingdom  116.820  \n",
       "780111 2011-11-30 16:18:00  11.6820        12882  United Kingdom  116.820  \n",
       "780112 2011-11-30 16:18:00  11.6820        12882  United Kingdom  233.640  \n",
       "\n",
       "[6116 rows x 9 columns]"
      ],
      "text/html": "<div>\n<style scoped>\n    .dataframe tbody tr th:only-of-type {\n        vertical-align: middle;\n    }\n\n    .dataframe tbody tr th {\n        vertical-align: top;\n    }\n\n    .dataframe thead th {\n        text-align: right;\n    }\n</style>\n<table border=\"1\" class=\"dataframe\">\n  <thead>\n    <tr style=\"text-align: right;\">\n      <th></th>\n      <th>order_id</th>\n      <th>product_id</th>\n      <th>description</th>\n      <th>quantity</th>\n      <th>order_date</th>\n      <th>price</th>\n      <th>customer_id</th>\n      <th>country</th>\n      <th>total</th>\n    </tr>\n  </thead>\n  <tbody>\n    <tr>\n      <th>716320</th>\n      <td>573747</td>\n      <td>20956</td>\n      <td>PORCELAIN T-LIGHT HOLDERS ASSORTED</td>\n      <td>12</td>\n      <td>2011-11-01 09:14:00</td>\n      <td>2.0625</td>\n      <td>13697</td>\n      <td>United Kingdom</td>\n      <td>24.750</td>\n    </tr>\n    <tr>\n      <th>716321</th>\n      <td>573747</td>\n      <td>21479</td>\n      <td>WHITE SKULL HOT WATER BOTTLE</td>\n      <td>4</td>\n      <td>2011-11-01 09:14:00</td>\n      <td>7.0125</td>\n      <td>13697</td>\n      <td>United Kingdom</td>\n      <td>28.050</td>\n    </tr>\n    <tr>\n      <th>716322</th>\n      <td>573747</td>\n      <td>21824</td>\n      <td>PAINTED METAL STAR WITH HOLLY BELLS</td>\n      <td>24</td>\n      <td>2011-11-01 09:14:00</td>\n      <td>0.6435</td>\n      <td>13697</td>\n      <td>United Kingdom</td>\n      <td>15.444</td>\n    </tr>\n    <tr>\n      <th>716323</th>\n      <td>573747</td>\n      <td>22051</td>\n      <td>BLUE SCANDINAVIAN PAISLEY WRAP</td>\n      <td>25</td>\n      <td>2011-11-01 09:14:00</td>\n      <td>0.6930</td>\n      <td>13697</td>\n      <td>United Kingdom</td>\n      <td>17.325</td>\n    </tr>\n    <tr>\n      <th>716324</th>\n      <td>573747</td>\n      <td>22114</td>\n      <td>HOT WATER BOTTLE TEA AND SYMPATHY</td>\n      <td>4</td>\n      <td>2011-11-01 09:14:00</td>\n      <td>7.0125</td>\n      <td>13697</td>\n      <td>United Kingdom</td>\n      <td>28.050</td>\n    </tr>\n    <tr>\n      <th>...</th>\n      <td>...</td>\n      <td>...</td>\n      <td>...</td>\n      <td>...</td>\n      <td>...</td>\n      <td>...</td>\n      <td>...</td>\n      <td>...</td>\n      <td>...</td>\n    </tr>\n    <tr>\n      <th>780108</th>\n      <td>579837</td>\n      <td>23284</td>\n      <td>DOORMAT KEEP CALM AND COME IN</td>\n      <td>40</td>\n      <td>2011-11-30 16:18:00</td>\n      <td>11.6820</td>\n      <td>12882</td>\n      <td>United Kingdom</td>\n      <td>467.280</td>\n    </tr>\n    <tr>\n      <th>780109</th>\n      <td>579837</td>\n      <td>22692</td>\n      <td>DOORMAT WELCOME TO OUR HOME</td>\n      <td>20</td>\n      <td>2011-11-30 16:18:00</td>\n      <td>11.6820</td>\n      <td>12882</td>\n      <td>United Kingdom</td>\n      <td>233.640</td>\n    </tr>\n    <tr>\n      <th>780110</th>\n      <td>579837</td>\n      <td>21524</td>\n      <td>DOORMAT SPOTTY HOME SWEET HOME</td>\n      <td>10</td>\n      <td>2011-11-30 16:18:00</td>\n      <td>11.6820</td>\n      <td>12882</td>\n      <td>United Kingdom</td>\n      <td>116.820</td>\n    </tr>\n    <tr>\n      <th>780111</th>\n      <td>579837</td>\n      <td>48184</td>\n      <td>DOORMAT ENGLISH ROSE</td>\n      <td>10</td>\n      <td>2011-11-30 16:18:00</td>\n      <td>11.6820</td>\n      <td>12882</td>\n      <td>United Kingdom</td>\n      <td>116.820</td>\n    </tr>\n    <tr>\n      <th>780112</th>\n      <td>579837</td>\n      <td>48185</td>\n      <td>DOORMAT FAIRY CAKE</td>\n      <td>20</td>\n      <td>2011-11-30 16:18:00</td>\n      <td>11.6820</td>\n      <td>12882</td>\n      <td>United Kingdom</td>\n      <td>233.640</td>\n    </tr>\n  </tbody>\n</table>\n<p>6116 rows × 9 columns</p>\n</div>"
     },
     "metadata": {},
     "execution_count": 48
    }
   ],
   "source": [
    "year_2011_11 = data[data['order_date'] > '2011-10-31 23:59:59']\n",
    "new_order = year_2011_11[year_2011_11.customer_id.isin(newbie)]\n",
    "new_order"
   ]
  },
  {
   "cell_type": "code",
   "execution_count": 55,
   "metadata": {},
   "outputs": [],
   "source": [
    "new_order_300 = new_order[new_order.total > 300].customer_id.unique()"
   ]
  },
  {
   "cell_type": "code",
   "execution_count": 53,
   "metadata": {},
   "outputs": [
    {
     "output_type": "execute_result",
     "data": {
      "text/plain": [
       "      customer_id  probability\n",
       "252         12603     0.081158\n",
       "529         12882     0.099047\n",
       "2065        14424     0.080857\n",
       "3211        15576     0.132166\n",
       "3256        15621     0.092446\n",
       "4138        16505     0.095170\n",
       "4382        16751     0.130372\n",
       "4943        17313     0.195814\n",
       "5130        17500     0.091863\n",
       "5153        17523     0.113842\n",
       "5765        18139     0.543037"
      ],
      "text/html": "<div>\n<style scoped>\n    .dataframe tbody tr th:only-of-type {\n        vertical-align: middle;\n    }\n\n    .dataframe tbody tr th {\n        vertical-align: top;\n    }\n\n    .dataframe thead th {\n        text-align: right;\n    }\n</style>\n<table border=\"1\" class=\"dataframe\">\n  <thead>\n    <tr style=\"text-align: right;\">\n      <th></th>\n      <th>customer_id</th>\n      <th>probability</th>\n    </tr>\n  </thead>\n  <tbody>\n    <tr>\n      <th>252</th>\n      <td>12603</td>\n      <td>0.081158</td>\n    </tr>\n    <tr>\n      <th>529</th>\n      <td>12882</td>\n      <td>0.099047</td>\n    </tr>\n    <tr>\n      <th>2065</th>\n      <td>14424</td>\n      <td>0.080857</td>\n    </tr>\n    <tr>\n      <th>3211</th>\n      <td>15576</td>\n      <td>0.132166</td>\n    </tr>\n    <tr>\n      <th>3256</th>\n      <td>15621</td>\n      <td>0.092446</td>\n    </tr>\n    <tr>\n      <th>4138</th>\n      <td>16505</td>\n      <td>0.095170</td>\n    </tr>\n    <tr>\n      <th>4382</th>\n      <td>16751</td>\n      <td>0.130372</td>\n    </tr>\n    <tr>\n      <th>4943</th>\n      <td>17313</td>\n      <td>0.195814</td>\n    </tr>\n    <tr>\n      <th>5130</th>\n      <td>17500</td>\n      <td>0.091863</td>\n    </tr>\n    <tr>\n      <th>5153</th>\n      <td>17523</td>\n      <td>0.113842</td>\n    </tr>\n    <tr>\n      <th>5765</th>\n      <td>18139</td>\n      <td>0.543037</td>\n    </tr>\n  </tbody>\n</table>\n</div>"
     },
     "metadata": {},
     "execution_count": 53
    }
   ],
   "source": [
    "check[check.customer_id.isin(new_order_300)]"
   ]
  },
  {
   "cell_type": "code",
   "execution_count": 60,
   "metadata": {},
   "outputs": [
    {
     "output_type": "execute_result",
     "data": {
      "text/plain": [
       "       order_id product_id                         description  quantity  \\\n",
       "759411   577745      22087            PAPER BUNTING WHITE LACE        40   \n",
       "759412   577745      22046          TEA PARTY  WRAPPING PAPER         25   \n",
       "759413   577745      22708                     WRAP DOLLY GIRL        25   \n",
       "759414   577745      23546                  WRAP PAISLEY PARK         25   \n",
       "759415   577745      23230                WRAP ALPHABET DESIGN        25   \n",
       "759416   577745      23296      SET OF 6 TEA TIME BAKING CASES        24   \n",
       "759417   577745      21210  SET OF 72 RETROSPOT PAPER  DOILIES        24   \n",
       "759418   577745      84991         60 TEATIME FAIRY CAKE CASES        24   \n",
       "759419   577745      21977  PACK OF 60 PINK PAISLEY CAKE CASES        24   \n",
       "759420   577745      21975      PACK OF 60 DINOSAUR CAKE CASES        24   \n",
       "759421   577745      22951     60 CAKE CASES DOLLY GIRL DESIGN        24   \n",
       "759422   577745      21172                   PARTY METAL SIGN         24   \n",
       "759423   577745      23504    PLAYING CARDS JUBILEE UNION JACK        24   \n",
       "759424   577745      23503  PLAYING CARDS KEEP CALM & CARRY ON        24   \n",
       "759425   577745      84380   SET OF 3 BUTTERFLY COOKIE CUTTERS        12   \n",
       "759426   577745      22965  3 TRADITIONAl BISCUIT CUTTERS  SET        12   \n",
       "759427   577745      84378       SET OF 3 HEART COOKIE CUTTERS        12   \n",
       "759428   577745      22960            JAM MAKING SET WITH JARS        12   \n",
       "759603   577754      22087            PAPER BUNTING WHITE LACE        40   \n",
       "759604   577754      47566                       PARTY BUNTING       150   \n",
       "759605   577754      22819           BIRTHDAY CARD, RETRO SPOT        36   \n",
       "759606   577754      21519     GIN & TONIC DIET GREETING CARD         36   \n",
       "759607   577754      21507             ELEPHANT BIRTHDAY CARD         36   \n",
       "759608   577754      22712                    CARD DOLLY GIRL         48   \n",
       "759609   577754      22046          TEA PARTY  WRAPPING PAPER         50   \n",
       "759610   577754      22708                     WRAP DOLLY GIRL        50   \n",
       "759611   577754      23546                  WRAP PAISLEY PARK         50   \n",
       "759612   577754      23230                WRAP ALPHABET DESIGN        50   \n",
       "759613   577754      23298                      SPOTTY BUNTING       150   \n",
       "759614   577754      23295    SET OF 12 MINI LOAF BAKING CASES        24   \n",
       "759615   577754      23296      SET OF 6 TEA TIME BAKING CASES        48   \n",
       "759616   577754      21210  SET OF 72 RETROSPOT PAPER  DOILIES        48   \n",
       "759617   577754      84991         60 TEATIME FAIRY CAKE CASES        48   \n",
       "759618   577754      21977  PACK OF 60 PINK PAISLEY CAKE CASES        48   \n",
       "759619   577754      21975      PACK OF 60 DINOSAUR CAKE CASES        48   \n",
       "759620   577754      22951     60 CAKE CASES DOLLY GIRL DESIGN        48   \n",
       "759621   577754      21172                   PARTY METAL SIGN         24   \n",
       "759622   577754      22138       BAKING SET 9 PIECE RETROSPOT         12   \n",
       "759623   577754      23504    PLAYING CARDS JUBILEE UNION JACK        24   \n",
       "759624   577754      23503  PLAYING CARDS KEEP CALM & CARRY ON        24   \n",
       "759625   577754      22938            CUPCAKE LACE PAPER SET 6        48   \n",
       "759626   577754      23355          HOT WATER BOTTLE KEEP CALM        24   \n",
       "759627   577754      22835     HOT WATER BOTTLE I AM SO POORLY        24   \n",
       "759628   577754      84380   SET OF 3 BUTTERFLY COOKIE CUTTERS        24   \n",
       "759629   577754      22965  3 TRADITIONAl BISCUIT CUTTERS  SET        24   \n",
       "759630   577754      84378       SET OF 3 HEART COOKIE CUTTERS        24   \n",
       "759631   577754      23166      MEDIUM CERAMIC TOP STORAGE JAR        48   \n",
       "759632   577754      23165       LARGE CERAMIC TOP STORAGE JAR        24   \n",
       "759633   577754      22961              JAM MAKING SET PRINTED        96   \n",
       "759634   577754      22960            JAM MAKING SET WITH JARS        12   \n",
       "759635   577754      22993        SET OF 4 PANTRY JELLY MOULDS        72   \n",
       "759636   577754      22666     RECIPE BOX PANTRY YELLOW DESIGN        12   \n",
       "759716   577772      22087            PAPER BUNTING WHITE LACE        40   \n",
       "759717   577772      22046          TEA PARTY  WRAPPING PAPER         25   \n",
       "759718   577772      22708                     WRAP DOLLY GIRL        25   \n",
       "759719   577772      23546                  WRAP PAISLEY PARK         25   \n",
       "759720   577772      23230                WRAP ALPHABET DESIGN        25   \n",
       "759721   577772      23296      SET OF 6 TEA TIME BAKING CASES        24   \n",
       "759722   577772      21210  SET OF 72 RETROSPOT PAPER  DOILIES        24   \n",
       "759723   577772      84991         60 TEATIME FAIRY CAKE CASES        24   \n",
       "759724   577772      21977  PACK OF 60 PINK PAISLEY CAKE CASES        24   \n",
       "759725   577772      21975      PACK OF 60 DINOSAUR CAKE CASES        24   \n",
       "759726   577772      22951     60 CAKE CASES DOLLY GIRL DESIGN        24   \n",
       "759727   577772      21172                   PARTY METAL SIGN         24   \n",
       "759728   577772      22138       BAKING SET 9 PIECE RETROSPOT         12   \n",
       "759729   577772      23504    PLAYING CARDS JUBILEE UNION JACK        24   \n",
       "759730   577772      23503  PLAYING CARDS KEEP CALM & CARRY ON        24   \n",
       "759731   577772      22938            CUPCAKE LACE PAPER SET 6        48   \n",
       "759732   577772      84380   SET OF 3 BUTTERFLY COOKIE CUTTERS        12   \n",
       "759733   577772      22965  3 TRADITIONAl BISCUIT CUTTERS  SET        12   \n",
       "759734   577772      84378       SET OF 3 HEART COOKIE CUTTERS        12   \n",
       "759735   577772      23166      MEDIUM CERAMIC TOP STORAGE JAR        48   \n",
       "759736   577772      23165       LARGE CERAMIC TOP STORAGE JAR        24   \n",
       "759737   577772      22960            JAM MAKING SET WITH JARS        12   \n",
       "760023   577783      22087            PAPER BUNTING WHITE LACE        40   \n",
       "760024   577783      47566                       PARTY BUNTING       150   \n",
       "760025   577783      22819           BIRTHDAY CARD, RETRO SPOT        36   \n",
       "760026   577783      21519     GIN & TONIC DIET GREETING CARD         36   \n",
       "760027   577783      21507             ELEPHANT BIRTHDAY CARD         36   \n",
       "760028   577783      22712                    CARD DOLLY GIRL         48   \n",
       "760029   577783      22046          TEA PARTY  WRAPPING PAPER         50   \n",
       "760030   577783      22708                     WRAP DOLLY GIRL        50   \n",
       "760031   577783      23546                  WRAP PAISLEY PARK         50   \n",
       "760032   577783      23230                WRAP ALPHABET DESIGN        50   \n",
       "760033   577783      23298                      SPOTTY BUNTING       150   \n",
       "760034   577783      23295    SET OF 12 MINI LOAF BAKING CASES        24   \n",
       "760035   577783      23296      SET OF 6 TEA TIME BAKING CASES        48   \n",
       "760036   577783      21210  SET OF 72 RETROSPOT PAPER  DOILIES        48   \n",
       "760037   577783      84991         60 TEATIME FAIRY CAKE CASES        48   \n",
       "760038   577783      21977  PACK OF 60 PINK PAISLEY CAKE CASES        48   \n",
       "760039   577783      21975      PACK OF 60 DINOSAUR CAKE CASES        48   \n",
       "760040   577783      22951     60 CAKE CASES DOLLY GIRL DESIGN        48   \n",
       "760041   577783      21172                   PARTY METAL SIGN         24   \n",
       "760042   577783      22138       BAKING SET 9 PIECE RETROSPOT         12   \n",
       "760043   577783      23504    PLAYING CARDS JUBILEE UNION JACK        24   \n",
       "760044   577783      23503  PLAYING CARDS KEEP CALM & CARRY ON        24   \n",
       "760045   577783      22938            CUPCAKE LACE PAPER SET 6        48   \n",
       "760046   577783      23355          HOT WATER BOTTLE KEEP CALM        24   \n",
       "760047   577783      22835     HOT WATER BOTTLE I AM SO POORLY        24   \n",
       "760048   577783      84380   SET OF 3 BUTTERFLY COOKIE CUTTERS        36   \n",
       "\n",
       "                order_date   price  customer_id         country     total  \n",
       "759411 2011-11-21 14:06:00  4.2075        18139  United Kingdom   168.300  \n",
       "759412 2011-11-21 14:06:00  0.6930        18139  United Kingdom    17.325  \n",
       "759413 2011-11-21 14:06:00  0.6930        18139  United Kingdom    17.325  \n",
       "759414 2011-11-21 14:06:00  0.6930        18139  United Kingdom    17.325  \n",
       "759415 2011-11-21 14:06:00  0.6930        18139  United Kingdom    17.325  \n",
       "759416 2011-11-21 14:06:00  2.0625        18139  United Kingdom    49.500  \n",
       "759417 2011-11-21 14:06:00  2.3925        18139  United Kingdom    57.420  \n",
       "759418 2011-11-21 14:06:00  0.9075        18139  United Kingdom    21.780  \n",
       "759419 2011-11-21 14:06:00  0.9075        18139  United Kingdom    21.780  \n",
       "759420 2011-11-21 14:06:00  0.9075        18139  United Kingdom    21.780  \n",
       "759421 2011-11-21 14:06:00  0.9075        18139  United Kingdom    21.780  \n",
       "759422 2011-11-21 14:06:00  2.3925        18139  United Kingdom    57.420  \n",
       "759423 2011-11-21 14:06:00  2.0625        18139  United Kingdom    49.500  \n",
       "759424 2011-11-21 14:06:00  2.0625        18139  United Kingdom    49.500  \n",
       "759425 2011-11-21 14:06:00  2.3925        18139  United Kingdom    28.710  \n",
       "759426 2011-11-21 14:06:00  3.4650        18139  United Kingdom    41.580  \n",
       "759427 2011-11-21 14:06:00  2.3925        18139  United Kingdom    28.710  \n",
       "759428 2011-11-21 14:06:00  6.1875        18139  United Kingdom    74.250  \n",
       "759603 2011-11-21 14:47:00  4.2075        18139  United Kingdom   168.300  \n",
       "759604 2011-11-21 14:47:00  6.8475        18139  United Kingdom  1027.125  \n",
       "759605 2011-11-21 14:47:00  0.6930        18139  United Kingdom    24.948  \n",
       "759606 2011-11-21 14:47:00  0.6930        18139  United Kingdom    24.948  \n",
       "759607 2011-11-21 14:47:00  0.6930        18139  United Kingdom    24.948  \n",
       "759608 2011-11-21 14:47:00  0.6930        18139  United Kingdom    33.264  \n",
       "759609 2011-11-21 14:47:00  0.6930        18139  United Kingdom    34.650  \n",
       "759610 2011-11-21 14:47:00  0.6930        18139  United Kingdom    34.650  \n",
       "759611 2011-11-21 14:47:00  0.6930        18139  United Kingdom    34.650  \n",
       "759612 2011-11-21 14:47:00  0.6930        18139  United Kingdom    34.650  \n",
       "759613 2011-11-21 14:47:00  6.8475        18139  United Kingdom  1027.125  \n",
       "759614 2011-11-21 14:47:00  1.3695        18139  United Kingdom    32.868  \n",
       "759615 2011-11-21 14:47:00  2.0625        18139  United Kingdom    99.000  \n",
       "759616 2011-11-21 14:47:00  2.3925        18139  United Kingdom   114.840  \n",
       "759617 2011-11-21 14:47:00  0.9075        18139  United Kingdom    43.560  \n",
       "759618 2011-11-21 14:47:00  0.9075        18139  United Kingdom    43.560  \n",
       "759619 2011-11-21 14:47:00  0.9075        18139  United Kingdom    43.560  \n",
       "759620 2011-11-21 14:47:00  0.9075        18139  United Kingdom    43.560  \n",
       "759621 2011-11-21 14:47:00  2.3925        18139  United Kingdom    57.420  \n",
       "759622 2011-11-21 14:47:00  8.1675        18139  United Kingdom    98.010  \n",
       "759623 2011-11-21 14:47:00  2.0625        18139  United Kingdom    49.500  \n",
       "759624 2011-11-21 14:47:00  2.0625        18139  United Kingdom    49.500  \n",
       "759625 2011-11-21 14:47:00  2.7225        18139  United Kingdom   130.680  \n",
       "759626 2011-11-21 14:47:00  7.0125        18139  United Kingdom   168.300  \n",
       "759627 2011-11-21 14:47:00  7.0125        18139  United Kingdom   168.300  \n",
       "759628 2011-11-21 14:47:00  2.3925        18139  United Kingdom    57.420  \n",
       "759629 2011-11-21 14:47:00  3.4650        18139  United Kingdom    83.160  \n",
       "759630 2011-11-21 14:47:00  2.3925        18139  United Kingdom    57.420  \n",
       "759631 2011-11-21 14:47:00  1.7160        18139  United Kingdom    82.368  \n",
       "759632 2011-11-21 14:47:00  2.7225        18139  United Kingdom    65.340  \n",
       "759633 2011-11-21 14:47:00  2.0625        18139  United Kingdom   198.000  \n",
       "759634 2011-11-21 14:47:00  6.1875        18139  United Kingdom    74.250  \n",
       "759635 2011-11-21 14:47:00  1.7490        18139  United Kingdom   125.928  \n",
       "759636 2011-11-21 14:47:00  4.8675        18139  United Kingdom    58.410  \n",
       "759716 2011-11-21 15:53:00  4.2075        18139  United Kingdom   168.300  \n",
       "759717 2011-11-21 15:53:00  0.6930        18139  United Kingdom    17.325  \n",
       "759718 2011-11-21 15:53:00  0.6930        18139  United Kingdom    17.325  \n",
       "759719 2011-11-21 15:53:00  0.6930        18139  United Kingdom    17.325  \n",
       "759720 2011-11-21 15:53:00  0.6930        18139  United Kingdom    17.325  \n",
       "759721 2011-11-21 15:53:00  2.0625        18139  United Kingdom    49.500  \n",
       "759722 2011-11-21 15:53:00  2.3925        18139  United Kingdom    57.420  \n",
       "759723 2011-11-21 15:53:00  0.9075        18139  United Kingdom    21.780  \n",
       "759724 2011-11-21 15:53:00  0.9075        18139  United Kingdom    21.780  \n",
       "759725 2011-11-21 15:53:00  0.9075        18139  United Kingdom    21.780  \n",
       "759726 2011-11-21 15:53:00  0.9075        18139  United Kingdom    21.780  \n",
       "759727 2011-11-21 15:53:00  2.3925        18139  United Kingdom    57.420  \n",
       "759728 2011-11-21 15:53:00  8.1675        18139  United Kingdom    98.010  \n",
       "759729 2011-11-21 15:53:00  2.0625        18139  United Kingdom    49.500  \n",
       "759730 2011-11-21 15:53:00  2.0625        18139  United Kingdom    49.500  \n",
       "759731 2011-11-21 15:53:00  2.7225        18139  United Kingdom   130.680  \n",
       "759732 2011-11-21 15:53:00  2.3925        18139  United Kingdom    28.710  \n",
       "759733 2011-11-21 15:53:00  3.4650        18139  United Kingdom    41.580  \n",
       "759734 2011-11-21 15:53:00  2.3925        18139  United Kingdom    28.710  \n",
       "759735 2011-11-21 15:53:00  1.7160        18139  United Kingdom    82.368  \n",
       "759736 2011-11-21 15:53:00  2.7225        18139  United Kingdom    65.340  \n",
       "759737 2011-11-21 15:53:00  6.1875        18139  United Kingdom    74.250  \n",
       "760023 2011-11-21 16:20:00  4.2075        18139  United Kingdom   168.300  \n",
       "760024 2011-11-21 16:20:00  6.8475        18139  United Kingdom  1027.125  \n",
       "760025 2011-11-21 16:20:00  0.6930        18139  United Kingdom    24.948  \n",
       "760026 2011-11-21 16:20:00  0.6930        18139  United Kingdom    24.948  \n",
       "760027 2011-11-21 16:20:00  0.6930        18139  United Kingdom    24.948  \n",
       "760028 2011-11-21 16:20:00  0.6930        18139  United Kingdom    33.264  \n",
       "760029 2011-11-21 16:20:00  0.6930        18139  United Kingdom    34.650  \n",
       "760030 2011-11-21 16:20:00  0.6930        18139  United Kingdom    34.650  \n",
       "760031 2011-11-21 16:20:00  0.6930        18139  United Kingdom    34.650  \n",
       "760032 2011-11-21 16:20:00  0.6930        18139  United Kingdom    34.650  \n",
       "760033 2011-11-21 16:20:00  6.8475        18139  United Kingdom  1027.125  \n",
       "760034 2011-11-21 16:20:00  1.3695        18139  United Kingdom    32.868  \n",
       "760035 2011-11-21 16:20:00  2.0625        18139  United Kingdom    99.000  \n",
       "760036 2011-11-21 16:20:00  2.3925        18139  United Kingdom   114.840  \n",
       "760037 2011-11-21 16:20:00  0.9075        18139  United Kingdom    43.560  \n",
       "760038 2011-11-21 16:20:00  0.9075        18139  United Kingdom    43.560  \n",
       "760039 2011-11-21 16:20:00  0.9075        18139  United Kingdom    43.560  \n",
       "760040 2011-11-21 16:20:00  0.9075        18139  United Kingdom    43.560  \n",
       "760041 2011-11-21 16:20:00  2.3925        18139  United Kingdom    57.420  \n",
       "760042 2011-11-21 16:20:00  8.1675        18139  United Kingdom    98.010  \n",
       "760043 2011-11-21 16:20:00  2.0625        18139  United Kingdom    49.500  \n",
       "760044 2011-11-21 16:20:00  2.0625        18139  United Kingdom    49.500  \n",
       "760045 2011-11-21 16:20:00  2.7225        18139  United Kingdom   130.680  \n",
       "760046 2011-11-21 16:20:00  7.0125        18139  United Kingdom   168.300  \n",
       "760047 2011-11-21 16:20:00  7.0125        18139  United Kingdom   168.300  \n",
       "760048 2011-11-21 16:20:00  2.3925        18139  United Kingdom    86.130  "
      ],
      "text/html": "<div>\n<style scoped>\n    .dataframe tbody tr th:only-of-type {\n        vertical-align: middle;\n    }\n\n    .dataframe tbody tr th {\n        vertical-align: top;\n    }\n\n    .dataframe thead th {\n        text-align: right;\n    }\n</style>\n<table border=\"1\" class=\"dataframe\">\n  <thead>\n    <tr style=\"text-align: right;\">\n      <th></th>\n      <th>order_id</th>\n      <th>product_id</th>\n      <th>description</th>\n      <th>quantity</th>\n      <th>order_date</th>\n      <th>price</th>\n      <th>customer_id</th>\n      <th>country</th>\n      <th>total</th>\n    </tr>\n  </thead>\n  <tbody>\n    <tr>\n      <th>759411</th>\n      <td>577745</td>\n      <td>22087</td>\n      <td>PAPER BUNTING WHITE LACE</td>\n      <td>40</td>\n      <td>2011-11-21 14:06:00</td>\n      <td>4.2075</td>\n      <td>18139</td>\n      <td>United Kingdom</td>\n      <td>168.300</td>\n    </tr>\n    <tr>\n      <th>759412</th>\n      <td>577745</td>\n      <td>22046</td>\n      <td>TEA PARTY  WRAPPING PAPER</td>\n      <td>25</td>\n      <td>2011-11-21 14:06:00</td>\n      <td>0.6930</td>\n      <td>18139</td>\n      <td>United Kingdom</td>\n      <td>17.325</td>\n    </tr>\n    <tr>\n      <th>759413</th>\n      <td>577745</td>\n      <td>22708</td>\n      <td>WRAP DOLLY GIRL</td>\n      <td>25</td>\n      <td>2011-11-21 14:06:00</td>\n      <td>0.6930</td>\n      <td>18139</td>\n      <td>United Kingdom</td>\n      <td>17.325</td>\n    </tr>\n    <tr>\n      <th>759414</th>\n      <td>577745</td>\n      <td>23546</td>\n      <td>WRAP PAISLEY PARK</td>\n      <td>25</td>\n      <td>2011-11-21 14:06:00</td>\n      <td>0.6930</td>\n      <td>18139</td>\n      <td>United Kingdom</td>\n      <td>17.325</td>\n    </tr>\n    <tr>\n      <th>759415</th>\n      <td>577745</td>\n      <td>23230</td>\n      <td>WRAP ALPHABET DESIGN</td>\n      <td>25</td>\n      <td>2011-11-21 14:06:00</td>\n      <td>0.6930</td>\n      <td>18139</td>\n      <td>United Kingdom</td>\n      <td>17.325</td>\n    </tr>\n    <tr>\n      <th>759416</th>\n      <td>577745</td>\n      <td>23296</td>\n      <td>SET OF 6 TEA TIME BAKING CASES</td>\n      <td>24</td>\n      <td>2011-11-21 14:06:00</td>\n      <td>2.0625</td>\n      <td>18139</td>\n      <td>United Kingdom</td>\n      <td>49.500</td>\n    </tr>\n    <tr>\n      <th>759417</th>\n      <td>577745</td>\n      <td>21210</td>\n      <td>SET OF 72 RETROSPOT PAPER  DOILIES</td>\n      <td>24</td>\n      <td>2011-11-21 14:06:00</td>\n      <td>2.3925</td>\n      <td>18139</td>\n      <td>United Kingdom</td>\n      <td>57.420</td>\n    </tr>\n    <tr>\n      <th>759418</th>\n      <td>577745</td>\n      <td>84991</td>\n      <td>60 TEATIME FAIRY CAKE CASES</td>\n      <td>24</td>\n      <td>2011-11-21 14:06:00</td>\n      <td>0.9075</td>\n      <td>18139</td>\n      <td>United Kingdom</td>\n      <td>21.780</td>\n    </tr>\n    <tr>\n      <th>759419</th>\n      <td>577745</td>\n      <td>21977</td>\n      <td>PACK OF 60 PINK PAISLEY CAKE CASES</td>\n      <td>24</td>\n      <td>2011-11-21 14:06:00</td>\n      <td>0.9075</td>\n      <td>18139</td>\n      <td>United Kingdom</td>\n      <td>21.780</td>\n    </tr>\n    <tr>\n      <th>759420</th>\n      <td>577745</td>\n      <td>21975</td>\n      <td>PACK OF 60 DINOSAUR CAKE CASES</td>\n      <td>24</td>\n      <td>2011-11-21 14:06:00</td>\n      <td>0.9075</td>\n      <td>18139</td>\n      <td>United Kingdom</td>\n      <td>21.780</td>\n    </tr>\n    <tr>\n      <th>759421</th>\n      <td>577745</td>\n      <td>22951</td>\n      <td>60 CAKE CASES DOLLY GIRL DESIGN</td>\n      <td>24</td>\n      <td>2011-11-21 14:06:00</td>\n      <td>0.9075</td>\n      <td>18139</td>\n      <td>United Kingdom</td>\n      <td>21.780</td>\n    </tr>\n    <tr>\n      <th>759422</th>\n      <td>577745</td>\n      <td>21172</td>\n      <td>PARTY METAL SIGN</td>\n      <td>24</td>\n      <td>2011-11-21 14:06:00</td>\n      <td>2.3925</td>\n      <td>18139</td>\n      <td>United Kingdom</td>\n      <td>57.420</td>\n    </tr>\n    <tr>\n      <th>759423</th>\n      <td>577745</td>\n      <td>23504</td>\n      <td>PLAYING CARDS JUBILEE UNION JACK</td>\n      <td>24</td>\n      <td>2011-11-21 14:06:00</td>\n      <td>2.0625</td>\n      <td>18139</td>\n      <td>United Kingdom</td>\n      <td>49.500</td>\n    </tr>\n    <tr>\n      <th>759424</th>\n      <td>577745</td>\n      <td>23503</td>\n      <td>PLAYING CARDS KEEP CALM &amp; CARRY ON</td>\n      <td>24</td>\n      <td>2011-11-21 14:06:00</td>\n      <td>2.0625</td>\n      <td>18139</td>\n      <td>United Kingdom</td>\n      <td>49.500</td>\n    </tr>\n    <tr>\n      <th>759425</th>\n      <td>577745</td>\n      <td>84380</td>\n      <td>SET OF 3 BUTTERFLY COOKIE CUTTERS</td>\n      <td>12</td>\n      <td>2011-11-21 14:06:00</td>\n      <td>2.3925</td>\n      <td>18139</td>\n      <td>United Kingdom</td>\n      <td>28.710</td>\n    </tr>\n    <tr>\n      <th>759426</th>\n      <td>577745</td>\n      <td>22965</td>\n      <td>3 TRADITIONAl BISCUIT CUTTERS  SET</td>\n      <td>12</td>\n      <td>2011-11-21 14:06:00</td>\n      <td>3.4650</td>\n      <td>18139</td>\n      <td>United Kingdom</td>\n      <td>41.580</td>\n    </tr>\n    <tr>\n      <th>759427</th>\n      <td>577745</td>\n      <td>84378</td>\n      <td>SET OF 3 HEART COOKIE CUTTERS</td>\n      <td>12</td>\n      <td>2011-11-21 14:06:00</td>\n      <td>2.3925</td>\n      <td>18139</td>\n      <td>United Kingdom</td>\n      <td>28.710</td>\n    </tr>\n    <tr>\n      <th>759428</th>\n      <td>577745</td>\n      <td>22960</td>\n      <td>JAM MAKING SET WITH JARS</td>\n      <td>12</td>\n      <td>2011-11-21 14:06:00</td>\n      <td>6.1875</td>\n      <td>18139</td>\n      <td>United Kingdom</td>\n      <td>74.250</td>\n    </tr>\n    <tr>\n      <th>759603</th>\n      <td>577754</td>\n      <td>22087</td>\n      <td>PAPER BUNTING WHITE LACE</td>\n      <td>40</td>\n      <td>2011-11-21 14:47:00</td>\n      <td>4.2075</td>\n      <td>18139</td>\n      <td>United Kingdom</td>\n      <td>168.300</td>\n    </tr>\n    <tr>\n      <th>759604</th>\n      <td>577754</td>\n      <td>47566</td>\n      <td>PARTY BUNTING</td>\n      <td>150</td>\n      <td>2011-11-21 14:47:00</td>\n      <td>6.8475</td>\n      <td>18139</td>\n      <td>United Kingdom</td>\n      <td>1027.125</td>\n    </tr>\n    <tr>\n      <th>759605</th>\n      <td>577754</td>\n      <td>22819</td>\n      <td>BIRTHDAY CARD, RETRO SPOT</td>\n      <td>36</td>\n      <td>2011-11-21 14:47:00</td>\n      <td>0.6930</td>\n      <td>18139</td>\n      <td>United Kingdom</td>\n      <td>24.948</td>\n    </tr>\n    <tr>\n      <th>759606</th>\n      <td>577754</td>\n      <td>21519</td>\n      <td>GIN &amp; TONIC DIET GREETING CARD</td>\n      <td>36</td>\n      <td>2011-11-21 14:47:00</td>\n      <td>0.6930</td>\n      <td>18139</td>\n      <td>United Kingdom</td>\n      <td>24.948</td>\n    </tr>\n    <tr>\n      <th>759607</th>\n      <td>577754</td>\n      <td>21507</td>\n      <td>ELEPHANT BIRTHDAY CARD</td>\n      <td>36</td>\n      <td>2011-11-21 14:47:00</td>\n      <td>0.6930</td>\n      <td>18139</td>\n      <td>United Kingdom</td>\n      <td>24.948</td>\n    </tr>\n    <tr>\n      <th>759608</th>\n      <td>577754</td>\n      <td>22712</td>\n      <td>CARD DOLLY GIRL</td>\n      <td>48</td>\n      <td>2011-11-21 14:47:00</td>\n      <td>0.6930</td>\n      <td>18139</td>\n      <td>United Kingdom</td>\n      <td>33.264</td>\n    </tr>\n    <tr>\n      <th>759609</th>\n      <td>577754</td>\n      <td>22046</td>\n      <td>TEA PARTY  WRAPPING PAPER</td>\n      <td>50</td>\n      <td>2011-11-21 14:47:00</td>\n      <td>0.6930</td>\n      <td>18139</td>\n      <td>United Kingdom</td>\n      <td>34.650</td>\n    </tr>\n    <tr>\n      <th>759610</th>\n      <td>577754</td>\n      <td>22708</td>\n      <td>WRAP DOLLY GIRL</td>\n      <td>50</td>\n      <td>2011-11-21 14:47:00</td>\n      <td>0.6930</td>\n      <td>18139</td>\n      <td>United Kingdom</td>\n      <td>34.650</td>\n    </tr>\n    <tr>\n      <th>759611</th>\n      <td>577754</td>\n      <td>23546</td>\n      <td>WRAP PAISLEY PARK</td>\n      <td>50</td>\n      <td>2011-11-21 14:47:00</td>\n      <td>0.6930</td>\n      <td>18139</td>\n      <td>United Kingdom</td>\n      <td>34.650</td>\n    </tr>\n    <tr>\n      <th>759612</th>\n      <td>577754</td>\n      <td>23230</td>\n      <td>WRAP ALPHABET DESIGN</td>\n      <td>50</td>\n      <td>2011-11-21 14:47:00</td>\n      <td>0.6930</td>\n      <td>18139</td>\n      <td>United Kingdom</td>\n      <td>34.650</td>\n    </tr>\n    <tr>\n      <th>759613</th>\n      <td>577754</td>\n      <td>23298</td>\n      <td>SPOTTY BUNTING</td>\n      <td>150</td>\n      <td>2011-11-21 14:47:00</td>\n      <td>6.8475</td>\n      <td>18139</td>\n      <td>United Kingdom</td>\n      <td>1027.125</td>\n    </tr>\n    <tr>\n      <th>759614</th>\n      <td>577754</td>\n      <td>23295</td>\n      <td>SET OF 12 MINI LOAF BAKING CASES</td>\n      <td>24</td>\n      <td>2011-11-21 14:47:00</td>\n      <td>1.3695</td>\n      <td>18139</td>\n      <td>United Kingdom</td>\n      <td>32.868</td>\n    </tr>\n    <tr>\n      <th>759615</th>\n      <td>577754</td>\n      <td>23296</td>\n      <td>SET OF 6 TEA TIME BAKING CASES</td>\n      <td>48</td>\n      <td>2011-11-21 14:47:00</td>\n      <td>2.0625</td>\n      <td>18139</td>\n      <td>United Kingdom</td>\n      <td>99.000</td>\n    </tr>\n    <tr>\n      <th>759616</th>\n      <td>577754</td>\n      <td>21210</td>\n      <td>SET OF 72 RETROSPOT PAPER  DOILIES</td>\n      <td>48</td>\n      <td>2011-11-21 14:47:00</td>\n      <td>2.3925</td>\n      <td>18139</td>\n      <td>United Kingdom</td>\n      <td>114.840</td>\n    </tr>\n    <tr>\n      <th>759617</th>\n      <td>577754</td>\n      <td>84991</td>\n      <td>60 TEATIME FAIRY CAKE CASES</td>\n      <td>48</td>\n      <td>2011-11-21 14:47:00</td>\n      <td>0.9075</td>\n      <td>18139</td>\n      <td>United Kingdom</td>\n      <td>43.560</td>\n    </tr>\n    <tr>\n      <th>759618</th>\n      <td>577754</td>\n      <td>21977</td>\n      <td>PACK OF 60 PINK PAISLEY CAKE CASES</td>\n      <td>48</td>\n      <td>2011-11-21 14:47:00</td>\n      <td>0.9075</td>\n      <td>18139</td>\n      <td>United Kingdom</td>\n      <td>43.560</td>\n    </tr>\n    <tr>\n      <th>759619</th>\n      <td>577754</td>\n      <td>21975</td>\n      <td>PACK OF 60 DINOSAUR CAKE CASES</td>\n      <td>48</td>\n      <td>2011-11-21 14:47:00</td>\n      <td>0.9075</td>\n      <td>18139</td>\n      <td>United Kingdom</td>\n      <td>43.560</td>\n    </tr>\n    <tr>\n      <th>759620</th>\n      <td>577754</td>\n      <td>22951</td>\n      <td>60 CAKE CASES DOLLY GIRL DESIGN</td>\n      <td>48</td>\n      <td>2011-11-21 14:47:00</td>\n      <td>0.9075</td>\n      <td>18139</td>\n      <td>United Kingdom</td>\n      <td>43.560</td>\n    </tr>\n    <tr>\n      <th>759621</th>\n      <td>577754</td>\n      <td>21172</td>\n      <td>PARTY METAL SIGN</td>\n      <td>24</td>\n      <td>2011-11-21 14:47:00</td>\n      <td>2.3925</td>\n      <td>18139</td>\n      <td>United Kingdom</td>\n      <td>57.420</td>\n    </tr>\n    <tr>\n      <th>759622</th>\n      <td>577754</td>\n      <td>22138</td>\n      <td>BAKING SET 9 PIECE RETROSPOT</td>\n      <td>12</td>\n      <td>2011-11-21 14:47:00</td>\n      <td>8.1675</td>\n      <td>18139</td>\n      <td>United Kingdom</td>\n      <td>98.010</td>\n    </tr>\n    <tr>\n      <th>759623</th>\n      <td>577754</td>\n      <td>23504</td>\n      <td>PLAYING CARDS JUBILEE UNION JACK</td>\n      <td>24</td>\n      <td>2011-11-21 14:47:00</td>\n      <td>2.0625</td>\n      <td>18139</td>\n      <td>United Kingdom</td>\n      <td>49.500</td>\n    </tr>\n    <tr>\n      <th>759624</th>\n      <td>577754</td>\n      <td>23503</td>\n      <td>PLAYING CARDS KEEP CALM &amp; CARRY ON</td>\n      <td>24</td>\n      <td>2011-11-21 14:47:00</td>\n      <td>2.0625</td>\n      <td>18139</td>\n      <td>United Kingdom</td>\n      <td>49.500</td>\n    </tr>\n    <tr>\n      <th>759625</th>\n      <td>577754</td>\n      <td>22938</td>\n      <td>CUPCAKE LACE PAPER SET 6</td>\n      <td>48</td>\n      <td>2011-11-21 14:47:00</td>\n      <td>2.7225</td>\n      <td>18139</td>\n      <td>United Kingdom</td>\n      <td>130.680</td>\n    </tr>\n    <tr>\n      <th>759626</th>\n      <td>577754</td>\n      <td>23355</td>\n      <td>HOT WATER BOTTLE KEEP CALM</td>\n      <td>24</td>\n      <td>2011-11-21 14:47:00</td>\n      <td>7.0125</td>\n      <td>18139</td>\n      <td>United Kingdom</td>\n      <td>168.300</td>\n    </tr>\n    <tr>\n      <th>759627</th>\n      <td>577754</td>\n      <td>22835</td>\n      <td>HOT WATER BOTTLE I AM SO POORLY</td>\n      <td>24</td>\n      <td>2011-11-21 14:47:00</td>\n      <td>7.0125</td>\n      <td>18139</td>\n      <td>United Kingdom</td>\n      <td>168.300</td>\n    </tr>\n    <tr>\n      <th>759628</th>\n      <td>577754</td>\n      <td>84380</td>\n      <td>SET OF 3 BUTTERFLY COOKIE CUTTERS</td>\n      <td>24</td>\n      <td>2011-11-21 14:47:00</td>\n      <td>2.3925</td>\n      <td>18139</td>\n      <td>United Kingdom</td>\n      <td>57.420</td>\n    </tr>\n    <tr>\n      <th>759629</th>\n      <td>577754</td>\n      <td>22965</td>\n      <td>3 TRADITIONAl BISCUIT CUTTERS  SET</td>\n      <td>24</td>\n      <td>2011-11-21 14:47:00</td>\n      <td>3.4650</td>\n      <td>18139</td>\n      <td>United Kingdom</td>\n      <td>83.160</td>\n    </tr>\n    <tr>\n      <th>759630</th>\n      <td>577754</td>\n      <td>84378</td>\n      <td>SET OF 3 HEART COOKIE CUTTERS</td>\n      <td>24</td>\n      <td>2011-11-21 14:47:00</td>\n      <td>2.3925</td>\n      <td>18139</td>\n      <td>United Kingdom</td>\n      <td>57.420</td>\n    </tr>\n    <tr>\n      <th>759631</th>\n      <td>577754</td>\n      <td>23166</td>\n      <td>MEDIUM CERAMIC TOP STORAGE JAR</td>\n      <td>48</td>\n      <td>2011-11-21 14:47:00</td>\n      <td>1.7160</td>\n      <td>18139</td>\n      <td>United Kingdom</td>\n      <td>82.368</td>\n    </tr>\n    <tr>\n      <th>759632</th>\n      <td>577754</td>\n      <td>23165</td>\n      <td>LARGE CERAMIC TOP STORAGE JAR</td>\n      <td>24</td>\n      <td>2011-11-21 14:47:00</td>\n      <td>2.7225</td>\n      <td>18139</td>\n      <td>United Kingdom</td>\n      <td>65.340</td>\n    </tr>\n    <tr>\n      <th>759633</th>\n      <td>577754</td>\n      <td>22961</td>\n      <td>JAM MAKING SET PRINTED</td>\n      <td>96</td>\n      <td>2011-11-21 14:47:00</td>\n      <td>2.0625</td>\n      <td>18139</td>\n      <td>United Kingdom</td>\n      <td>198.000</td>\n    </tr>\n    <tr>\n      <th>759634</th>\n      <td>577754</td>\n      <td>22960</td>\n      <td>JAM MAKING SET WITH JARS</td>\n      <td>12</td>\n      <td>2011-11-21 14:47:00</td>\n      <td>6.1875</td>\n      <td>18139</td>\n      <td>United Kingdom</td>\n      <td>74.250</td>\n    </tr>\n    <tr>\n      <th>759635</th>\n      <td>577754</td>\n      <td>22993</td>\n      <td>SET OF 4 PANTRY JELLY MOULDS</td>\n      <td>72</td>\n      <td>2011-11-21 14:47:00</td>\n      <td>1.7490</td>\n      <td>18139</td>\n      <td>United Kingdom</td>\n      <td>125.928</td>\n    </tr>\n    <tr>\n      <th>759636</th>\n      <td>577754</td>\n      <td>22666</td>\n      <td>RECIPE BOX PANTRY YELLOW DESIGN</td>\n      <td>12</td>\n      <td>2011-11-21 14:47:00</td>\n      <td>4.8675</td>\n      <td>18139</td>\n      <td>United Kingdom</td>\n      <td>58.410</td>\n    </tr>\n    <tr>\n      <th>759716</th>\n      <td>577772</td>\n      <td>22087</td>\n      <td>PAPER BUNTING WHITE LACE</td>\n      <td>40</td>\n      <td>2011-11-21 15:53:00</td>\n      <td>4.2075</td>\n      <td>18139</td>\n      <td>United Kingdom</td>\n      <td>168.300</td>\n    </tr>\n    <tr>\n      <th>759717</th>\n      <td>577772</td>\n      <td>22046</td>\n      <td>TEA PARTY  WRAPPING PAPER</td>\n      <td>25</td>\n      <td>2011-11-21 15:53:00</td>\n      <td>0.6930</td>\n      <td>18139</td>\n      <td>United Kingdom</td>\n      <td>17.325</td>\n    </tr>\n    <tr>\n      <th>759718</th>\n      <td>577772</td>\n      <td>22708</td>\n      <td>WRAP DOLLY GIRL</td>\n      <td>25</td>\n      <td>2011-11-21 15:53:00</td>\n      <td>0.6930</td>\n      <td>18139</td>\n      <td>United Kingdom</td>\n      <td>17.325</td>\n    </tr>\n    <tr>\n      <th>759719</th>\n      <td>577772</td>\n      <td>23546</td>\n      <td>WRAP PAISLEY PARK</td>\n      <td>25</td>\n      <td>2011-11-21 15:53:00</td>\n      <td>0.6930</td>\n      <td>18139</td>\n      <td>United Kingdom</td>\n      <td>17.325</td>\n    </tr>\n    <tr>\n      <th>759720</th>\n      <td>577772</td>\n      <td>23230</td>\n      <td>WRAP ALPHABET DESIGN</td>\n      <td>25</td>\n      <td>2011-11-21 15:53:00</td>\n      <td>0.6930</td>\n      <td>18139</td>\n      <td>United Kingdom</td>\n      <td>17.325</td>\n    </tr>\n    <tr>\n      <th>759721</th>\n      <td>577772</td>\n      <td>23296</td>\n      <td>SET OF 6 TEA TIME BAKING CASES</td>\n      <td>24</td>\n      <td>2011-11-21 15:53:00</td>\n      <td>2.0625</td>\n      <td>18139</td>\n      <td>United Kingdom</td>\n      <td>49.500</td>\n    </tr>\n    <tr>\n      <th>759722</th>\n      <td>577772</td>\n      <td>21210</td>\n      <td>SET OF 72 RETROSPOT PAPER  DOILIES</td>\n      <td>24</td>\n      <td>2011-11-21 15:53:00</td>\n      <td>2.3925</td>\n      <td>18139</td>\n      <td>United Kingdom</td>\n      <td>57.420</td>\n    </tr>\n    <tr>\n      <th>759723</th>\n      <td>577772</td>\n      <td>84991</td>\n      <td>60 TEATIME FAIRY CAKE CASES</td>\n      <td>24</td>\n      <td>2011-11-21 15:53:00</td>\n      <td>0.9075</td>\n      <td>18139</td>\n      <td>United Kingdom</td>\n      <td>21.780</td>\n    </tr>\n    <tr>\n      <th>759724</th>\n      <td>577772</td>\n      <td>21977</td>\n      <td>PACK OF 60 PINK PAISLEY CAKE CASES</td>\n      <td>24</td>\n      <td>2011-11-21 15:53:00</td>\n      <td>0.9075</td>\n      <td>18139</td>\n      <td>United Kingdom</td>\n      <td>21.780</td>\n    </tr>\n    <tr>\n      <th>759725</th>\n      <td>577772</td>\n      <td>21975</td>\n      <td>PACK OF 60 DINOSAUR CAKE CASES</td>\n      <td>24</td>\n      <td>2011-11-21 15:53:00</td>\n      <td>0.9075</td>\n      <td>18139</td>\n      <td>United Kingdom</td>\n      <td>21.780</td>\n    </tr>\n    <tr>\n      <th>759726</th>\n      <td>577772</td>\n      <td>22951</td>\n      <td>60 CAKE CASES DOLLY GIRL DESIGN</td>\n      <td>24</td>\n      <td>2011-11-21 15:53:00</td>\n      <td>0.9075</td>\n      <td>18139</td>\n      <td>United Kingdom</td>\n      <td>21.780</td>\n    </tr>\n    <tr>\n      <th>759727</th>\n      <td>577772</td>\n      <td>21172</td>\n      <td>PARTY METAL SIGN</td>\n      <td>24</td>\n      <td>2011-11-21 15:53:00</td>\n      <td>2.3925</td>\n      <td>18139</td>\n      <td>United Kingdom</td>\n      <td>57.420</td>\n    </tr>\n    <tr>\n      <th>759728</th>\n      <td>577772</td>\n      <td>22138</td>\n      <td>BAKING SET 9 PIECE RETROSPOT</td>\n      <td>12</td>\n      <td>2011-11-21 15:53:00</td>\n      <td>8.1675</td>\n      <td>18139</td>\n      <td>United Kingdom</td>\n      <td>98.010</td>\n    </tr>\n    <tr>\n      <th>759729</th>\n      <td>577772</td>\n      <td>23504</td>\n      <td>PLAYING CARDS JUBILEE UNION JACK</td>\n      <td>24</td>\n      <td>2011-11-21 15:53:00</td>\n      <td>2.0625</td>\n      <td>18139</td>\n      <td>United Kingdom</td>\n      <td>49.500</td>\n    </tr>\n    <tr>\n      <th>759730</th>\n      <td>577772</td>\n      <td>23503</td>\n      <td>PLAYING CARDS KEEP CALM &amp; CARRY ON</td>\n      <td>24</td>\n      <td>2011-11-21 15:53:00</td>\n      <td>2.0625</td>\n      <td>18139</td>\n      <td>United Kingdom</td>\n      <td>49.500</td>\n    </tr>\n    <tr>\n      <th>759731</th>\n      <td>577772</td>\n      <td>22938</td>\n      <td>CUPCAKE LACE PAPER SET 6</td>\n      <td>48</td>\n      <td>2011-11-21 15:53:00</td>\n      <td>2.7225</td>\n      <td>18139</td>\n      <td>United Kingdom</td>\n      <td>130.680</td>\n    </tr>\n    <tr>\n      <th>759732</th>\n      <td>577772</td>\n      <td>84380</td>\n      <td>SET OF 3 BUTTERFLY COOKIE CUTTERS</td>\n      <td>12</td>\n      <td>2011-11-21 15:53:00</td>\n      <td>2.3925</td>\n      <td>18139</td>\n      <td>United Kingdom</td>\n      <td>28.710</td>\n    </tr>\n    <tr>\n      <th>759733</th>\n      <td>577772</td>\n      <td>22965</td>\n      <td>3 TRADITIONAl BISCUIT CUTTERS  SET</td>\n      <td>12</td>\n      <td>2011-11-21 15:53:00</td>\n      <td>3.4650</td>\n      <td>18139</td>\n      <td>United Kingdom</td>\n      <td>41.580</td>\n    </tr>\n    <tr>\n      <th>759734</th>\n      <td>577772</td>\n      <td>84378</td>\n      <td>SET OF 3 HEART COOKIE CUTTERS</td>\n      <td>12</td>\n      <td>2011-11-21 15:53:00</td>\n      <td>2.3925</td>\n      <td>18139</td>\n      <td>United Kingdom</td>\n      <td>28.710</td>\n    </tr>\n    <tr>\n      <th>759735</th>\n      <td>577772</td>\n      <td>23166</td>\n      <td>MEDIUM CERAMIC TOP STORAGE JAR</td>\n      <td>48</td>\n      <td>2011-11-21 15:53:00</td>\n      <td>1.7160</td>\n      <td>18139</td>\n      <td>United Kingdom</td>\n      <td>82.368</td>\n    </tr>\n    <tr>\n      <th>759736</th>\n      <td>577772</td>\n      <td>23165</td>\n      <td>LARGE CERAMIC TOP STORAGE JAR</td>\n      <td>24</td>\n      <td>2011-11-21 15:53:00</td>\n      <td>2.7225</td>\n      <td>18139</td>\n      <td>United Kingdom</td>\n      <td>65.340</td>\n    </tr>\n    <tr>\n      <th>759737</th>\n      <td>577772</td>\n      <td>22960</td>\n      <td>JAM MAKING SET WITH JARS</td>\n      <td>12</td>\n      <td>2011-11-21 15:53:00</td>\n      <td>6.1875</td>\n      <td>18139</td>\n      <td>United Kingdom</td>\n      <td>74.250</td>\n    </tr>\n    <tr>\n      <th>760023</th>\n      <td>577783</td>\n      <td>22087</td>\n      <td>PAPER BUNTING WHITE LACE</td>\n      <td>40</td>\n      <td>2011-11-21 16:20:00</td>\n      <td>4.2075</td>\n      <td>18139</td>\n      <td>United Kingdom</td>\n      <td>168.300</td>\n    </tr>\n    <tr>\n      <th>760024</th>\n      <td>577783</td>\n      <td>47566</td>\n      <td>PARTY BUNTING</td>\n      <td>150</td>\n      <td>2011-11-21 16:20:00</td>\n      <td>6.8475</td>\n      <td>18139</td>\n      <td>United Kingdom</td>\n      <td>1027.125</td>\n    </tr>\n    <tr>\n      <th>760025</th>\n      <td>577783</td>\n      <td>22819</td>\n      <td>BIRTHDAY CARD, RETRO SPOT</td>\n      <td>36</td>\n      <td>2011-11-21 16:20:00</td>\n      <td>0.6930</td>\n      <td>18139</td>\n      <td>United Kingdom</td>\n      <td>24.948</td>\n    </tr>\n    <tr>\n      <th>760026</th>\n      <td>577783</td>\n      <td>21519</td>\n      <td>GIN &amp; TONIC DIET GREETING CARD</td>\n      <td>36</td>\n      <td>2011-11-21 16:20:00</td>\n      <td>0.6930</td>\n      <td>18139</td>\n      <td>United Kingdom</td>\n      <td>24.948</td>\n    </tr>\n    <tr>\n      <th>760027</th>\n      <td>577783</td>\n      <td>21507</td>\n      <td>ELEPHANT BIRTHDAY CARD</td>\n      <td>36</td>\n      <td>2011-11-21 16:20:00</td>\n      <td>0.6930</td>\n      <td>18139</td>\n      <td>United Kingdom</td>\n      <td>24.948</td>\n    </tr>\n    <tr>\n      <th>760028</th>\n      <td>577783</td>\n      <td>22712</td>\n      <td>CARD DOLLY GIRL</td>\n      <td>48</td>\n      <td>2011-11-21 16:20:00</td>\n      <td>0.6930</td>\n      <td>18139</td>\n      <td>United Kingdom</td>\n      <td>33.264</td>\n    </tr>\n    <tr>\n      <th>760029</th>\n      <td>577783</td>\n      <td>22046</td>\n      <td>TEA PARTY  WRAPPING PAPER</td>\n      <td>50</td>\n      <td>2011-11-21 16:20:00</td>\n      <td>0.6930</td>\n      <td>18139</td>\n      <td>United Kingdom</td>\n      <td>34.650</td>\n    </tr>\n    <tr>\n      <th>760030</th>\n      <td>577783</td>\n      <td>22708</td>\n      <td>WRAP DOLLY GIRL</td>\n      <td>50</td>\n      <td>2011-11-21 16:20:00</td>\n      <td>0.6930</td>\n      <td>18139</td>\n      <td>United Kingdom</td>\n      <td>34.650</td>\n    </tr>\n    <tr>\n      <th>760031</th>\n      <td>577783</td>\n      <td>23546</td>\n      <td>WRAP PAISLEY PARK</td>\n      <td>50</td>\n      <td>2011-11-21 16:20:00</td>\n      <td>0.6930</td>\n      <td>18139</td>\n      <td>United Kingdom</td>\n      <td>34.650</td>\n    </tr>\n    <tr>\n      <th>760032</th>\n      <td>577783</td>\n      <td>23230</td>\n      <td>WRAP ALPHABET DESIGN</td>\n      <td>50</td>\n      <td>2011-11-21 16:20:00</td>\n      <td>0.6930</td>\n      <td>18139</td>\n      <td>United Kingdom</td>\n      <td>34.650</td>\n    </tr>\n    <tr>\n      <th>760033</th>\n      <td>577783</td>\n      <td>23298</td>\n      <td>SPOTTY BUNTING</td>\n      <td>150</td>\n      <td>2011-11-21 16:20:00</td>\n      <td>6.8475</td>\n      <td>18139</td>\n      <td>United Kingdom</td>\n      <td>1027.125</td>\n    </tr>\n    <tr>\n      <th>760034</th>\n      <td>577783</td>\n      <td>23295</td>\n      <td>SET OF 12 MINI LOAF BAKING CASES</td>\n      <td>24</td>\n      <td>2011-11-21 16:20:00</td>\n      <td>1.3695</td>\n      <td>18139</td>\n      <td>United Kingdom</td>\n      <td>32.868</td>\n    </tr>\n    <tr>\n      <th>760035</th>\n      <td>577783</td>\n      <td>23296</td>\n      <td>SET OF 6 TEA TIME BAKING CASES</td>\n      <td>48</td>\n      <td>2011-11-21 16:20:00</td>\n      <td>2.0625</td>\n      <td>18139</td>\n      <td>United Kingdom</td>\n      <td>99.000</td>\n    </tr>\n    <tr>\n      <th>760036</th>\n      <td>577783</td>\n      <td>21210</td>\n      <td>SET OF 72 RETROSPOT PAPER  DOILIES</td>\n      <td>48</td>\n      <td>2011-11-21 16:20:00</td>\n      <td>2.3925</td>\n      <td>18139</td>\n      <td>United Kingdom</td>\n      <td>114.840</td>\n    </tr>\n    <tr>\n      <th>760037</th>\n      <td>577783</td>\n      <td>84991</td>\n      <td>60 TEATIME FAIRY CAKE CASES</td>\n      <td>48</td>\n      <td>2011-11-21 16:20:00</td>\n      <td>0.9075</td>\n      <td>18139</td>\n      <td>United Kingdom</td>\n      <td>43.560</td>\n    </tr>\n    <tr>\n      <th>760038</th>\n      <td>577783</td>\n      <td>21977</td>\n      <td>PACK OF 60 PINK PAISLEY CAKE CASES</td>\n      <td>48</td>\n      <td>2011-11-21 16:20:00</td>\n      <td>0.9075</td>\n      <td>18139</td>\n      <td>United Kingdom</td>\n      <td>43.560</td>\n    </tr>\n    <tr>\n      <th>760039</th>\n      <td>577783</td>\n      <td>21975</td>\n      <td>PACK OF 60 DINOSAUR CAKE CASES</td>\n      <td>48</td>\n      <td>2011-11-21 16:20:00</td>\n      <td>0.9075</td>\n      <td>18139</td>\n      <td>United Kingdom</td>\n      <td>43.560</td>\n    </tr>\n    <tr>\n      <th>760040</th>\n      <td>577783</td>\n      <td>22951</td>\n      <td>60 CAKE CASES DOLLY GIRL DESIGN</td>\n      <td>48</td>\n      <td>2011-11-21 16:20:00</td>\n      <td>0.9075</td>\n      <td>18139</td>\n      <td>United Kingdom</td>\n      <td>43.560</td>\n    </tr>\n    <tr>\n      <th>760041</th>\n      <td>577783</td>\n      <td>21172</td>\n      <td>PARTY METAL SIGN</td>\n      <td>24</td>\n      <td>2011-11-21 16:20:00</td>\n      <td>2.3925</td>\n      <td>18139</td>\n      <td>United Kingdom</td>\n      <td>57.420</td>\n    </tr>\n    <tr>\n      <th>760042</th>\n      <td>577783</td>\n      <td>22138</td>\n      <td>BAKING SET 9 PIECE RETROSPOT</td>\n      <td>12</td>\n      <td>2011-11-21 16:20:00</td>\n      <td>8.1675</td>\n      <td>18139</td>\n      <td>United Kingdom</td>\n      <td>98.010</td>\n    </tr>\n    <tr>\n      <th>760043</th>\n      <td>577783</td>\n      <td>23504</td>\n      <td>PLAYING CARDS JUBILEE UNION JACK</td>\n      <td>24</td>\n      <td>2011-11-21 16:20:00</td>\n      <td>2.0625</td>\n      <td>18139</td>\n      <td>United Kingdom</td>\n      <td>49.500</td>\n    </tr>\n    <tr>\n      <th>760044</th>\n      <td>577783</td>\n      <td>23503</td>\n      <td>PLAYING CARDS KEEP CALM &amp; CARRY ON</td>\n      <td>24</td>\n      <td>2011-11-21 16:20:00</td>\n      <td>2.0625</td>\n      <td>18139</td>\n      <td>United Kingdom</td>\n      <td>49.500</td>\n    </tr>\n    <tr>\n      <th>760045</th>\n      <td>577783</td>\n      <td>22938</td>\n      <td>CUPCAKE LACE PAPER SET 6</td>\n      <td>48</td>\n      <td>2011-11-21 16:20:00</td>\n      <td>2.7225</td>\n      <td>18139</td>\n      <td>United Kingdom</td>\n      <td>130.680</td>\n    </tr>\n    <tr>\n      <th>760046</th>\n      <td>577783</td>\n      <td>23355</td>\n      <td>HOT WATER BOTTLE KEEP CALM</td>\n      <td>24</td>\n      <td>2011-11-21 16:20:00</td>\n      <td>7.0125</td>\n      <td>18139</td>\n      <td>United Kingdom</td>\n      <td>168.300</td>\n    </tr>\n    <tr>\n      <th>760047</th>\n      <td>577783</td>\n      <td>22835</td>\n      <td>HOT WATER BOTTLE I AM SO POORLY</td>\n      <td>24</td>\n      <td>2011-11-21 16:20:00</td>\n      <td>7.0125</td>\n      <td>18139</td>\n      <td>United Kingdom</td>\n      <td>168.300</td>\n    </tr>\n    <tr>\n      <th>760048</th>\n      <td>577783</td>\n      <td>84380</td>\n      <td>SET OF 3 BUTTERFLY COOKIE CUTTERS</td>\n      <td>36</td>\n      <td>2011-11-21 16:20:00</td>\n      <td>2.3925</td>\n      <td>18139</td>\n      <td>United Kingdom</td>\n      <td>86.130</td>\n    </tr>\n  </tbody>\n</table>\n</div>"
     },
     "metadata": {},
     "execution_count": 60
    }
   ],
   "source": [
    "year_2011_11[year_2011_11.customer_id.isin([18139])][:100]"
   ]
  },
  {
   "cell_type": "code",
   "execution_count": 62,
   "metadata": {},
   "outputs": [
    {
     "output_type": "execute_result",
     "data": {
      "text/plain": [
       "5297"
      ]
     },
     "metadata": {},
     "execution_count": 62
    }
   ],
   "source": [
    "len(data.description.unique())"
   ]
  },
  {
   "cell_type": "code",
   "execution_count": 63,
   "metadata": {},
   "outputs": [
    {
     "output_type": "execute_result",
     "data": {
      "text/plain": [
       "4645"
      ]
     },
     "metadata": {},
     "execution_count": 63
    }
   ],
   "source": [
    "len(data.product_id.unique())"
   ]
  },
  {
   "cell_type": "code",
   "execution_count": null,
   "metadata": {},
   "outputs": [],
   "source": []
  }
 ]
}