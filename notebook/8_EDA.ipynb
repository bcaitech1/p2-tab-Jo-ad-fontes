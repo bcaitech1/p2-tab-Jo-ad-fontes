{
 "metadata": {
  "language_info": {
   "codemirror_mode": {
    "name": "ipython",
    "version": 3
   },
   "file_extension": ".py",
   "mimetype": "text/x-python",
   "name": "python",
   "nbconvert_exporter": "python",
   "pygments_lexer": "ipython3",
   "version": "3.7.7"
  },
  "orig_nbformat": 2,
  "kernelspec": {
   "name": "python377jvsc74a57bd098b0a9b7b4eaaa670588a142fd0a9b87eaafe866f1db4228be72b4211d12040f",
   "display_name": "Python 3.7.7 64-bit ('base': conda)"
  }
 },
 "nbformat": 4,
 "nbformat_minor": 2,
 "cells": [
  {
   "cell_type": "code",
   "execution_count": 14,
   "metadata": {},
   "outputs": [],
   "source": [
    "import pandas as pd"
   ]
  },
  {
   "cell_type": "code",
   "execution_count": 21,
   "metadata": {},
   "outputs": [],
   "source": [
    "df = pd.read_csv(\"/opt/ml/code/input/train.csv\", parse_dates=[\"order_date\"])"
   ]
  },
  {
   "source": [
    "# 바꿀경우 더 올라간다!"
   ],
   "cell_type": "markdown",
   "metadata": {}
  },
  {
   "cell_type": "code",
   "execution_count": 22,
   "metadata": {},
   "outputs": [
    {
     "output_type": "execute_result",
     "data": {
      "text/plain": [
       "0          85048\n",
       "1         79323P\n",
       "2         79323W\n",
       "3          22041\n",
       "4          21232\n",
       "           ...  \n",
       "780497     22197\n",
       "780498     23146\n",
       "780499     84946\n",
       "780500     85048\n",
       "780501     23490\n",
       "Name: product_id, Length: 780502, dtype: object"
      ]
     },
     "metadata": {},
     "execution_count": 22
    }
   ],
   "source": [
    "df.product_id"
   ]
  },
  {
   "cell_type": "code",
   "execution_count": 23,
   "metadata": {},
   "outputs": [],
   "source": [
    "df['str_2'] = df.product_id.str.slice(start=0, stop=2)"
   ]
  },
  {
   "cell_type": "code",
   "execution_count": 24,
   "metadata": {},
   "outputs": [
    {
     "output_type": "execute_result",
     "data": {
      "text/plain": [
       "       order_id product_id                          description  quantity  \\\n",
       "0        489434      85048  15CM CHRISTMAS GLASS BALL 20 LIGHTS        12   \n",
       "1        489434     79323P                   PINK CHERRY LIGHTS        12   \n",
       "2        489434     79323W                  WHITE CHERRY LIGHTS        12   \n",
       "3        489434      22041         RECORD FRAME 7\" SINGLE SIZE         48   \n",
       "4        489434      21232       STRAWBERRY CERAMIC TRINKET BOX        24   \n",
       "...         ...        ...                                  ...       ...   \n",
       "780497  C579886      22197                       POPCORN HOLDER        -1   \n",
       "780498  C579886      23146       TRIPLE HOOK ANTIQUE IVORY ROSE        -1   \n",
       "780499  C579887      84946         ANTIQUE SILVER T-LIGHT GLASS        -1   \n",
       "780500  C579887      85048  15CM CHRISTMAS GLASS BALL 20 LIGHTS        -1   \n",
       "780501  C579887      23490     T-LIGHT HOLDER HANGING LOVE BIRD        -3   \n",
       "\n",
       "                order_date    price  customer_id         country     total  \\\n",
       "0      2009-12-01 07:45:00  11.4675        13085  United Kingdom  137.6100   \n",
       "1      2009-12-01 07:45:00  11.1375        13085  United Kingdom  133.6500   \n",
       "2      2009-12-01 07:45:00  11.1375        13085  United Kingdom  133.6500   \n",
       "3      2009-12-01 07:45:00   3.4650        13085  United Kingdom  166.3200   \n",
       "4      2009-12-01 07:45:00   2.0625        13085  United Kingdom   49.5000   \n",
       "...                    ...      ...          ...             ...       ...   \n",
       "780497 2011-11-30 17:39:00   1.4025        15676  United Kingdom   -1.4025   \n",
       "780498 2011-11-30 17:39:00   5.4285        15676  United Kingdom   -5.4285   \n",
       "780499 2011-11-30 17:42:00   2.0625        16717  United Kingdom   -2.0625   \n",
       "780500 2011-11-30 17:42:00  13.1175        16717  United Kingdom  -13.1175   \n",
       "780501 2011-11-30 17:42:00   6.1875        16717  United Kingdom  -18.5625   \n",
       "\n",
       "       str_2  \n",
       "0         85  \n",
       "1         79  \n",
       "2         79  \n",
       "3         22  \n",
       "4         21  \n",
       "...      ...  \n",
       "780497    22  \n",
       "780498    23  \n",
       "780499    84  \n",
       "780500    85  \n",
       "780501    23  \n",
       "\n",
       "[780502 rows x 10 columns]"
      ],
      "text/html": "<div>\n<style scoped>\n    .dataframe tbody tr th:only-of-type {\n        vertical-align: middle;\n    }\n\n    .dataframe tbody tr th {\n        vertical-align: top;\n    }\n\n    .dataframe thead th {\n        text-align: right;\n    }\n</style>\n<table border=\"1\" class=\"dataframe\">\n  <thead>\n    <tr style=\"text-align: right;\">\n      <th></th>\n      <th>order_id</th>\n      <th>product_id</th>\n      <th>description</th>\n      <th>quantity</th>\n      <th>order_date</th>\n      <th>price</th>\n      <th>customer_id</th>\n      <th>country</th>\n      <th>total</th>\n      <th>str_2</th>\n    </tr>\n  </thead>\n  <tbody>\n    <tr>\n      <th>0</th>\n      <td>489434</td>\n      <td>85048</td>\n      <td>15CM CHRISTMAS GLASS BALL 20 LIGHTS</td>\n      <td>12</td>\n      <td>2009-12-01 07:45:00</td>\n      <td>11.4675</td>\n      <td>13085</td>\n      <td>United Kingdom</td>\n      <td>137.6100</td>\n      <td>85</td>\n    </tr>\n    <tr>\n      <th>1</th>\n      <td>489434</td>\n      <td>79323P</td>\n      <td>PINK CHERRY LIGHTS</td>\n      <td>12</td>\n      <td>2009-12-01 07:45:00</td>\n      <td>11.1375</td>\n      <td>13085</td>\n      <td>United Kingdom</td>\n      <td>133.6500</td>\n      <td>79</td>\n    </tr>\n    <tr>\n      <th>2</th>\n      <td>489434</td>\n      <td>79323W</td>\n      <td>WHITE CHERRY LIGHTS</td>\n      <td>12</td>\n      <td>2009-12-01 07:45:00</td>\n      <td>11.1375</td>\n      <td>13085</td>\n      <td>United Kingdom</td>\n      <td>133.6500</td>\n      <td>79</td>\n    </tr>\n    <tr>\n      <th>3</th>\n      <td>489434</td>\n      <td>22041</td>\n      <td>RECORD FRAME 7\" SINGLE SIZE</td>\n      <td>48</td>\n      <td>2009-12-01 07:45:00</td>\n      <td>3.4650</td>\n      <td>13085</td>\n      <td>United Kingdom</td>\n      <td>166.3200</td>\n      <td>22</td>\n    </tr>\n    <tr>\n      <th>4</th>\n      <td>489434</td>\n      <td>21232</td>\n      <td>STRAWBERRY CERAMIC TRINKET BOX</td>\n      <td>24</td>\n      <td>2009-12-01 07:45:00</td>\n      <td>2.0625</td>\n      <td>13085</td>\n      <td>United Kingdom</td>\n      <td>49.5000</td>\n      <td>21</td>\n    </tr>\n    <tr>\n      <th>...</th>\n      <td>...</td>\n      <td>...</td>\n      <td>...</td>\n      <td>...</td>\n      <td>...</td>\n      <td>...</td>\n      <td>...</td>\n      <td>...</td>\n      <td>...</td>\n      <td>...</td>\n    </tr>\n    <tr>\n      <th>780497</th>\n      <td>C579886</td>\n      <td>22197</td>\n      <td>POPCORN HOLDER</td>\n      <td>-1</td>\n      <td>2011-11-30 17:39:00</td>\n      <td>1.4025</td>\n      <td>15676</td>\n      <td>United Kingdom</td>\n      <td>-1.4025</td>\n      <td>22</td>\n    </tr>\n    <tr>\n      <th>780498</th>\n      <td>C579886</td>\n      <td>23146</td>\n      <td>TRIPLE HOOK ANTIQUE IVORY ROSE</td>\n      <td>-1</td>\n      <td>2011-11-30 17:39:00</td>\n      <td>5.4285</td>\n      <td>15676</td>\n      <td>United Kingdom</td>\n      <td>-5.4285</td>\n      <td>23</td>\n    </tr>\n    <tr>\n      <th>780499</th>\n      <td>C579887</td>\n      <td>84946</td>\n      <td>ANTIQUE SILVER T-LIGHT GLASS</td>\n      <td>-1</td>\n      <td>2011-11-30 17:42:00</td>\n      <td>2.0625</td>\n      <td>16717</td>\n      <td>United Kingdom</td>\n      <td>-2.0625</td>\n      <td>84</td>\n    </tr>\n    <tr>\n      <th>780500</th>\n      <td>C579887</td>\n      <td>85048</td>\n      <td>15CM CHRISTMAS GLASS BALL 20 LIGHTS</td>\n      <td>-1</td>\n      <td>2011-11-30 17:42:00</td>\n      <td>13.1175</td>\n      <td>16717</td>\n      <td>United Kingdom</td>\n      <td>-13.1175</td>\n      <td>85</td>\n    </tr>\n    <tr>\n      <th>780501</th>\n      <td>C579887</td>\n      <td>23490</td>\n      <td>T-LIGHT HOLDER HANGING LOVE BIRD</td>\n      <td>-3</td>\n      <td>2011-11-30 17:42:00</td>\n      <td>6.1875</td>\n      <td>16717</td>\n      <td>United Kingdom</td>\n      <td>-18.5625</td>\n      <td>23</td>\n    </tr>\n  </tbody>\n</table>\n<p>780502 rows × 10 columns</p>\n</div>"
     },
     "metadata": {},
     "execution_count": 24
    }
   ],
   "source": [
    "df"
   ]
  },
  {
   "cell_type": "code",
   "execution_count": 26,
   "metadata": {},
   "outputs": [
    {
     "output_type": "execute_result",
     "data": {
      "text/plain": [
       "       order_id product_id                          description  quantity  \\\n",
       "0        489434      85048  15CM CHRISTMAS GLASS BALL 20 LIGHTS        12   \n",
       "1        489434     79323P                   PINK CHERRY LIGHTS        12   \n",
       "2        489434     79323W                  WHITE CHERRY LIGHTS        12   \n",
       "3        489434      22041         RECORD FRAME 7\" SINGLE SIZE         48   \n",
       "4        489434      21232       STRAWBERRY CERAMIC TRINKET BOX        24   \n",
       "...         ...        ...                                  ...       ...   \n",
       "780497  C579886      22197                       POPCORN HOLDER        -1   \n",
       "780498  C579886      23146       TRIPLE HOOK ANTIQUE IVORY ROSE        -1   \n",
       "780499  C579887      84946         ANTIQUE SILVER T-LIGHT GLASS        -1   \n",
       "780500  C579887      85048  15CM CHRISTMAS GLASS BALL 20 LIGHTS        -1   \n",
       "780501  C579887      23490     T-LIGHT HOLDER HANGING LOVE BIRD        -3   \n",
       "\n",
       "                order_date    price  customer_id         country     total  \\\n",
       "0      2009-12-01 07:45:00  11.4675        13085  United Kingdom  137.6100   \n",
       "1      2009-12-01 07:45:00  11.1375        13085  United Kingdom  133.6500   \n",
       "2      2009-12-01 07:45:00  11.1375        13085  United Kingdom  133.6500   \n",
       "3      2009-12-01 07:45:00   3.4650        13085  United Kingdom  166.3200   \n",
       "4      2009-12-01 07:45:00   2.0625        13085  United Kingdom   49.5000   \n",
       "...                    ...      ...          ...             ...       ...   \n",
       "780497 2011-11-30 17:39:00   1.4025        15676  United Kingdom   -1.4025   \n",
       "780498 2011-11-30 17:39:00   5.4285        15676  United Kingdom   -5.4285   \n",
       "780499 2011-11-30 17:42:00   2.0625        16717  United Kingdom   -2.0625   \n",
       "780500 2011-11-30 17:42:00  13.1175        16717  United Kingdom  -13.1175   \n",
       "780501 2011-11-30 17:42:00   6.1875        16717  United Kingdom  -18.5625   \n",
       "\n",
       "       str_2 str_3  \n",
       "0         85   850  \n",
       "1         79   793  \n",
       "2         79   793  \n",
       "3         22   220  \n",
       "4         21   212  \n",
       "...      ...   ...  \n",
       "780497    22   221  \n",
       "780498    23   231  \n",
       "780499    84   849  \n",
       "780500    85   850  \n",
       "780501    23   234  \n",
       "\n",
       "[780502 rows x 11 columns]"
      ],
      "text/html": "<div>\n<style scoped>\n    .dataframe tbody tr th:only-of-type {\n        vertical-align: middle;\n    }\n\n    .dataframe tbody tr th {\n        vertical-align: top;\n    }\n\n    .dataframe thead th {\n        text-align: right;\n    }\n</style>\n<table border=\"1\" class=\"dataframe\">\n  <thead>\n    <tr style=\"text-align: right;\">\n      <th></th>\n      <th>order_id</th>\n      <th>product_id</th>\n      <th>description</th>\n      <th>quantity</th>\n      <th>order_date</th>\n      <th>price</th>\n      <th>customer_id</th>\n      <th>country</th>\n      <th>total</th>\n      <th>str_2</th>\n      <th>str_3</th>\n    </tr>\n  </thead>\n  <tbody>\n    <tr>\n      <th>0</th>\n      <td>489434</td>\n      <td>85048</td>\n      <td>15CM CHRISTMAS GLASS BALL 20 LIGHTS</td>\n      <td>12</td>\n      <td>2009-12-01 07:45:00</td>\n      <td>11.4675</td>\n      <td>13085</td>\n      <td>United Kingdom</td>\n      <td>137.6100</td>\n      <td>85</td>\n      <td>850</td>\n    </tr>\n    <tr>\n      <th>1</th>\n      <td>489434</td>\n      <td>79323P</td>\n      <td>PINK CHERRY LIGHTS</td>\n      <td>12</td>\n      <td>2009-12-01 07:45:00</td>\n      <td>11.1375</td>\n      <td>13085</td>\n      <td>United Kingdom</td>\n      <td>133.6500</td>\n      <td>79</td>\n      <td>793</td>\n    </tr>\n    <tr>\n      <th>2</th>\n      <td>489434</td>\n      <td>79323W</td>\n      <td>WHITE CHERRY LIGHTS</td>\n      <td>12</td>\n      <td>2009-12-01 07:45:00</td>\n      <td>11.1375</td>\n      <td>13085</td>\n      <td>United Kingdom</td>\n      <td>133.6500</td>\n      <td>79</td>\n      <td>793</td>\n    </tr>\n    <tr>\n      <th>3</th>\n      <td>489434</td>\n      <td>22041</td>\n      <td>RECORD FRAME 7\" SINGLE SIZE</td>\n      <td>48</td>\n      <td>2009-12-01 07:45:00</td>\n      <td>3.4650</td>\n      <td>13085</td>\n      <td>United Kingdom</td>\n      <td>166.3200</td>\n      <td>22</td>\n      <td>220</td>\n    </tr>\n    <tr>\n      <th>4</th>\n      <td>489434</td>\n      <td>21232</td>\n      <td>STRAWBERRY CERAMIC TRINKET BOX</td>\n      <td>24</td>\n      <td>2009-12-01 07:45:00</td>\n      <td>2.0625</td>\n      <td>13085</td>\n      <td>United Kingdom</td>\n      <td>49.5000</td>\n      <td>21</td>\n      <td>212</td>\n    </tr>\n    <tr>\n      <th>...</th>\n      <td>...</td>\n      <td>...</td>\n      <td>...</td>\n      <td>...</td>\n      <td>...</td>\n      <td>...</td>\n      <td>...</td>\n      <td>...</td>\n      <td>...</td>\n      <td>...</td>\n      <td>...</td>\n    </tr>\n    <tr>\n      <th>780497</th>\n      <td>C579886</td>\n      <td>22197</td>\n      <td>POPCORN HOLDER</td>\n      <td>-1</td>\n      <td>2011-11-30 17:39:00</td>\n      <td>1.4025</td>\n      <td>15676</td>\n      <td>United Kingdom</td>\n      <td>-1.4025</td>\n      <td>22</td>\n      <td>221</td>\n    </tr>\n    <tr>\n      <th>780498</th>\n      <td>C579886</td>\n      <td>23146</td>\n      <td>TRIPLE HOOK ANTIQUE IVORY ROSE</td>\n      <td>-1</td>\n      <td>2011-11-30 17:39:00</td>\n      <td>5.4285</td>\n      <td>15676</td>\n      <td>United Kingdom</td>\n      <td>-5.4285</td>\n      <td>23</td>\n      <td>231</td>\n    </tr>\n    <tr>\n      <th>780499</th>\n      <td>C579887</td>\n      <td>84946</td>\n      <td>ANTIQUE SILVER T-LIGHT GLASS</td>\n      <td>-1</td>\n      <td>2011-11-30 17:42:00</td>\n      <td>2.0625</td>\n      <td>16717</td>\n      <td>United Kingdom</td>\n      <td>-2.0625</td>\n      <td>84</td>\n      <td>849</td>\n    </tr>\n    <tr>\n      <th>780500</th>\n      <td>C579887</td>\n      <td>85048</td>\n      <td>15CM CHRISTMAS GLASS BALL 20 LIGHTS</td>\n      <td>-1</td>\n      <td>2011-11-30 17:42:00</td>\n      <td>13.1175</td>\n      <td>16717</td>\n      <td>United Kingdom</td>\n      <td>-13.1175</td>\n      <td>85</td>\n      <td>850</td>\n    </tr>\n    <tr>\n      <th>780501</th>\n      <td>C579887</td>\n      <td>23490</td>\n      <td>T-LIGHT HOLDER HANGING LOVE BIRD</td>\n      <td>-3</td>\n      <td>2011-11-30 17:42:00</td>\n      <td>6.1875</td>\n      <td>16717</td>\n      <td>United Kingdom</td>\n      <td>-18.5625</td>\n      <td>23</td>\n      <td>234</td>\n    </tr>\n  </tbody>\n</table>\n<p>780502 rows × 11 columns</p>\n</div>"
     },
     "metadata": {},
     "execution_count": 26
    }
   ],
   "source": [
    "df['str_3'] = df.product_id.str.slice(start=0, stop=3)\n",
    "df"
   ]
  },
  {
   "cell_type": "code",
   "execution_count": null,
   "metadata": {},
   "outputs": [],
   "source": []
  },
  {
   "cell_type": "code",
   "execution_count": null,
   "metadata": {},
   "outputs": [],
   "source": []
  }
 ]
}