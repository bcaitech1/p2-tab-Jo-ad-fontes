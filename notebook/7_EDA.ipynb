{
 "metadata": {
  "language_info": {
   "codemirror_mode": {
    "name": "ipython",
    "version": 3
   },
   "file_extension": ".py",
   "mimetype": "text/x-python",
   "name": "python",
   "nbconvert_exporter": "python",
   "pygments_lexer": "ipython3",
   "version": "3.7.7"
  },
  "orig_nbformat": 2,
  "kernelspec": {
   "name": "python377jvsc74a57bd098b0a9b7b4eaaa670588a142fd0a9b87eaafe866f1db4228be72b4211d12040f",
   "display_name": "Python 3.7.7 64-bit ('base': conda)"
  }
 },
 "nbformat": 4,
 "nbformat_minor": 2,
 "cells": [
  {
   "cell_type": "code",
   "execution_count": 19,
   "metadata": {},
   "outputs": [],
   "source": [
    "import pandas as pd\n",
    "import numpy as np\n",
    "AGGREGATION_FUNCTIONS = [\"mean\", \"max\", \"min\", \"sum\", \"count\", \"std\", \"skew\"]\n",
    "agg_dict = {\n",
    "        \"order_quantity_diff\": AGGREGATION_FUNCTIONS,\n",
    "        \"order_price_diff\": AGGREGATION_FUNCTIONS,\n",
    "        \"order_total_diff\": AGGREGATION_FUNCTIONS,\n",
    "    }"
   ]
  },
  {
   "cell_type": "code",
   "execution_count": 20,
   "metadata": {},
   "outputs": [],
   "source": [
    "df = pd.read_csv(\"/opt/ml/code/input/train.csv\", parse_dates=[\"order_date\"])"
   ]
  },
  {
   "cell_type": "code",
   "execution_count": 335,
   "metadata": {},
   "outputs": [],
   "source": [
    "order_df = df.groupby([\"order_date\", \"customer_id\"]).sum()"
   ]
  },
  {
   "cell_type": "code",
   "execution_count": 339,
   "metadata": {},
   "outputs": [],
   "source": [
    "order_df = order_df.groupby([\"customer_id\"]).diff()"
   ]
  },
  {
   "cell_type": "code",
   "execution_count": 343,
   "metadata": {},
   "outputs": [],
   "source": [
    "order_df[\"order_quantity_diff\"] = order_df[\"quantity\"]\n",
    "order_df[\"order_price_diff\"] = order_df[\"price\"]\n",
    "order_df[\"order_total_diff\"] = order_df[\"total\"]"
   ]
  },
  {
   "cell_type": "code",
   "execution_count": 344,
   "metadata": {},
   "outputs": [
    {
     "output_type": "execute_result",
     "data": {
      "text/plain": [
       "                                 quantity     price      total  \\\n",
       "order_date          customer_id                                  \n",
       "2009-12-01 07:45:00 13085             NaN       NaN        NaN   \n",
       "2009-12-01 07:46:00 13085          -106.0  -36.5475  -593.1750   \n",
       "2009-12-01 09:06:00 13078             NaN       NaN        NaN   \n",
       "2009-12-01 09:08:00 15362             NaN       NaN        NaN   \n",
       "2009-12-01 09:24:00 18102             NaN       NaN        NaN   \n",
       "...                                   ...       ...        ...   \n",
       "2011-11-30 17:32:00 14194          -408.0 -315.2820 -1879.7790   \n",
       "2011-11-30 17:34:00 14527           -51.0 -179.2230  -451.5390   \n",
       "2011-11-30 17:37:00 15444           385.0  488.1525  1220.1915   \n",
       "2011-11-30 17:39:00 15676           -87.0   45.4740  -427.6635   \n",
       "2011-11-30 17:42:00 16717          -929.0 -458.7990 -3301.1715   \n",
       "\n",
       "                                 order_quantity_diff  order_price_diff  \\\n",
       "order_date          customer_id                                          \n",
       "2009-12-01 07:45:00 13085                        NaN               NaN   \n",
       "2009-12-01 07:46:00 13085                     -106.0          -36.5475   \n",
       "2009-12-01 09:06:00 13078                        NaN               NaN   \n",
       "2009-12-01 09:08:00 15362                        NaN               NaN   \n",
       "2009-12-01 09:24:00 18102                        NaN               NaN   \n",
       "...                                              ...               ...   \n",
       "2011-11-30 17:32:00 14194                     -408.0         -315.2820   \n",
       "2011-11-30 17:34:00 14527                      -51.0         -179.2230   \n",
       "2011-11-30 17:37:00 15444                      385.0          488.1525   \n",
       "2011-11-30 17:39:00 15676                      -87.0           45.4740   \n",
       "2011-11-30 17:42:00 16717                     -929.0         -458.7990   \n",
       "\n",
       "                                 order_total_diff  \n",
       "order_date          customer_id                    \n",
       "2009-12-01 07:45:00 13085                     NaN  \n",
       "2009-12-01 07:46:00 13085               -593.1750  \n",
       "2009-12-01 09:06:00 13078                     NaN  \n",
       "2009-12-01 09:08:00 15362                     NaN  \n",
       "2009-12-01 09:24:00 18102                     NaN  \n",
       "...                                           ...  \n",
       "2011-11-30 17:32:00 14194              -1879.7790  \n",
       "2011-11-30 17:34:00 14527               -451.5390  \n",
       "2011-11-30 17:37:00 15444               1220.1915  \n",
       "2011-11-30 17:39:00 15676               -427.6635  \n",
       "2011-11-30 17:42:00 16717              -3301.1715  \n",
       "\n",
       "[43721 rows x 6 columns]"
      ],
      "text/html": "<div>\n<style scoped>\n    .dataframe tbody tr th:only-of-type {\n        vertical-align: middle;\n    }\n\n    .dataframe tbody tr th {\n        vertical-align: top;\n    }\n\n    .dataframe thead th {\n        text-align: right;\n    }\n</style>\n<table border=\"1\" class=\"dataframe\">\n  <thead>\n    <tr style=\"text-align: right;\">\n      <th></th>\n      <th></th>\n      <th>quantity</th>\n      <th>price</th>\n      <th>total</th>\n      <th>order_quantity_diff</th>\n      <th>order_price_diff</th>\n      <th>order_total_diff</th>\n    </tr>\n    <tr>\n      <th>order_date</th>\n      <th>customer_id</th>\n      <th></th>\n      <th></th>\n      <th></th>\n      <th></th>\n      <th></th>\n      <th></th>\n    </tr>\n  </thead>\n  <tbody>\n    <tr>\n      <th>2009-12-01 07:45:00</th>\n      <th>13085</th>\n      <td>NaN</td>\n      <td>NaN</td>\n      <td>NaN</td>\n      <td>NaN</td>\n      <td>NaN</td>\n      <td>NaN</td>\n    </tr>\n    <tr>\n      <th>2009-12-01 07:46:00</th>\n      <th>13085</th>\n      <td>-106.0</td>\n      <td>-36.5475</td>\n      <td>-593.1750</td>\n      <td>-106.0</td>\n      <td>-36.5475</td>\n      <td>-593.1750</td>\n    </tr>\n    <tr>\n      <th>2009-12-01 09:06:00</th>\n      <th>13078</th>\n      <td>NaN</td>\n      <td>NaN</td>\n      <td>NaN</td>\n      <td>NaN</td>\n      <td>NaN</td>\n      <td>NaN</td>\n    </tr>\n    <tr>\n      <th>2009-12-01 09:08:00</th>\n      <th>15362</th>\n      <td>NaN</td>\n      <td>NaN</td>\n      <td>NaN</td>\n      <td>NaN</td>\n      <td>NaN</td>\n      <td>NaN</td>\n    </tr>\n    <tr>\n      <th>2009-12-01 09:24:00</th>\n      <th>18102</th>\n      <td>NaN</td>\n      <td>NaN</td>\n      <td>NaN</td>\n      <td>NaN</td>\n      <td>NaN</td>\n      <td>NaN</td>\n    </tr>\n    <tr>\n      <th>...</th>\n      <th>...</th>\n      <td>...</td>\n      <td>...</td>\n      <td>...</td>\n      <td>...</td>\n      <td>...</td>\n      <td>...</td>\n    </tr>\n    <tr>\n      <th>2011-11-30 17:32:00</th>\n      <th>14194</th>\n      <td>-408.0</td>\n      <td>-315.2820</td>\n      <td>-1879.7790</td>\n      <td>-408.0</td>\n      <td>-315.2820</td>\n      <td>-1879.7790</td>\n    </tr>\n    <tr>\n      <th>2011-11-30 17:34:00</th>\n      <th>14527</th>\n      <td>-51.0</td>\n      <td>-179.2230</td>\n      <td>-451.5390</td>\n      <td>-51.0</td>\n      <td>-179.2230</td>\n      <td>-451.5390</td>\n    </tr>\n    <tr>\n      <th>2011-11-30 17:37:00</th>\n      <th>15444</th>\n      <td>385.0</td>\n      <td>488.1525</td>\n      <td>1220.1915</td>\n      <td>385.0</td>\n      <td>488.1525</td>\n      <td>1220.1915</td>\n    </tr>\n    <tr>\n      <th>2011-11-30 17:39:00</th>\n      <th>15676</th>\n      <td>-87.0</td>\n      <td>45.4740</td>\n      <td>-427.6635</td>\n      <td>-87.0</td>\n      <td>45.4740</td>\n      <td>-427.6635</td>\n    </tr>\n    <tr>\n      <th>2011-11-30 17:42:00</th>\n      <th>16717</th>\n      <td>-929.0</td>\n      <td>-458.7990</td>\n      <td>-3301.1715</td>\n      <td>-929.0</td>\n      <td>-458.7990</td>\n      <td>-3301.1715</td>\n    </tr>\n  </tbody>\n</table>\n<p>43721 rows × 6 columns</p>\n</div>"
     },
     "metadata": {},
     "execution_count": 344
    }
   ],
   "source": [
    "order_df"
   ]
  },
  {
   "cell_type": "code",
   "execution_count": 21,
   "metadata": {},
   "outputs": [
    {
     "output_type": "error",
     "ename": "NameError",
     "evalue": "name 'order_df' is not defined",
     "traceback": [
      "\u001b[0;31m---------------------------------------------------------------------------\u001b[0m",
      "\u001b[0;31mNameError\u001b[0m                                 Traceback (most recent call last)",
      "\u001b[0;32m<ipython-input-21-787905a5724b>\u001b[0m in \u001b[0;36m<module>\u001b[0;34m\u001b[0m\n\u001b[0;32m----> 1\u001b[0;31m \u001b[0morder_df\u001b[0m \u001b[0;34m=\u001b[0m \u001b[0morder_df\u001b[0m\u001b[0;34m.\u001b[0m\u001b[0mgroupby\u001b[0m\u001b[0;34m(\u001b[0m\u001b[0;34m[\u001b[0m\u001b[0;34m\"customer_id\"\u001b[0m\u001b[0;34m]\u001b[0m\u001b[0;34m)\u001b[0m\u001b[0;34m.\u001b[0m\u001b[0magg\u001b[0m\u001b[0;34m(\u001b[0m\u001b[0magg_dict\u001b[0m\u001b[0;34m)\u001b[0m\u001b[0;34m\u001b[0m\u001b[0;34m\u001b[0m\u001b[0m\n\u001b[0m",
      "\u001b[0;31mNameError\u001b[0m: name 'order_df' is not defined"
     ]
    }
   ],
   "source": [
    "order_df = order_df.groupby([\"customer_id\"]).agg(agg_dict)"
   ]
  },
  {
   "cell_type": "code",
   "execution_count": 349,
   "metadata": {},
   "outputs": [
    {
     "output_type": "execute_result",
     "data": {
      "text/plain": [
       "            order_quantity_diff                                    \\\n",
       "                           mean      max       min      sum count   \n",
       "customer_id                                                         \n",
       "12346              -4639.062500  74216.0 -148430.0 -74225.0    16   \n",
       "12347                 27.833333    399.0    -287.0    167.0     6   \n",
       "12348                -39.000000    881.0    -653.0   -156.0     4   \n",
       "12349                159.000000    518.0    -472.0    636.0     4   \n",
       "12350                       NaN      NaN       NaN      0.0     0   \n",
       "...                         ...      ...       ...      ...   ...   \n",
       "18283                  4.150000    240.0    -109.0     83.0    20   \n",
       "18284               -495.000000   -495.0    -495.0   -495.0     1   \n",
       "18285                       NaN      NaN       NaN      0.0     0   \n",
       "18286                190.000000    510.0    -130.0    380.0     2   \n",
       "18287                 15.714286    734.0    -882.0    110.0     7   \n",
       "\n",
       "                                    order_price_diff                      ...  \\\n",
       "                      std      skew             mean       max       min  ...   \n",
       "customer_id                                                               ...   \n",
       "12346        42579.452576 -2.448920        -0.356813  190.1790 -410.9490  ...   \n",
       "12347          248.122080  0.244759        13.035000   86.6580  -27.0930  ...   \n",
       "12348          660.659771  1.206959        11.595375   58.0965  -12.5235  ...   \n",
       "12349          458.625483 -1.192913       239.641875  463.2540    8.9430  ...   \n",
       "12350                 NaN       NaN              NaN       NaN       NaN  ...   \n",
       "...                   ...       ...              ...       ...       ...  ...   \n",
       "18283           80.176302  1.261834         0.134475  201.6795 -161.3700  ...   \n",
       "18284                 NaN       NaN      -109.048500 -109.0485 -109.0485  ...   \n",
       "18285                 NaN       NaN              NaN       NaN       NaN  ...   \n",
       "18286          452.548340       NaN        12.292500  215.0775 -190.4925  ...   \n",
       "18287          574.185427 -0.433075        -0.146143  187.1100 -116.9190  ...   \n",
       "\n",
       "                                        order_total_diff               \\\n",
       "            count         std      skew             mean          max   \n",
       "customer_id                                                             \n",
       "12346          16  136.474976 -1.626141     -7964.199375  127360.3650   \n",
       "12347           6   42.544458  1.122816       187.767250    1170.5265   \n",
       "12348           4   31.751638  1.722600        36.234000    1106.5560   \n",
       "12349           4  188.096741 -0.106816       734.951250    1984.3230   \n",
       "12350           0         NaN       NaN              NaN          NaN   \n",
       "...           ...         ...       ...              ...          ...   \n",
       "18283          20   95.938835  0.236663        10.181325     503.4150   \n",
       "18284           1         NaN       NaN      -803.022000    -803.0220   \n",
       "18285           0         NaN       NaN              NaN          NaN   \n",
       "18286           2  286.781297       NaN       305.687250    1553.4420   \n",
       "18287           7  110.376782  1.017175        17.862429    1776.5715   \n",
       "\n",
       "                                                                     \n",
       "                     min          sum count           std      skew  \n",
       "customer_id                                                          \n",
       "12346       -254705.8800 -127427.1900    16  73067.029667 -2.448619  \n",
       "12347          -418.6545    1126.6035     6    582.296093  0.815658  \n",
       "12348         -1097.8440     144.9360     4    910.374929 -0.200866  \n",
       "12349         -1433.0580    2939.8050     4   1573.108986 -1.203093  \n",
       "12350                NaN       0.0000     0           NaN       NaN  \n",
       "...                  ...          ...   ...           ...       ...  \n",
       "18283          -222.5685     203.6265    20    165.570226  1.267120  \n",
       "18284          -803.0220    -803.0220     1           NaN       NaN  \n",
       "18285                NaN       0.0000     0           NaN       NaN  \n",
       "18286          -942.0675     611.3745     2   1764.591690       NaN  \n",
       "18287         -1535.5560     125.0370     7   1183.306170 -0.081622  \n",
       "\n",
       "[5914 rows x 21 columns]"
      ],
      "text/html": "<div>\n<style scoped>\n    .dataframe tbody tr th:only-of-type {\n        vertical-align: middle;\n    }\n\n    .dataframe tbody tr th {\n        vertical-align: top;\n    }\n\n    .dataframe thead tr th {\n        text-align: left;\n    }\n\n    .dataframe thead tr:last-of-type th {\n        text-align: right;\n    }\n</style>\n<table border=\"1\" class=\"dataframe\">\n  <thead>\n    <tr>\n      <th></th>\n      <th colspan=\"7\" halign=\"left\">order_quantity_diff</th>\n      <th colspan=\"7\" halign=\"left\">order_price_diff</th>\n      <th colspan=\"7\" halign=\"left\">order_total_diff</th>\n    </tr>\n    <tr>\n      <th></th>\n      <th>mean</th>\n      <th>max</th>\n      <th>min</th>\n      <th>sum</th>\n      <th>count</th>\n      <th>std</th>\n      <th>skew</th>\n      <th>mean</th>\n      <th>max</th>\n      <th>min</th>\n      <th>...</th>\n      <th>count</th>\n      <th>std</th>\n      <th>skew</th>\n      <th>mean</th>\n      <th>max</th>\n      <th>min</th>\n      <th>sum</th>\n      <th>count</th>\n      <th>std</th>\n      <th>skew</th>\n    </tr>\n    <tr>\n      <th>customer_id</th>\n      <th></th>\n      <th></th>\n      <th></th>\n      <th></th>\n      <th></th>\n      <th></th>\n      <th></th>\n      <th></th>\n      <th></th>\n      <th></th>\n      <th></th>\n      <th></th>\n      <th></th>\n      <th></th>\n      <th></th>\n      <th></th>\n      <th></th>\n      <th></th>\n      <th></th>\n      <th></th>\n      <th></th>\n    </tr>\n  </thead>\n  <tbody>\n    <tr>\n      <th>12346</th>\n      <td>-4639.062500</td>\n      <td>74216.0</td>\n      <td>-148430.0</td>\n      <td>-74225.0</td>\n      <td>16</td>\n      <td>42579.452576</td>\n      <td>-2.448920</td>\n      <td>-0.356813</td>\n      <td>190.1790</td>\n      <td>-410.9490</td>\n      <td>...</td>\n      <td>16</td>\n      <td>136.474976</td>\n      <td>-1.626141</td>\n      <td>-7964.199375</td>\n      <td>127360.3650</td>\n      <td>-254705.8800</td>\n      <td>-127427.1900</td>\n      <td>16</td>\n      <td>73067.029667</td>\n      <td>-2.448619</td>\n    </tr>\n    <tr>\n      <th>12347</th>\n      <td>27.833333</td>\n      <td>399.0</td>\n      <td>-287.0</td>\n      <td>167.0</td>\n      <td>6</td>\n      <td>248.122080</td>\n      <td>0.244759</td>\n      <td>13.035000</td>\n      <td>86.6580</td>\n      <td>-27.0930</td>\n      <td>...</td>\n      <td>6</td>\n      <td>42.544458</td>\n      <td>1.122816</td>\n      <td>187.767250</td>\n      <td>1170.5265</td>\n      <td>-418.6545</td>\n      <td>1126.6035</td>\n      <td>6</td>\n      <td>582.296093</td>\n      <td>0.815658</td>\n    </tr>\n    <tr>\n      <th>12348</th>\n      <td>-39.000000</td>\n      <td>881.0</td>\n      <td>-653.0</td>\n      <td>-156.0</td>\n      <td>4</td>\n      <td>660.659771</td>\n      <td>1.206959</td>\n      <td>11.595375</td>\n      <td>58.0965</td>\n      <td>-12.5235</td>\n      <td>...</td>\n      <td>4</td>\n      <td>31.751638</td>\n      <td>1.722600</td>\n      <td>36.234000</td>\n      <td>1106.5560</td>\n      <td>-1097.8440</td>\n      <td>144.9360</td>\n      <td>4</td>\n      <td>910.374929</td>\n      <td>-0.200866</td>\n    </tr>\n    <tr>\n      <th>12349</th>\n      <td>159.000000</td>\n      <td>518.0</td>\n      <td>-472.0</td>\n      <td>636.0</td>\n      <td>4</td>\n      <td>458.625483</td>\n      <td>-1.192913</td>\n      <td>239.641875</td>\n      <td>463.2540</td>\n      <td>8.9430</td>\n      <td>...</td>\n      <td>4</td>\n      <td>188.096741</td>\n      <td>-0.106816</td>\n      <td>734.951250</td>\n      <td>1984.3230</td>\n      <td>-1433.0580</td>\n      <td>2939.8050</td>\n      <td>4</td>\n      <td>1573.108986</td>\n      <td>-1.203093</td>\n    </tr>\n    <tr>\n      <th>12350</th>\n      <td>NaN</td>\n      <td>NaN</td>\n      <td>NaN</td>\n      <td>0.0</td>\n      <td>0</td>\n      <td>NaN</td>\n      <td>NaN</td>\n      <td>NaN</td>\n      <td>NaN</td>\n      <td>NaN</td>\n      <td>...</td>\n      <td>0</td>\n      <td>NaN</td>\n      <td>NaN</td>\n      <td>NaN</td>\n      <td>NaN</td>\n      <td>NaN</td>\n      <td>0.0000</td>\n      <td>0</td>\n      <td>NaN</td>\n      <td>NaN</td>\n    </tr>\n    <tr>\n      <th>...</th>\n      <td>...</td>\n      <td>...</td>\n      <td>...</td>\n      <td>...</td>\n      <td>...</td>\n      <td>...</td>\n      <td>...</td>\n      <td>...</td>\n      <td>...</td>\n      <td>...</td>\n      <td>...</td>\n      <td>...</td>\n      <td>...</td>\n      <td>...</td>\n      <td>...</td>\n      <td>...</td>\n      <td>...</td>\n      <td>...</td>\n      <td>...</td>\n      <td>...</td>\n      <td>...</td>\n    </tr>\n    <tr>\n      <th>18283</th>\n      <td>4.150000</td>\n      <td>240.0</td>\n      <td>-109.0</td>\n      <td>83.0</td>\n      <td>20</td>\n      <td>80.176302</td>\n      <td>1.261834</td>\n      <td>0.134475</td>\n      <td>201.6795</td>\n      <td>-161.3700</td>\n      <td>...</td>\n      <td>20</td>\n      <td>95.938835</td>\n      <td>0.236663</td>\n      <td>10.181325</td>\n      <td>503.4150</td>\n      <td>-222.5685</td>\n      <td>203.6265</td>\n      <td>20</td>\n      <td>165.570226</td>\n      <td>1.267120</td>\n    </tr>\n    <tr>\n      <th>18284</th>\n      <td>-495.000000</td>\n      <td>-495.0</td>\n      <td>-495.0</td>\n      <td>-495.0</td>\n      <td>1</td>\n      <td>NaN</td>\n      <td>NaN</td>\n      <td>-109.048500</td>\n      <td>-109.0485</td>\n      <td>-109.0485</td>\n      <td>...</td>\n      <td>1</td>\n      <td>NaN</td>\n      <td>NaN</td>\n      <td>-803.022000</td>\n      <td>-803.0220</td>\n      <td>-803.0220</td>\n      <td>-803.0220</td>\n      <td>1</td>\n      <td>NaN</td>\n      <td>NaN</td>\n    </tr>\n    <tr>\n      <th>18285</th>\n      <td>NaN</td>\n      <td>NaN</td>\n      <td>NaN</td>\n      <td>0.0</td>\n      <td>0</td>\n      <td>NaN</td>\n      <td>NaN</td>\n      <td>NaN</td>\n      <td>NaN</td>\n      <td>NaN</td>\n      <td>...</td>\n      <td>0</td>\n      <td>NaN</td>\n      <td>NaN</td>\n      <td>NaN</td>\n      <td>NaN</td>\n      <td>NaN</td>\n      <td>0.0000</td>\n      <td>0</td>\n      <td>NaN</td>\n      <td>NaN</td>\n    </tr>\n    <tr>\n      <th>18286</th>\n      <td>190.000000</td>\n      <td>510.0</td>\n      <td>-130.0</td>\n      <td>380.0</td>\n      <td>2</td>\n      <td>452.548340</td>\n      <td>NaN</td>\n      <td>12.292500</td>\n      <td>215.0775</td>\n      <td>-190.4925</td>\n      <td>...</td>\n      <td>2</td>\n      <td>286.781297</td>\n      <td>NaN</td>\n      <td>305.687250</td>\n      <td>1553.4420</td>\n      <td>-942.0675</td>\n      <td>611.3745</td>\n      <td>2</td>\n      <td>1764.591690</td>\n      <td>NaN</td>\n    </tr>\n    <tr>\n      <th>18287</th>\n      <td>15.714286</td>\n      <td>734.0</td>\n      <td>-882.0</td>\n      <td>110.0</td>\n      <td>7</td>\n      <td>574.185427</td>\n      <td>-0.433075</td>\n      <td>-0.146143</td>\n      <td>187.1100</td>\n      <td>-116.9190</td>\n      <td>...</td>\n      <td>7</td>\n      <td>110.376782</td>\n      <td>1.017175</td>\n      <td>17.862429</td>\n      <td>1776.5715</td>\n      <td>-1535.5560</td>\n      <td>125.0370</td>\n      <td>7</td>\n      <td>1183.306170</td>\n      <td>-0.081622</td>\n    </tr>\n  </tbody>\n</table>\n<p>5914 rows × 21 columns</p>\n</div>"
     },
     "metadata": {},
     "execution_count": 349
    }
   ],
   "source": [
    "order_df"
   ]
  },
  {
   "source": [
    "# 300 만들기"
   ],
   "cell_type": "markdown",
   "metadata": {}
  },
  {
   "cell_type": "code",
   "execution_count": 22,
   "metadata": {},
   "outputs": [],
   "source": [
    "df[\"order_ts\"] = df[\"order_date\"].astype(np.int64) // 1e9"
   ]
  },
  {
   "cell_type": "code",
   "execution_count": 23,
   "metadata": {},
   "outputs": [],
   "source": [
    "by = df.groupby(['customer_id', 'order_date']).sum()"
   ]
  },
  {
   "cell_type": "code",
   "execution_count": 24,
   "metadata": {},
   "outputs": [
    {
     "output_type": "execute_result",
     "data": {
      "text/plain": [
       "                                 quantity     price     total      order_ts\n",
       "customer_id order_date                                                     \n",
       "12346       2009-12-14 08:34:00        10    7.4250    74.250  1.260780e+09\n",
       "            2009-12-14 11:00:00         5    7.4250    37.125  1.260788e+09\n",
       "            2009-12-14 11:02:00         5    7.4250    37.125  1.260789e+09\n",
       "            2009-12-18 10:47:00         5    7.4250    37.125  1.261133e+09\n",
       "            2009-12-18 10:55:00         1    1.6500     1.650  1.261134e+09\n",
       "...                                   ...       ...       ...           ...\n",
       "18287       2010-09-21 12:19:00        12    8.4150    50.490  2.570143e+09\n",
       "            2010-11-22 11:51:00       187  124.8225   629.475  1.290427e+10\n",
       "            2011-05-22 10:39:00       488   93.9180  1262.712  3.787576e+10\n",
       "            2011-10-12 10:23:00       990   75.4050  1652.178  5.009977e+10\n",
       "            2011-10-28 09:29:00       108    3.1845   116.622  3.959382e+09\n",
       "\n",
       "[43721 rows x 4 columns]"
      ],
      "text/html": "<div>\n<style scoped>\n    .dataframe tbody tr th:only-of-type {\n        vertical-align: middle;\n    }\n\n    .dataframe tbody tr th {\n        vertical-align: top;\n    }\n\n    .dataframe thead th {\n        text-align: right;\n    }\n</style>\n<table border=\"1\" class=\"dataframe\">\n  <thead>\n    <tr style=\"text-align: right;\">\n      <th></th>\n      <th></th>\n      <th>quantity</th>\n      <th>price</th>\n      <th>total</th>\n      <th>order_ts</th>\n    </tr>\n    <tr>\n      <th>customer_id</th>\n      <th>order_date</th>\n      <th></th>\n      <th></th>\n      <th></th>\n      <th></th>\n    </tr>\n  </thead>\n  <tbody>\n    <tr>\n      <th rowspan=\"5\" valign=\"top\">12346</th>\n      <th>2009-12-14 08:34:00</th>\n      <td>10</td>\n      <td>7.4250</td>\n      <td>74.250</td>\n      <td>1.260780e+09</td>\n    </tr>\n    <tr>\n      <th>2009-12-14 11:00:00</th>\n      <td>5</td>\n      <td>7.4250</td>\n      <td>37.125</td>\n      <td>1.260788e+09</td>\n    </tr>\n    <tr>\n      <th>2009-12-14 11:02:00</th>\n      <td>5</td>\n      <td>7.4250</td>\n      <td>37.125</td>\n      <td>1.260789e+09</td>\n    </tr>\n    <tr>\n      <th>2009-12-18 10:47:00</th>\n      <td>5</td>\n      <td>7.4250</td>\n      <td>37.125</td>\n      <td>1.261133e+09</td>\n    </tr>\n    <tr>\n      <th>2009-12-18 10:55:00</th>\n      <td>1</td>\n      <td>1.6500</td>\n      <td>1.650</td>\n      <td>1.261134e+09</td>\n    </tr>\n    <tr>\n      <th>...</th>\n      <th>...</th>\n      <td>...</td>\n      <td>...</td>\n      <td>...</td>\n      <td>...</td>\n    </tr>\n    <tr>\n      <th rowspan=\"5\" valign=\"top\">18287</th>\n      <th>2010-09-21 12:19:00</th>\n      <td>12</td>\n      <td>8.4150</td>\n      <td>50.490</td>\n      <td>2.570143e+09</td>\n    </tr>\n    <tr>\n      <th>2010-11-22 11:51:00</th>\n      <td>187</td>\n      <td>124.8225</td>\n      <td>629.475</td>\n      <td>1.290427e+10</td>\n    </tr>\n    <tr>\n      <th>2011-05-22 10:39:00</th>\n      <td>488</td>\n      <td>93.9180</td>\n      <td>1262.712</td>\n      <td>3.787576e+10</td>\n    </tr>\n    <tr>\n      <th>2011-10-12 10:23:00</th>\n      <td>990</td>\n      <td>75.4050</td>\n      <td>1652.178</td>\n      <td>5.009977e+10</td>\n    </tr>\n    <tr>\n      <th>2011-10-28 09:29:00</th>\n      <td>108</td>\n      <td>3.1845</td>\n      <td>116.622</td>\n      <td>3.959382e+09</td>\n    </tr>\n  </tbody>\n</table>\n<p>43721 rows × 4 columns</p>\n</div>"
     },
     "metadata": {},
     "execution_count": 24
    }
   ],
   "source": [
    "by"
   ]
  },
  {
   "source": [
    "# 300이상인 주문은 몇개인가?"
   ],
   "cell_type": "markdown",
   "metadata": {}
  },
  {
   "cell_type": "code",
   "execution_count": 25,
   "metadata": {},
   "outputs": [],
   "source": [
    "by['sparta'] = (by[\"total\"] > 300).astype(int)"
   ]
  },
  {
   "cell_type": "code",
   "execution_count": 26,
   "metadata": {},
   "outputs": [
    {
     "output_type": "execute_result",
     "data": {
      "text/plain": [
       "                                 quantity     price     total      order_ts  \\\n",
       "customer_id order_date                                                        \n",
       "12346       2009-12-14 08:34:00        10    7.4250    74.250  1.260780e+09   \n",
       "            2009-12-14 11:00:00         5    7.4250    37.125  1.260788e+09   \n",
       "            2009-12-14 11:02:00         5    7.4250    37.125  1.260789e+09   \n",
       "            2009-12-18 10:47:00         5    7.4250    37.125  1.261133e+09   \n",
       "            2009-12-18 10:55:00         1    1.6500     1.650  1.261134e+09   \n",
       "...                                   ...       ...       ...           ...   \n",
       "18287       2010-09-21 12:19:00        12    8.4150    50.490  2.570143e+09   \n",
       "            2010-11-22 11:51:00       187  124.8225   629.475  1.290427e+10   \n",
       "            2011-05-22 10:39:00       488   93.9180  1262.712  3.787576e+10   \n",
       "            2011-10-12 10:23:00       990   75.4050  1652.178  5.009977e+10   \n",
       "            2011-10-28 09:29:00       108    3.1845   116.622  3.959382e+09   \n",
       "\n",
       "                                 sparta  \n",
       "customer_id order_date                   \n",
       "12346       2009-12-14 08:34:00       0  \n",
       "            2009-12-14 11:00:00       0  \n",
       "            2009-12-14 11:02:00       0  \n",
       "            2009-12-18 10:47:00       0  \n",
       "            2009-12-18 10:55:00       0  \n",
       "...                                 ...  \n",
       "18287       2010-09-21 12:19:00       0  \n",
       "            2010-11-22 11:51:00       1  \n",
       "            2011-05-22 10:39:00       1  \n",
       "            2011-10-12 10:23:00       1  \n",
       "            2011-10-28 09:29:00       0  \n",
       "\n",
       "[43721 rows x 5 columns]"
      ],
      "text/html": "<div>\n<style scoped>\n    .dataframe tbody tr th:only-of-type {\n        vertical-align: middle;\n    }\n\n    .dataframe tbody tr th {\n        vertical-align: top;\n    }\n\n    .dataframe thead th {\n        text-align: right;\n    }\n</style>\n<table border=\"1\" class=\"dataframe\">\n  <thead>\n    <tr style=\"text-align: right;\">\n      <th></th>\n      <th></th>\n      <th>quantity</th>\n      <th>price</th>\n      <th>total</th>\n      <th>order_ts</th>\n      <th>sparta</th>\n    </tr>\n    <tr>\n      <th>customer_id</th>\n      <th>order_date</th>\n      <th></th>\n      <th></th>\n      <th></th>\n      <th></th>\n      <th></th>\n    </tr>\n  </thead>\n  <tbody>\n    <tr>\n      <th rowspan=\"5\" valign=\"top\">12346</th>\n      <th>2009-12-14 08:34:00</th>\n      <td>10</td>\n      <td>7.4250</td>\n      <td>74.250</td>\n      <td>1.260780e+09</td>\n      <td>0</td>\n    </tr>\n    <tr>\n      <th>2009-12-14 11:00:00</th>\n      <td>5</td>\n      <td>7.4250</td>\n      <td>37.125</td>\n      <td>1.260788e+09</td>\n      <td>0</td>\n    </tr>\n    <tr>\n      <th>2009-12-14 11:02:00</th>\n      <td>5</td>\n      <td>7.4250</td>\n      <td>37.125</td>\n      <td>1.260789e+09</td>\n      <td>0</td>\n    </tr>\n    <tr>\n      <th>2009-12-18 10:47:00</th>\n      <td>5</td>\n      <td>7.4250</td>\n      <td>37.125</td>\n      <td>1.261133e+09</td>\n      <td>0</td>\n    </tr>\n    <tr>\n      <th>2009-12-18 10:55:00</th>\n      <td>1</td>\n      <td>1.6500</td>\n      <td>1.650</td>\n      <td>1.261134e+09</td>\n      <td>0</td>\n    </tr>\n    <tr>\n      <th>...</th>\n      <th>...</th>\n      <td>...</td>\n      <td>...</td>\n      <td>...</td>\n      <td>...</td>\n      <td>...</td>\n    </tr>\n    <tr>\n      <th rowspan=\"5\" valign=\"top\">18287</th>\n      <th>2010-09-21 12:19:00</th>\n      <td>12</td>\n      <td>8.4150</td>\n      <td>50.490</td>\n      <td>2.570143e+09</td>\n      <td>0</td>\n    </tr>\n    <tr>\n      <th>2010-11-22 11:51:00</th>\n      <td>187</td>\n      <td>124.8225</td>\n      <td>629.475</td>\n      <td>1.290427e+10</td>\n      <td>1</td>\n    </tr>\n    <tr>\n      <th>2011-05-22 10:39:00</th>\n      <td>488</td>\n      <td>93.9180</td>\n      <td>1262.712</td>\n      <td>3.787576e+10</td>\n      <td>1</td>\n    </tr>\n    <tr>\n      <th>2011-10-12 10:23:00</th>\n      <td>990</td>\n      <td>75.4050</td>\n      <td>1652.178</td>\n      <td>5.009977e+10</td>\n      <td>1</td>\n    </tr>\n    <tr>\n      <th>2011-10-28 09:29:00</th>\n      <td>108</td>\n      <td>3.1845</td>\n      <td>116.622</td>\n      <td>3.959382e+09</td>\n      <td>0</td>\n    </tr>\n  </tbody>\n</table>\n<p>43721 rows × 5 columns</p>\n</div>"
     },
     "metadata": {},
     "execution_count": 26
    }
   ],
   "source": [
    "by"
   ]
  },
  {
   "cell_type": "code",
   "execution_count": 36,
   "metadata": {},
   "outputs": [
    {
     "output_type": "execute_result",
     "data": {
      "text/plain": [
       "                                 quantity     price        total  \\\n",
       "customer_id order_date                                             \n",
       "12346       2011-01-18 10:01:00     74215    1.7160  127352.9400   \n",
       "12347       2010-10-31 14:20:00       509  121.0440    1009.0245   \n",
       "            2010-12-07 14:57:00       319  147.8235    1174.4535   \n",
       "            2011-01-26 14:30:00       315  120.7305     784.3935   \n",
       "            2011-04-07 10:43:00       483  102.7785    1049.8125   \n",
       "            2011-06-09 13:01:00       196   88.4730     631.1580   \n",
       "            2011-08-02 08:48:00       277  112.5960     965.1015   \n",
       "            2011-10-31 12:25:00       676  199.2540    2135.6280   \n",
       "12348       2010-09-27 14:59:00       373   23.7435     366.5640   \n",
       "            2010-12-16 19:09:00      1254   81.8400    1473.1200   \n",
       "            2011-01-25 10:42:00       601   69.3165     375.2760   \n",
       "            2011-04-05 10:47:00       269   73.5900     605.5500   \n",
       "            2011-09-25 13:13:00       217   70.1250     511.5000   \n",
       "12349       2010-04-29 13:20:00       473  321.0570    1763.0580   \n",
       "            2010-05-18 09:57:00         1  330.0000     330.0000   \n",
       "            2010-10-28 08:23:00       519  793.2540    2314.3230   \n",
       "            2011-11-21 09:51:00       631  998.4150    2899.9575   \n",
       "12350       2011-02-02 16:01:00       197  107.7450     551.7600   \n",
       "12351       2010-11-29 15:23:00       261   81.6090     496.5345   \n",
       "12352       2010-11-29 10:07:00       111   69.5475     330.0825   \n",
       "\n",
       "                                     order_ts  sparta  \n",
       "customer_id order_date                                 \n",
       "12346       2011-01-18 10:01:00  1.295345e+09       1  \n",
       "12347       2010-10-31 14:20:00  5.154139e+10       1  \n",
       "            2010-12-07 14:57:00  4.004375e+10       1  \n",
       "            2011-01-26 14:30:00  3.758551e+10       1  \n",
       "            2011-04-07 10:43:00  3.125215e+10       1  \n",
       "            2011-06-09 13:01:00  2.353724e+10       1  \n",
       "            2011-08-02 08:48:00  2.887005e+10       1  \n",
       "            2011-10-31 12:25:00  6.204300e+10       1  \n",
       "12348       2010-09-27 14:59:00  2.571199e+10       1  \n",
       "            2010-12-16 19:09:00  2.197295e+10       1  \n",
       "            2011-01-25 10:42:00  7.775713e+09       1  \n",
       "            2011-04-05 10:47:00  6.510002e+09       1  \n",
       "            2011-09-25 13:13:00  3.950869e+09       1  \n",
       "12349       2010-04-29 13:20:00  5.853717e+10       1  \n",
       "            2010-05-18 09:57:00  1.274177e+09       1  \n",
       "            2010-10-28 08:23:00  7.085398e+10       1  \n",
       "            2011-11-21 09:51:00  9.649644e+10       1  \n",
       "12350       2011-02-02 16:01:00  2.204326e+10       1  \n",
       "12351       2010-11-29 15:23:00  2.711193e+10       1  \n",
       "12352       2010-11-29 10:07:00  1.549230e+10       1  "
      ],
      "text/html": "<div>\n<style scoped>\n    .dataframe tbody tr th:only-of-type {\n        vertical-align: middle;\n    }\n\n    .dataframe tbody tr th {\n        vertical-align: top;\n    }\n\n    .dataframe thead th {\n        text-align: right;\n    }\n</style>\n<table border=\"1\" class=\"dataframe\">\n  <thead>\n    <tr style=\"text-align: right;\">\n      <th></th>\n      <th></th>\n      <th>quantity</th>\n      <th>price</th>\n      <th>total</th>\n      <th>order_ts</th>\n      <th>sparta</th>\n    </tr>\n    <tr>\n      <th>customer_id</th>\n      <th>order_date</th>\n      <th></th>\n      <th></th>\n      <th></th>\n      <th></th>\n      <th></th>\n    </tr>\n  </thead>\n  <tbody>\n    <tr>\n      <th>12346</th>\n      <th>2011-01-18 10:01:00</th>\n      <td>74215</td>\n      <td>1.7160</td>\n      <td>127352.9400</td>\n      <td>1.295345e+09</td>\n      <td>1</td>\n    </tr>\n    <tr>\n      <th rowspan=\"7\" valign=\"top\">12347</th>\n      <th>2010-10-31 14:20:00</th>\n      <td>509</td>\n      <td>121.0440</td>\n      <td>1009.0245</td>\n      <td>5.154139e+10</td>\n      <td>1</td>\n    </tr>\n    <tr>\n      <th>2010-12-07 14:57:00</th>\n      <td>319</td>\n      <td>147.8235</td>\n      <td>1174.4535</td>\n      <td>4.004375e+10</td>\n      <td>1</td>\n    </tr>\n    <tr>\n      <th>2011-01-26 14:30:00</th>\n      <td>315</td>\n      <td>120.7305</td>\n      <td>784.3935</td>\n      <td>3.758551e+10</td>\n      <td>1</td>\n    </tr>\n    <tr>\n      <th>2011-04-07 10:43:00</th>\n      <td>483</td>\n      <td>102.7785</td>\n      <td>1049.8125</td>\n      <td>3.125215e+10</td>\n      <td>1</td>\n    </tr>\n    <tr>\n      <th>2011-06-09 13:01:00</th>\n      <td>196</td>\n      <td>88.4730</td>\n      <td>631.1580</td>\n      <td>2.353724e+10</td>\n      <td>1</td>\n    </tr>\n    <tr>\n      <th>2011-08-02 08:48:00</th>\n      <td>277</td>\n      <td>112.5960</td>\n      <td>965.1015</td>\n      <td>2.887005e+10</td>\n      <td>1</td>\n    </tr>\n    <tr>\n      <th>2011-10-31 12:25:00</th>\n      <td>676</td>\n      <td>199.2540</td>\n      <td>2135.6280</td>\n      <td>6.204300e+10</td>\n      <td>1</td>\n    </tr>\n    <tr>\n      <th rowspan=\"5\" valign=\"top\">12348</th>\n      <th>2010-09-27 14:59:00</th>\n      <td>373</td>\n      <td>23.7435</td>\n      <td>366.5640</td>\n      <td>2.571199e+10</td>\n      <td>1</td>\n    </tr>\n    <tr>\n      <th>2010-12-16 19:09:00</th>\n      <td>1254</td>\n      <td>81.8400</td>\n      <td>1473.1200</td>\n      <td>2.197295e+10</td>\n      <td>1</td>\n    </tr>\n    <tr>\n      <th>2011-01-25 10:42:00</th>\n      <td>601</td>\n      <td>69.3165</td>\n      <td>375.2760</td>\n      <td>7.775713e+09</td>\n      <td>1</td>\n    </tr>\n    <tr>\n      <th>2011-04-05 10:47:00</th>\n      <td>269</td>\n      <td>73.5900</td>\n      <td>605.5500</td>\n      <td>6.510002e+09</td>\n      <td>1</td>\n    </tr>\n    <tr>\n      <th>2011-09-25 13:13:00</th>\n      <td>217</td>\n      <td>70.1250</td>\n      <td>511.5000</td>\n      <td>3.950869e+09</td>\n      <td>1</td>\n    </tr>\n    <tr>\n      <th rowspan=\"4\" valign=\"top\">12349</th>\n      <th>2010-04-29 13:20:00</th>\n      <td>473</td>\n      <td>321.0570</td>\n      <td>1763.0580</td>\n      <td>5.853717e+10</td>\n      <td>1</td>\n    </tr>\n    <tr>\n      <th>2010-05-18 09:57:00</th>\n      <td>1</td>\n      <td>330.0000</td>\n      <td>330.0000</td>\n      <td>1.274177e+09</td>\n      <td>1</td>\n    </tr>\n    <tr>\n      <th>2010-10-28 08:23:00</th>\n      <td>519</td>\n      <td>793.2540</td>\n      <td>2314.3230</td>\n      <td>7.085398e+10</td>\n      <td>1</td>\n    </tr>\n    <tr>\n      <th>2011-11-21 09:51:00</th>\n      <td>631</td>\n      <td>998.4150</td>\n      <td>2899.9575</td>\n      <td>9.649644e+10</td>\n      <td>1</td>\n    </tr>\n    <tr>\n      <th>12350</th>\n      <th>2011-02-02 16:01:00</th>\n      <td>197</td>\n      <td>107.7450</td>\n      <td>551.7600</td>\n      <td>2.204326e+10</td>\n      <td>1</td>\n    </tr>\n    <tr>\n      <th>12351</th>\n      <th>2010-11-29 15:23:00</th>\n      <td>261</td>\n      <td>81.6090</td>\n      <td>496.5345</td>\n      <td>2.711193e+10</td>\n      <td>1</td>\n    </tr>\n    <tr>\n      <th>12352</th>\n      <th>2010-11-29 10:07:00</th>\n      <td>111</td>\n      <td>69.5475</td>\n      <td>330.0825</td>\n      <td>1.549230e+10</td>\n      <td>1</td>\n    </tr>\n  </tbody>\n</table>\n</div>"
     },
     "metadata": {},
     "execution_count": 36
    }
   ],
   "source": [
    "dy = by[by['sparta'] > 0]\n",
    "dy[:20]"
   ]
  },
  {
   "cell_type": "code",
   "execution_count": 29,
   "metadata": {},
   "outputs": [],
   "source": [
    "agg_dict = {\n",
    "        \"order_ts\": [\"first\", \"last\"],\n",
    "        \"sparta\": [\"sum\",\"count\"],\n",
    "    }"
   ]
  },
  {
   "cell_type": "code",
   "execution_count": 30,
   "metadata": {},
   "outputs": [],
   "source": [
    "dy = dy.groupby(['customer_id']).agg(agg_dict)"
   ]
  },
  {
   "cell_type": "code",
   "execution_count": 17,
   "metadata": {},
   "outputs": [
    {
     "output_type": "execute_result",
     "data": {
      "text/plain": [
       "                 order_ts               sparta      \n",
       "                    first          last    sum count\n",
       "customer_id                                         \n",
       "12346        1.260780e+09  1.295346e+09      1    17\n",
       "12347        5.154139e+10  6.204300e+10      7     7\n",
       "12348        2.571199e+10  3.950869e+09      5     5\n",
       "12349        6.299655e+09  9.649644e+10      4     5\n",
       "12350        2.204326e+10  2.204326e+10      1     1\n",
       "...                   ...           ...    ...   ...\n",
       "18283        5.066399e+10  6.613290e+10      3    21\n",
       "18284        3.601338e+10  1.286368e+09      1     2\n",
       "18285        1.519683e+10  1.519683e+10      1     1\n",
       "18286        2.143633e+10  6.411527e+10      2     3\n",
       "18287        1.259677e+09  3.959382e+09      5     8\n",
       "\n",
       "[5914 rows x 4 columns]"
      ],
      "text/html": "<div>\n<style scoped>\n    .dataframe tbody tr th:only-of-type {\n        vertical-align: middle;\n    }\n\n    .dataframe tbody tr th {\n        vertical-align: top;\n    }\n\n    .dataframe thead tr th {\n        text-align: left;\n    }\n\n    .dataframe thead tr:last-of-type th {\n        text-align: right;\n    }\n</style>\n<table border=\"1\" class=\"dataframe\">\n  <thead>\n    <tr>\n      <th></th>\n      <th colspan=\"2\" halign=\"left\">order_ts</th>\n      <th colspan=\"2\" halign=\"left\">sparta</th>\n    </tr>\n    <tr>\n      <th></th>\n      <th>first</th>\n      <th>last</th>\n      <th>sum</th>\n      <th>count</th>\n    </tr>\n    <tr>\n      <th>customer_id</th>\n      <th></th>\n      <th></th>\n      <th></th>\n      <th></th>\n    </tr>\n  </thead>\n  <tbody>\n    <tr>\n      <th>12346</th>\n      <td>1.260780e+09</td>\n      <td>1.295346e+09</td>\n      <td>1</td>\n      <td>17</td>\n    </tr>\n    <tr>\n      <th>12347</th>\n      <td>5.154139e+10</td>\n      <td>6.204300e+10</td>\n      <td>7</td>\n      <td>7</td>\n    </tr>\n    <tr>\n      <th>12348</th>\n      <td>2.571199e+10</td>\n      <td>3.950869e+09</td>\n      <td>5</td>\n      <td>5</td>\n    </tr>\n    <tr>\n      <th>12349</th>\n      <td>6.299655e+09</td>\n      <td>9.649644e+10</td>\n      <td>4</td>\n      <td>5</td>\n    </tr>\n    <tr>\n      <th>12350</th>\n      <td>2.204326e+10</td>\n      <td>2.204326e+10</td>\n      <td>1</td>\n      <td>1</td>\n    </tr>\n    <tr>\n      <th>...</th>\n      <td>...</td>\n      <td>...</td>\n      <td>...</td>\n      <td>...</td>\n    </tr>\n    <tr>\n      <th>18283</th>\n      <td>5.066399e+10</td>\n      <td>6.613290e+10</td>\n      <td>3</td>\n      <td>21</td>\n    </tr>\n    <tr>\n      <th>18284</th>\n      <td>3.601338e+10</td>\n      <td>1.286368e+09</td>\n      <td>1</td>\n      <td>2</td>\n    </tr>\n    <tr>\n      <th>18285</th>\n      <td>1.519683e+10</td>\n      <td>1.519683e+10</td>\n      <td>1</td>\n      <td>1</td>\n    </tr>\n    <tr>\n      <th>18286</th>\n      <td>2.143633e+10</td>\n      <td>6.411527e+10</td>\n      <td>2</td>\n      <td>3</td>\n    </tr>\n    <tr>\n      <th>18287</th>\n      <td>1.259677e+09</td>\n      <td>3.959382e+09</td>\n      <td>5</td>\n      <td>8</td>\n    </tr>\n  </tbody>\n</table>\n<p>5914 rows × 4 columns</p>\n</div>"
     },
     "metadata": {},
     "execution_count": 17
    }
   ],
   "source": [
    "dy"
   ]
  },
  {
   "cell_type": "code",
   "execution_count": 320,
   "metadata": {},
   "outputs": [
    {
     "output_type": "execute_result",
     "data": {
      "text/plain": [
       "customer_id\n",
       "12346    17\n",
       "12347     7\n",
       "12348     5\n",
       "12349     5\n",
       "12350     1\n",
       "         ..\n",
       "18283    21\n",
       "18284     2\n",
       "18285     1\n",
       "18286     3\n",
       "18287     8\n",
       "Name: (sparta, count), Length: 5914, dtype: int64"
      ]
     },
     "metadata": {},
     "execution_count": 320
    }
   ],
   "source": [
    "by['sparta', 'count']"
   ]
  },
  {
   "cell_type": "code",
   "execution_count": 321,
   "metadata": {},
   "outputs": [],
   "source": [
    "by['sparta_ratio'] = by['sparta', 'sum']/by['sparta', 'count']"
   ]
  },
  {
   "cell_type": "code",
   "execution_count": 322,
   "metadata": {},
   "outputs": [
    {
     "output_type": "execute_result",
     "data": {
      "text/plain": [
       "            quantity            price            total       sparta        \\\n",
       "                 sum count        sum count        sum count    sum count   \n",
       "customer_id                                                                 \n",
       "12346             53    17   936.3750    17   -85.3710    17      1    17   \n",
       "12347           2775     7   892.6995     7  7749.5715     7      7     7   \n",
       "12348           2714     5   318.6150     5  3332.0100     5      5     5   \n",
       "12349           1619     5  2482.5735     5  7267.4910     5      4     5   \n",
       "12350            197     1   107.7450     1   551.7600     1      1     1   \n",
       "...              ...   ...        ...   ...        ...   ...    ...   ...   \n",
       "18283           1537    21  2617.2630    21  4053.8850    21      3    21   \n",
       "18284            493     2   191.5485     2   720.5220     2      1     2   \n",
       "18285            145     1   165.3300     1   704.5500     1      1     1   \n",
       "18286            592     3   505.8075     3  1960.9095     3      2     3   \n",
       "18287           3011     8   575.6685     8  6893.5185     8      5     8   \n",
       "\n",
       "            sparta_ratio  \n",
       "                          \n",
       "customer_id               \n",
       "12346           0.058824  \n",
       "12347           1.000000  \n",
       "12348           1.000000  \n",
       "12349           0.800000  \n",
       "12350           1.000000  \n",
       "...                  ...  \n",
       "18283           0.142857  \n",
       "18284           0.500000  \n",
       "18285           1.000000  \n",
       "18286           0.666667  \n",
       "18287           0.625000  \n",
       "\n",
       "[5914 rows x 9 columns]"
      ],
      "text/html": "<div>\n<style scoped>\n    .dataframe tbody tr th:only-of-type {\n        vertical-align: middle;\n    }\n\n    .dataframe tbody tr th {\n        vertical-align: top;\n    }\n\n    .dataframe thead tr th {\n        text-align: left;\n    }\n\n    .dataframe thead tr:last-of-type th {\n        text-align: right;\n    }\n</style>\n<table border=\"1\" class=\"dataframe\">\n  <thead>\n    <tr>\n      <th></th>\n      <th colspan=\"2\" halign=\"left\">quantity</th>\n      <th colspan=\"2\" halign=\"left\">price</th>\n      <th colspan=\"2\" halign=\"left\">total</th>\n      <th colspan=\"2\" halign=\"left\">sparta</th>\n      <th>sparta_ratio</th>\n    </tr>\n    <tr>\n      <th></th>\n      <th>sum</th>\n      <th>count</th>\n      <th>sum</th>\n      <th>count</th>\n      <th>sum</th>\n      <th>count</th>\n      <th>sum</th>\n      <th>count</th>\n      <th></th>\n    </tr>\n    <tr>\n      <th>customer_id</th>\n      <th></th>\n      <th></th>\n      <th></th>\n      <th></th>\n      <th></th>\n      <th></th>\n      <th></th>\n      <th></th>\n      <th></th>\n    </tr>\n  </thead>\n  <tbody>\n    <tr>\n      <th>12346</th>\n      <td>53</td>\n      <td>17</td>\n      <td>936.3750</td>\n      <td>17</td>\n      <td>-85.3710</td>\n      <td>17</td>\n      <td>1</td>\n      <td>17</td>\n      <td>0.058824</td>\n    </tr>\n    <tr>\n      <th>12347</th>\n      <td>2775</td>\n      <td>7</td>\n      <td>892.6995</td>\n      <td>7</td>\n      <td>7749.5715</td>\n      <td>7</td>\n      <td>7</td>\n      <td>7</td>\n      <td>1.000000</td>\n    </tr>\n    <tr>\n      <th>12348</th>\n      <td>2714</td>\n      <td>5</td>\n      <td>318.6150</td>\n      <td>5</td>\n      <td>3332.0100</td>\n      <td>5</td>\n      <td>5</td>\n      <td>5</td>\n      <td>1.000000</td>\n    </tr>\n    <tr>\n      <th>12349</th>\n      <td>1619</td>\n      <td>5</td>\n      <td>2482.5735</td>\n      <td>5</td>\n      <td>7267.4910</td>\n      <td>5</td>\n      <td>4</td>\n      <td>5</td>\n      <td>0.800000</td>\n    </tr>\n    <tr>\n      <th>12350</th>\n      <td>197</td>\n      <td>1</td>\n      <td>107.7450</td>\n      <td>1</td>\n      <td>551.7600</td>\n      <td>1</td>\n      <td>1</td>\n      <td>1</td>\n      <td>1.000000</td>\n    </tr>\n    <tr>\n      <th>...</th>\n      <td>...</td>\n      <td>...</td>\n      <td>...</td>\n      <td>...</td>\n      <td>...</td>\n      <td>...</td>\n      <td>...</td>\n      <td>...</td>\n      <td>...</td>\n    </tr>\n    <tr>\n      <th>18283</th>\n      <td>1537</td>\n      <td>21</td>\n      <td>2617.2630</td>\n      <td>21</td>\n      <td>4053.8850</td>\n      <td>21</td>\n      <td>3</td>\n      <td>21</td>\n      <td>0.142857</td>\n    </tr>\n    <tr>\n      <th>18284</th>\n      <td>493</td>\n      <td>2</td>\n      <td>191.5485</td>\n      <td>2</td>\n      <td>720.5220</td>\n      <td>2</td>\n      <td>1</td>\n      <td>2</td>\n      <td>0.500000</td>\n    </tr>\n    <tr>\n      <th>18285</th>\n      <td>145</td>\n      <td>1</td>\n      <td>165.3300</td>\n      <td>1</td>\n      <td>704.5500</td>\n      <td>1</td>\n      <td>1</td>\n      <td>1</td>\n      <td>1.000000</td>\n    </tr>\n    <tr>\n      <th>18286</th>\n      <td>592</td>\n      <td>3</td>\n      <td>505.8075</td>\n      <td>3</td>\n      <td>1960.9095</td>\n      <td>3</td>\n      <td>2</td>\n      <td>3</td>\n      <td>0.666667</td>\n    </tr>\n    <tr>\n      <th>18287</th>\n      <td>3011</td>\n      <td>8</td>\n      <td>575.6685</td>\n      <td>8</td>\n      <td>6893.5185</td>\n      <td>8</td>\n      <td>5</td>\n      <td>8</td>\n      <td>0.625000</td>\n    </tr>\n  </tbody>\n</table>\n<p>5914 rows × 9 columns</p>\n</div>"
     },
     "metadata": {},
     "execution_count": 322
    }
   ],
   "source": [
    "by"
   ]
  },
  {
   "cell_type": "code",
   "execution_count": 323,
   "metadata": {},
   "outputs": [
    {
     "output_type": "execute_result",
     "data": {
      "text/plain": [
       "customer_id\n",
       "12346    1\n",
       "12347    7\n",
       "12348    5\n",
       "12349    4\n",
       "12350    1\n",
       "        ..\n",
       "18283    3\n",
       "18284    1\n",
       "18285    1\n",
       "18286    2\n",
       "18287    5\n",
       "Name: (sparta, sum), Length: 5914, dtype: int64"
      ]
     },
     "metadata": {},
     "execution_count": 323
    }
   ],
   "source": [
    "by['sparta', 'sum']"
   ]
  },
  {
   "cell_type": "code",
   "execution_count": 324,
   "metadata": {},
   "outputs": [
    {
     "output_type": "execute_result",
     "data": {
      "text/plain": [
       "customer_id\n",
       "12346    0.058824\n",
       "12347    1.000000\n",
       "12348    1.000000\n",
       "12349    0.800000\n",
       "12350    1.000000\n",
       "           ...   \n",
       "18283    0.142857\n",
       "18284    0.500000\n",
       "18285    1.000000\n",
       "18286    0.666667\n",
       "18287    0.625000\n",
       "Name: sparta_ratio, Length: 5914, dtype: float64"
      ]
     },
     "metadata": {},
     "execution_count": 324
    }
   ],
   "source": [
    "by['sparta_ratio']"
   ]
  },
  {
   "cell_type": "code",
   "execution_count": 328,
   "metadata": {},
   "outputs": [
    {
     "output_type": "execute_result",
     "data": {
      "text/plain": [
       "             sparta  sparta_ratio\n",
       "customer_id                      \n",
       "12346             1      0.058824\n",
       "12347             7      1.000000\n",
       "12348             5      1.000000\n",
       "12349             4      0.800000\n",
       "12350             1      1.000000\n",
       "...             ...           ...\n",
       "18283             3      0.142857\n",
       "18284             1      0.500000\n",
       "18285             1      1.000000\n",
       "18286             2      0.666667\n",
       "18287             5      0.625000\n",
       "\n",
       "[5914 rows x 2 columns]"
      ],
      "text/html": "<div>\n<style scoped>\n    .dataframe tbody tr th:only-of-type {\n        vertical-align: middle;\n    }\n\n    .dataframe tbody tr th {\n        vertical-align: top;\n    }\n\n    .dataframe thead th {\n        text-align: right;\n    }\n</style>\n<table border=\"1\" class=\"dataframe\">\n  <thead>\n    <tr style=\"text-align: right;\">\n      <th></th>\n      <th>sparta</th>\n      <th>sparta_ratio</th>\n    </tr>\n    <tr>\n      <th>customer_id</th>\n      <th></th>\n      <th></th>\n    </tr>\n  </thead>\n  <tbody>\n    <tr>\n      <th>12346</th>\n      <td>1</td>\n      <td>0.058824</td>\n    </tr>\n    <tr>\n      <th>12347</th>\n      <td>7</td>\n      <td>1.000000</td>\n    </tr>\n    <tr>\n      <th>12348</th>\n      <td>5</td>\n      <td>1.000000</td>\n    </tr>\n    <tr>\n      <th>12349</th>\n      <td>4</td>\n      <td>0.800000</td>\n    </tr>\n    <tr>\n      <th>12350</th>\n      <td>1</td>\n      <td>1.000000</td>\n    </tr>\n    <tr>\n      <th>...</th>\n      <td>...</td>\n      <td>...</td>\n    </tr>\n    <tr>\n      <th>18283</th>\n      <td>3</td>\n      <td>0.142857</td>\n    </tr>\n    <tr>\n      <th>18284</th>\n      <td>1</td>\n      <td>0.500000</td>\n    </tr>\n    <tr>\n      <th>18285</th>\n      <td>1</td>\n      <td>1.000000</td>\n    </tr>\n    <tr>\n      <th>18286</th>\n      <td>2</td>\n      <td>0.666667</td>\n    </tr>\n    <tr>\n      <th>18287</th>\n      <td>5</td>\n      <td>0.625000</td>\n    </tr>\n  </tbody>\n</table>\n<p>5914 rows × 2 columns</p>\n</div>"
     },
     "metadata": {},
     "execution_count": 328
    }
   ],
   "source": [
    "by = pd.DataFrame({'sparta':by['sparta', 'sum'], 'sparta_ratio':by['sparta_ratio']})\n",
    "by"
   ]
  },
  {
   "cell_type": "code",
   "execution_count": 351,
   "metadata": {},
   "outputs": [
    {
     "output_type": "execute_result",
     "data": {
      "text/plain": [
       "pandas.core.frame.DataFrame"
      ]
     },
     "metadata": {},
     "execution_count": 351
    }
   ],
   "source": [
    "asd = pd.DataFrame(by[\"sparta\"])\n",
    "type(asd)"
   ]
  },
  {
   "cell_type": "code",
   "execution_count": null,
   "metadata": {},
   "outputs": [],
   "source": []
  }
 ]
}