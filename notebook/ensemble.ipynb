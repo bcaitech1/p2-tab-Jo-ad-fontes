{
 "metadata": {
  "language_info": {
   "codemirror_mode": {
    "name": "ipython",
    "version": 3
   },
   "file_extension": ".py",
   "mimetype": "text/x-python",
   "name": "python",
   "nbconvert_exporter": "python",
   "pygments_lexer": "ipython3",
   "version": "3.7.7"
  },
  "orig_nbformat": 2,
  "kernelspec": {
   "name": "python377jvsc74a57bd098b0a9b7b4eaaa670588a142fd0a9b87eaafe866f1db4228be72b4211d12040f",
   "display_name": "Python 3.7.7 64-bit ('base': conda)"
  }
 },
 "nbformat": 4,
 "nbformat_minor": 2,
 "cells": [
  {
   "cell_type": "code",
   "execution_count": 21,
   "metadata": {},
   "outputs": [],
   "source": [
    "import pandas as pd"
   ]
  },
  {
   "cell_type": "code",
   "execution_count": 22,
   "metadata": {},
   "outputs": [],
   "source": [
    "VERSION = 1.0\n",
    "lgbm = pd.read_csv(f'/opt/ml/code/output/lgbm_best_v{VERSION}.csv')\n",
    "cat = pd.read_csv(f'/opt/ml/code/output/cat_best_v{VERSION}.csv')\n",
    "xgb = pd.read_csv(f'/opt/ml/code/output/xgb_best_v{VERSION}.csv')\n",
    "submission = pd.read_csv('/opt/ml/code/input/sample_submission.csv')"
   ]
  },
  {
   "cell_type": "code",
   "execution_count": 23,
   "metadata": {},
   "outputs": [],
   "source": [
    "ensemble = (lgbm.probability + cat.probability + xgb.probability)/3"
   ]
  },
  {
   "cell_type": "code",
   "execution_count": 24,
   "metadata": {},
   "outputs": [],
   "source": [
    "submission[\"probability\"] = ensemble"
   ]
  },
  {
   "cell_type": "code",
   "execution_count": 25,
   "metadata": {},
   "outputs": [],
   "source": [
    "submission.to_csv(f'/opt/ml/code/output/last/final_v{VERSION}.csv', index=False)"
   ]
  },
  {
   "cell_type": "code",
   "execution_count": 26,
   "metadata": {},
   "outputs": [],
   "source": [
    "VERSION = 1.1\n",
    "lgbm = pd.read_csv(f'/opt/ml/code/output/lgbm_best_v{VERSION}.csv')\n",
    "cat = pd.read_csv(f'/opt/ml/code/output/cat_best_v{VERSION}.csv')\n",
    "xgb = pd.read_csv(f'/opt/ml/code/output/xgb_best_v{VERSION}.csv')\n",
    "submission = pd.read_csv('/opt/ml/code/input/sample_submission.csv')\n",
    "\n",
    "ensemble = (lgbm.probability + cat.probability + xgb.probability)/3\n",
    "\n",
    "submission[\"probability\"] = ensemble\n",
    "\n",
    "submission.to_csv(f'/opt/ml/code/output/last/final_v{VERSION}.csv', index=False)"
   ]
  },
  {
   "cell_type": "code",
   "execution_count": 27,
   "metadata": {},
   "outputs": [],
   "source": [
    "VERSION = 1.3\n",
    "lgbm = pd.read_csv(f'/opt/ml/code/output/lgbm_best_v{VERSION}.csv')\n",
    "cat = pd.read_csv(f'/opt/ml/code/output/cat_best_v{VERSION}.csv')\n",
    "xgb = pd.read_csv(f'/opt/ml/code/output/xgb_best_v{VERSION}.csv')\n",
    "submission = pd.read_csv('/opt/ml/code/input/sample_submission.csv')\n",
    "\n",
    "ensemble = (lgbm.probability + cat.probability + xgb.probability)/3\n",
    "\n",
    "submission[\"probability\"] = ensemble\n",
    "\n",
    "submission.to_csv(f'/opt/ml/code/output/last/final_v{VERSION}.csv', index=False)"
   ]
  },
  {
   "source": [
    "# ~~강한형들~~ 약한애들"
   ],
   "cell_type": "markdown",
   "metadata": {}
  },
  {
   "cell_type": "code",
   "execution_count": 41,
   "metadata": {},
   "outputs": [],
   "source": [
    "lgbm = pd.read_csv('/opt/ml/code/output/low/lgbm_update_v2.0_orgin_pram.csv')\n",
    "cat = pd.read_csv('/opt/ml/code/output/low/cat_update_v2.0_orgin_pram.csv')\n",
    "xgb = pd.read_csv('/opt/ml/code/output/xgb_best_v1.1.csv')\n",
    "submission = pd.read_csv('/opt/ml/code/input/sample_submission.csv')\n",
    "\n",
    "ensemble = (lgbm.probability + cat.probability + xgb.probability)/3\n",
    "\n",
    "submission[\"probability\"] = ensemble\n",
    "\n",
    "submission.to_csv(f'/opt/ml/code/output/last/final_power_f1.csv', index=False)"
   ]
  },
  {
   "cell_type": "code",
   "execution_count": 40,
   "metadata": {},
   "outputs": [],
   "source": [
    "cat = pd.read_csv('/opt/ml/code/output/low/cat_update_v2.0_orgin_pram.csv')\n",
    "xgb = pd.read_csv('/opt/ml/code/output/xgb_best_v1.1.csv')\n",
    "submission = pd.read_csv('/opt/ml/code/input/sample_submission.csv')\n",
    "\n",
    "ensemble = (cat.probability + xgb.probability)/2\n",
    "\n",
    "submission[\"probability\"] = ensemble\n",
    "\n",
    "submission.to_csv(f'/opt/ml/code/output/last/final_goobye_lgbm.csv', index=False)"
   ]
  },
  {
   "source": [
    "# "
   ],
   "cell_type": "markdown",
   "metadata": {}
  },
  {
   "cell_type": "code",
   "execution_count": 31,
   "metadata": {},
   "outputs": [],
   "source": [
    "df = pd.read_csv('/opt/ml/code/input/train.csv')\n",
    "remove = df[df.product_id.isin(['ADJUST', 'ADJUST2', 'TEST001', 'TEST002'])].customer_id.unique()"
   ]
  },
  {
   "cell_type": "code",
   "execution_count": 38,
   "metadata": {},
   "outputs": [
    {
     "output_type": "execute_result",
     "data": {
      "text/plain": [
       "      customer_id  probability\n",
       "1737        14096     0.883971"
      ],
      "text/html": "<div>\n<style scoped>\n    .dataframe tbody tr th:only-of-type {\n        vertical-align: middle;\n    }\n\n    .dataframe tbody tr th {\n        vertical-align: top;\n    }\n\n    .dataframe thead th {\n        text-align: right;\n    }\n</style>\n<table border=\"1\" class=\"dataframe\">\n  <thead>\n    <tr style=\"text-align: right;\">\n      <th></th>\n      <th>customer_id</th>\n      <th>probability</th>\n    </tr>\n  </thead>\n  <tbody>\n    <tr>\n      <th>1737</th>\n      <td>14096</td>\n      <td>0.883971</td>\n    </tr>\n  </tbody>\n</table>\n</div>"
     },
     "metadata": {},
     "execution_count": 38
    }
   ],
   "source": [
    "submission[submission.customer_id.isin([14096])]"
   ]
  },
  {
   "cell_type": "code",
   "execution_count": 36,
   "metadata": {},
   "outputs": [
    {
     "output_type": "execute_result",
     "data": {
      "text/plain": [
       "       order_id product_id                         description  quantity  \\\n",
       "624744   564764     16207B              PINK HEART RED HANDBAG         1   \n",
       "624745   564764      16225                   RATTLE SNAKE EGGS         1   \n",
       "624746   564764      16254  TRANSPARENT ACRYLIC TAPE DISPENSER         1   \n",
       "624747   564764     84249A     GREETING CARD,SQUARE, DOUGHNUTS         1   \n",
       "624748   564764     84659A            WHITE TRAVEL ALARM CLOCK         2   \n",
       "...         ...        ...                                 ...       ...   \n",
       "775602   579196      21754            HOME BUILDING BLOCK WORD         1   \n",
       "775603   579196      21756            BATH BUILDING BLOCK WORD         1   \n",
       "775604   579196      21786                  POLKADOT RAIN HAT          4   \n",
       "775605   579196      21790                  VINTAGE SNAP CARDS        25   \n",
       "775606   579196      21791  VINTAGE HEADS AND TAILS CARD GAME          9   \n",
       "\n",
       "                 order_date    price  customer_id         country    total  \n",
       "624744  2011-08-30 10:49:00   4.0590        14096  United Kingdom   4.0590  \n",
       "624745  2011-08-30 10:49:00   5.4285        14096  United Kingdom   5.4285  \n",
       "624746  2011-08-30 10:49:00   2.6895        14096  United Kingdom   2.6895  \n",
       "624747  2011-08-30 10:49:00   1.3695        14096  United Kingdom   1.3695  \n",
       "624748  2011-08-30 10:49:00   2.0295        14096  United Kingdom   4.0590  \n",
       "...                     ...      ...          ...             ...      ...  \n",
       "775602  2011-11-28 15:54:00  19.1895        14096  United Kingdom  19.1895  \n",
       "775603  2011-11-28 15:54:00  19.1895        14096  United Kingdom  19.1895  \n",
       "775604  2011-11-28 15:54:00   1.3695        14096  United Kingdom   5.4780  \n",
       "775605  2011-11-28 15:54:00   2.6895        14096  United Kingdom  67.2375  \n",
       "775606  2011-11-28 15:54:00   4.0590        14096  United Kingdom  36.5310  \n",
       "\n",
       "[4598 rows x 9 columns]"
      ],
      "text/html": "<div>\n<style scoped>\n    .dataframe tbody tr th:only-of-type {\n        vertical-align: middle;\n    }\n\n    .dataframe tbody tr th {\n        vertical-align: top;\n    }\n\n    .dataframe thead th {\n        text-align: right;\n    }\n</style>\n<table border=\"1\" class=\"dataframe\">\n  <thead>\n    <tr style=\"text-align: right;\">\n      <th></th>\n      <th>order_id</th>\n      <th>product_id</th>\n      <th>description</th>\n      <th>quantity</th>\n      <th>order_date</th>\n      <th>price</th>\n      <th>customer_id</th>\n      <th>country</th>\n      <th>total</th>\n    </tr>\n  </thead>\n  <tbody>\n    <tr>\n      <th>624744</th>\n      <td>564764</td>\n      <td>16207B</td>\n      <td>PINK HEART RED HANDBAG</td>\n      <td>1</td>\n      <td>2011-08-30 10:49:00</td>\n      <td>4.0590</td>\n      <td>14096</td>\n      <td>United Kingdom</td>\n      <td>4.0590</td>\n    </tr>\n    <tr>\n      <th>624745</th>\n      <td>564764</td>\n      <td>16225</td>\n      <td>RATTLE SNAKE EGGS</td>\n      <td>1</td>\n      <td>2011-08-30 10:49:00</td>\n      <td>5.4285</td>\n      <td>14096</td>\n      <td>United Kingdom</td>\n      <td>5.4285</td>\n    </tr>\n    <tr>\n      <th>624746</th>\n      <td>564764</td>\n      <td>16254</td>\n      <td>TRANSPARENT ACRYLIC TAPE DISPENSER</td>\n      <td>1</td>\n      <td>2011-08-30 10:49:00</td>\n      <td>2.6895</td>\n      <td>14096</td>\n      <td>United Kingdom</td>\n      <td>2.6895</td>\n    </tr>\n    <tr>\n      <th>624747</th>\n      <td>564764</td>\n      <td>84249A</td>\n      <td>GREETING CARD,SQUARE, DOUGHNUTS</td>\n      <td>1</td>\n      <td>2011-08-30 10:49:00</td>\n      <td>1.3695</td>\n      <td>14096</td>\n      <td>United Kingdom</td>\n      <td>1.3695</td>\n    </tr>\n    <tr>\n      <th>624748</th>\n      <td>564764</td>\n      <td>84659A</td>\n      <td>WHITE TRAVEL ALARM CLOCK</td>\n      <td>2</td>\n      <td>2011-08-30 10:49:00</td>\n      <td>2.0295</td>\n      <td>14096</td>\n      <td>United Kingdom</td>\n      <td>4.0590</td>\n    </tr>\n    <tr>\n      <th>...</th>\n      <td>...</td>\n      <td>...</td>\n      <td>...</td>\n      <td>...</td>\n      <td>...</td>\n      <td>...</td>\n      <td>...</td>\n      <td>...</td>\n      <td>...</td>\n    </tr>\n    <tr>\n      <th>775602</th>\n      <td>579196</td>\n      <td>21754</td>\n      <td>HOME BUILDING BLOCK WORD</td>\n      <td>1</td>\n      <td>2011-11-28 15:54:00</td>\n      <td>19.1895</td>\n      <td>14096</td>\n      <td>United Kingdom</td>\n      <td>19.1895</td>\n    </tr>\n    <tr>\n      <th>775603</th>\n      <td>579196</td>\n      <td>21756</td>\n      <td>BATH BUILDING BLOCK WORD</td>\n      <td>1</td>\n      <td>2011-11-28 15:54:00</td>\n      <td>19.1895</td>\n      <td>14096</td>\n      <td>United Kingdom</td>\n      <td>19.1895</td>\n    </tr>\n    <tr>\n      <th>775604</th>\n      <td>579196</td>\n      <td>21786</td>\n      <td>POLKADOT RAIN HAT</td>\n      <td>4</td>\n      <td>2011-11-28 15:54:00</td>\n      <td>1.3695</td>\n      <td>14096</td>\n      <td>United Kingdom</td>\n      <td>5.4780</td>\n    </tr>\n    <tr>\n      <th>775605</th>\n      <td>579196</td>\n      <td>21790</td>\n      <td>VINTAGE SNAP CARDS</td>\n      <td>25</td>\n      <td>2011-11-28 15:54:00</td>\n      <td>2.6895</td>\n      <td>14096</td>\n      <td>United Kingdom</td>\n      <td>67.2375</td>\n    </tr>\n    <tr>\n      <th>775606</th>\n      <td>579196</td>\n      <td>21791</td>\n      <td>VINTAGE HEADS AND TAILS CARD GAME</td>\n      <td>9</td>\n      <td>2011-11-28 15:54:00</td>\n      <td>4.0590</td>\n      <td>14096</td>\n      <td>United Kingdom</td>\n      <td>36.5310</td>\n    </tr>\n  </tbody>\n</table>\n<p>4598 rows × 9 columns</p>\n</div>"
     },
     "metadata": {},
     "execution_count": 36
    }
   ],
   "source": [
    "df[df.customer_id.isin([14096])]"
   ]
  },
  {
   "cell_type": "code",
   "execution_count": null,
   "metadata": {},
   "outputs": [],
   "source": []
  }
 ]
}